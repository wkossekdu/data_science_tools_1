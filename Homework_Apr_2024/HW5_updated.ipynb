{
 "cells": [
  {
   "cell_type": "markdown",
   "id": "931380fd",
   "metadata": {},
   "source": [
    "## HW5: Webscraping and Pandas\n",
    "\n",
    "Note that this is a modified version of HW5.  The first part, concerning the use of selenium, is just for your edification."
   ]
  },
  {
   "cell_type": "code",
   "execution_count": null,
   "id": "fc1fbc02",
   "metadata": {},
   "outputs": [],
   "source": [
    "from bs4 import BeautifulSoup as bsoup\n",
    "import requests\n",
    "from time import sleep\n",
    "from selenium import webdriver\n",
    "from selenium.webdriver.chrome.service import Service\n",
    "from selenium.webdriver.common.by import By\n",
    "from selenium.webdriver.common.keys import Keys"
   ]
  },
  {
   "cell_type": "markdown",
   "id": "073e8d77",
   "metadata": {},
   "source": [
    "#### Note that you need the driver binaries in a system path.  To view those paths you can run the following shell command."
   ]
  },
  {
   "cell_type": "code",
   "execution_count": null,
   "id": "9513d72c",
   "metadata": {},
   "outputs": [],
   "source": [
    "!echo $PATH"
   ]
  },
  {
   "cell_type": "markdown",
   "id": "4e67bd97",
   "metadata": {},
   "source": [
    "#### Setting the service object and initializing the driver."
   ]
  },
  {
   "cell_type": "code",
   "execution_count": null,
   "id": "05063dd7",
   "metadata": {},
   "outputs": [],
   "source": [
    "s = Service('chromedriver.exe')\n",
    "driver = webdriver.Chrome(service=s)\n",
    "driver.get('https://weather.com/')\n",
    "\n",
    "soup = bsoup(driver.page_source, 'lxml')"
   ]
  },
  {
   "cell_type": "code",
   "execution_count": null,
   "id": "e0d58144",
   "metadata": {},
   "outputs": [],
   "source": [
    "search_string = 'USA, 80208'\n",
    "zipsearch = driver.find_element(By.ID, \"LocationSearch_input\")\n",
    "zipsearch.send_keys(search_string)\n",
    "sleep(10)\n",
    "driver.find_element(By.XPATH, '//*[@id=\"LocationSearch_listbox-0\"]').click()"
   ]
  },
  {
   "cell_type": "markdown",
   "id": "5dd59f26",
   "metadata": {},
   "source": [
    "## The Actual Assignment Starts Here (9 points total)\n",
    "\n",
    "### Monthly weather can be accessed through weather.com by passing lat and lon coordinates in the URL.  For this assignment we will specify one pair of lat/lon coordinates and scrape the montly weather data from that page.  See below for an example url. Note that we could easily extend this by specifying a list of tuples and iterating over those coordinate pairs.\n",
    "\n",
    "__For this part, all you need to do is specify lat/lon coords and make a good request.__ (1 point)\n",
    "\n",
    "https://weather.com/weather/monthly/l/39.7393,-104.9844"
   ]
  },
  {
   "cell_type": "code",
   "execution_count": null,
   "id": "ead814cd",
   "metadata": {},
   "outputs": [],
   "source": [
    "locations = (39.7392, -104.9902) # your tuple of lat/lon coords.\n",
    "\n",
    "base_url = \"https://weather.com/weather/monthly/l/\"\n",
    "temp_url = base_url + str(locations[0]) + ',' + str(locations[1])\n",
    "\n",
    "response = requests.get(temp_url)"
   ]
  },
  {
   "cell_type": "code",
   "execution_count": null,
   "id": "d02cd374",
   "metadata": {},
   "outputs": [],
   "source": [
    "response.status_code"
   ]
  },
  {
   "cell_type": "code",
   "execution_count": null,
   "id": "a71b4752",
   "metadata": {},
   "outputs": [],
   "source": [
    "soup = bsoup(response.text, 'lxml')"
   ]
  },
  {
   "cell_type": "code",
   "execution_count": null,
   "id": "f1e8ca7e",
   "metadata": {},
   "outputs": [],
   "source": [
    "print(soup.prettify())"
   ]
  },
  {
   "cell_type": "markdown",
   "id": "d42afff9",
   "metadata": {},
   "source": [
    "#### Below, to get you started I've run find_all using a very basic regex to match the class name we're concerned with."
   ]
  },
  {
   "cell_type": "code",
   "execution_count": null,
   "id": "ad072723",
   "metadata": {},
   "outputs": [],
   "source": [
    "import re\n",
    "\n",
    "cal = soup.find_all('button', {'class': re.compile('Button--default--3zkvy CalendarDateCell*')})"
   ]
  },
  {
   "cell_type": "markdown",
   "id": "f7df45b4",
   "metadata": {},
   "source": [
    "#### Below we're printing out the information comprising a single calendar day."
   ]
  },
  {
   "cell_type": "code",
   "execution_count": null,
   "id": "723f0b77",
   "metadata": {},
   "outputs": [],
   "source": [
    "print(cal[0])"
   ]
  },
  {
   "cell_type": "markdown",
   "id": "7306037f",
   "metadata": {},
   "source": [
    "### We can continue to use bs4 to parse these data, or we can cast the elements in cal (our days) to str and use str methods to parse.  This is up to you.\n",
    "\n",
    "_**Pull out the following information for each day and store them in a Pandas DataFrame:**_  (3 points)\n",
    "\n",
    "-month: The month component of the date.  Note date is expressed as month/day. For example, 9/25.\n",
    "\n",
    "-day: Numerical day of the month\n",
    "\n",
    "-moon_phase: Day n\n",
    "\n",
    "-weather_desc: (e.g., mostly cloudy, sunny, rain, etc.)\n",
    "\n",
    "_**Also build a new feature, day, which will represent the day of the week (e.g., Monday, Tuesday, etc.)\n",
    "This information isn't included in the text, but can be computed. Retain the weather_desc feature. **_ (1 point)"
   ]
  },
  {
   "cell_type": "code",
   "execution_count": null,
   "id": "0d6d785e",
   "metadata": {},
   "outputs": [],
   "source": [
    "# Your Code Here...Feel free to use multiple cells."
   ]
  },
  {
   "cell_type": "markdown",
   "id": "bfa12d71",
   "metadata": {},
   "source": [
    "### Now build the following feature:\n",
    "\n",
    "-temp_diff: The difference between the high and low daily temperature. (1 point)"
   ]
  },
  {
   "cell_type": "code",
   "execution_count": null,
   "id": "2d2bd371",
   "metadata": {},
   "outputs": [],
   "source": [
    "# Your Code Here"
   ]
  },
  {
   "cell_type": "markdown",
   "id": "9993d220",
   "metadata": {},
   "source": [
    "### Build Dummy Variables to represent weather_desc.  These are binary features.  You will have one for each of the unique categories in weather_desc.  These categories only need to represent the data that you have scraped. \n",
    "(1 point)"
   ]
  },
  {
   "cell_type": "code",
   "execution_count": null,
   "id": "a0ad8fb4",
   "metadata": {},
   "outputs": [],
   "source": [
    "# Your Code Here"
   ]
  },
  {
   "cell_type": "markdown",
   "id": "92b3740e",
   "metadata": {},
   "source": [
    "#### Use your DataFrame to answer the following questsions.\n",
    "\n",
    "__Using only the data you collected from a single page (42 days).  What is the average high temperature for each month?__ (1 point)"
   ]
  },
  {
   "cell_type": "code",
   "execution_count": null,
   "id": "06ff55ce",
   "metadata": {},
   "outputs": [],
   "source": [
    "# Your Code Here"
   ]
  },
  {
   "cell_type": "markdown",
   "id": "780725b4",
   "metadata": {},
   "source": [
    "__Pivot your DataFrame to show the average high temperature over the entire dataset by the weather_desc categories__ (1 point)"
   ]
  },
  {
   "cell_type": "code",
   "execution_count": null,
   "id": "8bd31c58",
   "metadata": {},
   "outputs": [],
   "source": [
    "# Your Code Here"
   ]
  }
 ],
 "metadata": {
  "kernelspec": {
   "display_name": "tools_venv",
   "language": "python",
   "name": "tools_venv"
  },
  "language_info": {
   "codemirror_mode": {
    "name": "ipython",
    "version": 3
   },
   "file_extension": ".py",
   "mimetype": "text/x-python",
   "name": "python",
   "nbconvert_exporter": "python",
   "pygments_lexer": "ipython3",
   "version": "3.8.10"
  }
 },
 "nbformat": 4,
 "nbformat_minor": 5
}
