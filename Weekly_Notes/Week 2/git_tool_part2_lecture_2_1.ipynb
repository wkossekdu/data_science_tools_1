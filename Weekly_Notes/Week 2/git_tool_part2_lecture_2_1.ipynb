{
 "cells": [
  {
   "cell_type": "markdown",
   "metadata": {
    "slideshow": {
     "slide_type": "slide"
    }
   },
   "source": [
    "# A practical git scenario \n",
    "## Merge conflict, tagging, renaming  and  correcting commit mistakes"
   ]
  },
  {
   "cell_type": "markdown",
   "metadata": {
    "slideshow": {
     "slide_type": "subslide"
    }
   },
   "source": [
    "# Merge conflict\n",
    "\n",
    "When pulling from remote repository, we can get conflict sometimes. Git does a pretty good job at handling conflict, but sometimes manual intervention is required. We will resume from last feature upgrade (adding +1 in range)"
   ]
  },
  {
   "cell_type": "markdown",
   "metadata": {
    "slideshow": {
     "slide_type": "subslide"
    }
   },
   "source": [
    "# Demo for merge conflict\n",
    "- Go to gihub.com and analysis_of_world_bank_data repository (I am sorry, but this repository does not seem to exist anymore)\n",
    "    + change function change documentation for return default power of 2\n",
    "- Locally create a feature branch apply_lambda_list. test, add and commit\n",
    "- git diff master apply_lambda_list to see diference with local master\n",
    "- git fetch, git diff origin/master apply_lambda_list to see difference with remote\n",
    "- git checkout master, git branch --no-merged\n",
    "- git merge, resolve conflict\n",
    "- git add and git commit\n",
    "- git push origin master to push changes"
   ]
  },
  {
   "cell_type": "markdown",
   "metadata": {
    "slideshow": {
     "slide_type": "subslide"
    }
   },
   "source": [
    "# Difference fetch and pull"
   ]
  },
  {
   "cell_type": "markdown",
   "metadata": {
    "slideshow": {
     "slide_type": "subslide"
    }
   },
   "source": [
    "- You can do a git fetch at any time to update your remote-tracking branches\n",
    "- Incorporates changes from a remote repository into the current branch. \n",
    "\n",
    "git pull = git fetch + git merge\n",
    "\n"
   ]
  },
  {
   "cell_type": "markdown",
   "metadata": {
    "slideshow": {
     "slide_type": "subslide"
    }
   },
   "source": [
    "# tagging\n",
    "- To tag specific points in history as being important.  It label and mark a specific commit in the history.\n",
    "- Typically used for release. v1.0 v1.1 etc\n",
    "- Git supports two types of tags: lightweight and annotated\n",
    "\n",
    "**Lighweight:** Can think of it as branch which doesn't change\n",
    "\n",
    "**Annotated tag:** Objects in git database which are checksummed; contain the tagger name, email, and date; have a tagging message.\n"
   ]
  },
  {
   "cell_type": "markdown",
   "metadata": {
    "slideshow": {
     "slide_type": "subslide"
    }
   },
   "source": [
    "# Demo for annotated tag\n",
    "- **git tag**  to list tags\n",
    "- **git tag -a v1.0 -m \"tagging message\"** used -a for annotated tag\n",
    "- **git tag** to list annotated tag\n",
    "- Go to remote repository in github.com and see exisiting tags\n",
    "- **git push origin tag_label** to push to server.\n",
    "- verify tag in remote repository\n",
    "\n",
    "*We'll use annotated tag for different milestones in the final project life cycle.* Usually a Homework will ask\n",
    "you do to so."
   ]
  },
  {
   "cell_type": "markdown",
   "metadata": {
    "slideshow": {
     "slide_type": "subslide"
    }
   },
   "source": [
    "# Demo cont.\n",
    "- modify code in master, commit and push\n",
    "- git checkout  tags/V1.0 . Puts you in detached state. can play around and checkout to a branch to keep changes or \n",
    "     + git checkout  tags/V1.0 -b release_fix to checkout from a tagged release\n",
    "\n"
   ]
  },
  {
   "cell_type": "markdown",
   "metadata": {
    "slideshow": {
     "slide_type": "subslide"
    }
   },
   "source": [
    "# Rename or remove a file tracked by git.\n",
    "\n",
    "Do you remember Linux commands to do above operations?\n"
   ]
  },
  {
   "cell_type": "markdown",
   "metadata": {
    "slideshow": {
     "slide_type": "fragment"
    }
   },
   "source": [
    "- Use **git rm and mv** to remove or rename file.\n",
    "- Use **git clean -df** to remove untracked file."
   ]
  },
  {
   "cell_type": "markdown",
   "metadata": {
    "slideshow": {
     "slide_type": "fragment"
    }
   },
   "source": [
    "Link to [git clean](https://git-scm.com/docs/git-clean) documentation. Reading documentation helps to know the  command in full detail."
   ]
  },
  {
   "cell_type": "markdown",
   "metadata": {
    "slideshow": {
     "slide_type": "slide"
    }
   },
   "source": [
    "# Correcting common git mistakes\n",
    "## What if we don't like change\n",
    "\n",
    "Do **git checkout file_name** in working directory to get rid of the changes."
   ]
  },
  {
   "cell_type": "markdown",
   "metadata": {
    "slideshow": {
     "slide_type": "subslide"
    }
   },
   "source": [
    "# Demo\n",
    "We'll create a sample neuron activation function sigmoid in neuron_activations.py file, use numpy for exp\n",
    "- create a sample repository\n",
    "- add inital commmit\n",
    "\n",
    "- Modift the code. use mth module for exponential function. Don't add.\n",
    "- git diff. Realize changes are not good\n",
    "- git checkout file_name.py"
   ]
  },
  {
   "cell_type": "markdown",
   "metadata": {
    "slideshow": {
     "slide_type": "slide"
    }
   },
   "source": [
    "## what if we put a wrong commit message?\n",
    "We can use **git commit --amend** to modify history.\n",
    "\n",
    "Only do that if you haven't pushed you changes. Other team member can have issue"
   ]
  },
  {
   "cell_type": "markdown",
   "metadata": {
    "slideshow": {
     "slide_type": "subslide"
    }
   },
   "source": [
    "# Demo \n",
    "- Let's modify neuron_activations functions and change documentation for return to probability of acitvation\n",
    "- add and commit file\n",
    "- git log\n",
    "    + How do we modify the message and not create a commit\n",
    "- git commit --amend -m \"modified return documentation for probabilistic interpretation\"\n",
    "- git log to see that commit is replaced with clean commit message\n",
    "    + git log --stat for more detail"
   ]
  },
  {
   "cell_type": "markdown",
   "metadata": {
    "slideshow": {
     "slide_type": "slide"
    }
   },
   "source": [
    "# Forgot to create a feature branch\n",
    "We got a feature assigned but make all the changes to the master branch. \n",
    "\n",
    "**How to put changes to a feature branch**"
   ]
  },
  {
   "cell_type": "markdown",
   "metadata": {
    "slideshow": {
     "slide_type": "subslide"
    }
   },
   "source": [
    "# Demo\n",
    "- git branch scaled_sigmoid (Note that this will not change branch so we are still in master)\n",
    "- add a scaled version of sigmoid while in master\n",
    "- git commit -m \"added scaled sigmoid\"\n",
    "- git log to see commit(copy this commit), but it is in master\n",
    "- git checkout scaled_sigmoid\n",
    "- git cherry-pick  paste earlier copied commit"
   ]
  },
  {
   "cell_type": "markdown",
   "metadata": {
    "slideshow": {
     "slide_type": "subslide"
    }
   },
   "source": [
    "# Are we done?\n",
    "\n"
   ]
  },
  {
   "cell_type": "markdown",
   "metadata": {
    "slideshow": {
     "slide_type": "fragment"
    }
   },
   "source": [
    "We still have commit in master branch. Need to reset it. "
   ]
  },
  {
   "cell_type": "markdown",
   "metadata": {
    "slideshow": {
     "slide_type": "subslide"
    }
   },
   "source": [
    "There are 3 types of reset\n",
    "## soft\n",
    "keeps changes in staging directory. We don't loose any work\n",
    "## mixed\n",
    "keeps changes in working directory\n",
    "## hard\n",
    "Doesn't keep changes to the files. Keeps tracked files in the state they were at that commit. Untracked files are not affected.\n",
    "\n"
   ]
  },
  {
   "cell_type": "markdown",
   "metadata": {
    "slideshow": {
     "slide_type": "subslide"
    }
   },
   "source": [
    "## soft, mixed hard reset demo\n",
    "- git reset --soft eariler_commit_hash\n",
    "    + git status and neuron_activations.py is in staged state with all the changes"
   ]
  },
  {
   "cell_type": "markdown",
   "metadata": {
    "slideshow": {
     "slide_type": "subslide"
    }
   },
   "source": [
    "# Demo\n",
    " <font color=\"red\" size = \"6\">What if we need hard reset changes back. Ran hard reset accidentally </font>\n",
    " - git reset --hard earlier_commit_hash\n",
    " - git reflog see sequence of commits\n",
    " - git checkout \"commit previous to reset\"\n",
    " - git log to see we got changes back\n",
    "     + But are not in branch(see head detached message). Changes will be lost when git does grabage collection\n",
    " - git branch saved_changes\n",
    " \n",
    "     "
   ]
  },
  {
   "cell_type": "markdown",
   "metadata": {
    "slideshow": {
     "slide_type": "subslide"
    }
   },
   "source": [
    "# Demo Cont.\n",
    "- git checkout master\n",
    "     + git log to see master have right commit as per reset\n",
    " - git checkout saved_changes\n",
    "     + git log to see chnages are in branch"
   ]
  },
  {
   "cell_type": "markdown",
   "metadata": {
    "slideshow": {
     "slide_type": "slide"
    }
   },
   "source": [
    "# Reverting a visibile commit(already pushed to remote)\n",
    "What is other team member have already pulled changes.\n",
    "Use **git revert**. \n",
    "\n",
    "__*It creates an new commit. It doesn't modify the history.*__"
   ]
  },
  {
   "cell_type": "markdown",
   "metadata": {
    "slideshow": {
     "slide_type": "subslide"
    }
   },
   "source": [
    "# Demo\n",
    "- **git revert last_commit**  to revert the commit to a previous commit. \n",
    "- **git log** to see the new commit\n",
    " "
   ]
  },
  {
   "cell_type": "markdown",
   "metadata": {
    "slideshow": {
     "slide_type": "slide"
    }
   },
   "source": [
    "- Read about git reset"
   ]
  }
 ],
 "metadata": {
  "celltoolbar": "Slideshow",
  "kernelspec": {
   "display_name": "Python 3",
   "language": "python",
   "name": "python3"
  },
  "language_info": {
   "codemirror_mode": {
    "name": "ipython",
    "version": 3
   },
   "file_extension": ".py",
   "mimetype": "text/x-python",
   "name": "python",
   "nbconvert_exporter": "python",
   "pygments_lexer": "ipython3",
   "version": "3.5.2"
  }
 },
 "nbformat": 4,
 "nbformat_minor": 2
}
