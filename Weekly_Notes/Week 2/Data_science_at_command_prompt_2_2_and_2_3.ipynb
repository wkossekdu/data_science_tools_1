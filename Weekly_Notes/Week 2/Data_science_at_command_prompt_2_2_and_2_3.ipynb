{
 "cells": [
  {
   "cell_type": "markdown",
   "metadata": {
    "slideshow": {
     "slide_type": "slide"
    }
   },
   "source": [
    "# Why we want to do data manipulation at command prompt\n",
    "- Most of software systems generate well defined logs. We need to parse them to understand tickets raised.\n",
    "- Analyze log files for quick understanding of the issue.\n",
    "    + Need to undestand customer impact\n",
    "- Logged to remote server and don't have data science tool stack\n",
    "    + Don't have access to visual analysis tool or spreadsheet\n",
    "- Exploring data set"
   ]
  },
  {
   "cell_type": "markdown",
   "metadata": {
    "slideshow": {
     "slide_type": "slide"
    }
   },
   "source": [
    "# Linux command line and bash scripts"
   ]
  },
  {
   "cell_type": "markdown",
   "metadata": {
    "slideshow": {
     "slide_type": "subslide"
    }
   },
   "source": [
    "<center> <h1>Linux architecture </h1> </center>\n",
    "<img src=\"./figures/Liunx_arch.gv.png\" height= 900 width = 900>"
   ]
  },
  {
   "cell_type": "markdown",
   "metadata": {
    "slideshow": {
     "slide_type": "subslide"
    }
   },
   "source": [
    "# Basic Commands\n",
    "\n",
    "- echo: echo the  text\n",
    "- cat: concatenate files and print to the standard output\n",
    "    + tac: print in reverse\n",
    "- grep: print lines matching a pattern\n",
    "- cut: select part of a line \n",
    "- tr: Translate, squeeze, and/or delete characters"
   ]
  },
  {
   "cell_type": "markdown",
   "metadata": {
    "slideshow": {
     "slide_type": "subslide"
    }
   },
   "source": [
    "- head: print lines from start of the file\n",
    "\n",
    "- tail: print lines from tail of the file\n",
    "    + one useful option is **-f**: output appended data as the file grows. Use when you want see content of a log file.\n",
    "    + output the last NUM lines, instead of the last 10; or **use -n +NUM to output starting with line NUM**.\n",
    "- more: paging through text one screenful at a time.\n",
    "- sort: sort lines\n",
    "- uniq: report or omit repeated lines\n",
    "- curl: tool to transfer data from or to a server. \n",
    "    + curl -s for silent mode and output to stdout\n",
    "    + curl -O (captial O) for saving with same name.(same as wget)"
   ]
  },
  {
   "cell_type": "markdown",
   "metadata": {
    "slideshow": {
     "slide_type": "subslide"
    }
   },
   "source": [
    "# Demo at linux command prompt\n",
    "- echo $0 to make sure we have bash shell\n",
    "- echo \"hello allen\"\n",
    "- create a file with as. Ignore the **> and >>** redirection operator. Will cover it soon.\n",
    "    + echo \"customer,items, type, quantity\" > customer_history.csv; echo \"Allen, Statistical analysis, book, 2\" >> customer_history.csv;echo \"\">> customer_history.csv; echo \"allen, Kasa Smart Wi-Fi Plug, electronics, 3\" >>customer_history.csv; echo \"Tim,Unix Shell Programming, Book, 3\" >> customer_history.csv; echo \"\">> customer_history.csv; echo \"Jhon,Python for Data Analysis, Book, 1\">> customer_history.csv\n",
    "    \n",
    "\n"
   ]
  },
  {
   "cell_type": "markdown",
   "metadata": {
    "slideshow": {
     "slide_type": "subslide"
    }
   },
   "source": [
    "- cat customer_history.csv\n",
    "- tac customer_history.csv\n",
    "- tail -n 2 customer_history.csv(use +2 to start from second line)\n",
    "    + touch test.log and **tail -f test.log**.  In another terminal type echo \"test accuracy 40%, val 30\" >>test.log. It should update first termial output\n",
    "- cut -d, -f1 customer_history.csv(*Note there are empty lines too. Will later how to get rid of blank lines using regular expression*)\n",
    "- cut -d, -f1 customer_history.csv| tr a A  (or tr [a-z] [A-Z] )\n"
   ]
  },
  {
   "cell_type": "markdown",
   "metadata": {
    "slideshow": {
     "slide_type": "subslide"
    }
   },
   "source": [
    "- cut -d, -f1 customer_history.csv| tr [a-z] [A-Z]| sort\n",
    "- cut -d, -f1 customer_history.csv| tr [a-z] [A-Z]| sort|uniq -c\n",
    "    + Note sort is require before uniqu\n",
    "- cut -d, -f1 customer_history.csv| tr [a-z] [A-Z]| sort|uniq -c|sort -n"
   ]
  },
  {
   "cell_type": "markdown",
   "metadata": {
    "slideshow": {
     "slide_type": "slide"
    }
   },
   "source": [
    "# Linux standard I/O streams, redirection, tee and pipe"
   ]
  },
  {
   "cell_type": "markdown",
   "metadata": {
    "slideshow": {
     "slide_type": "subslide"
    }
   },
   "source": [
    "## Standard I/O streams\n",
    "1. standard input (stdin, 0)\n",
    "1. standard output (stdout, 1)\n",
    "1. standard error (stderr, 2)\n",
    "\n",
    "Generally standard input is given via typing in terminal and standard output and error are displayed as text in the terminal emulator. Whenever a program runs these three files are open by default."
   ]
  },
  {
   "cell_type": "markdown",
   "metadata": {
    "slideshow": {
     "slide_type": "subslide"
    }
   },
   "source": [
    "# Demo\n",
    "- cat - (standard input, output interaction)\n",
    "- echo \"data science\" (standard out)\n",
    "- cat any_non_exitent_file (error message standard error)"
   ]
  },
  {
   "cell_type": "markdown",
   "metadata": {
    "slideshow": {
     "slide_type": "subslide"
    }
   },
   "source": [
    "# Redirection\n",
    "Linux command takes input and produces some outoput. By using redirection one can change the standard I/O of a program. \n",
    "## overwriting redirection\n",
    "- \\< filename (redirect standard input from a filename)\n",
    "- \\> filename(redirect standard output to a file)\n",
    "- 2>  filename(redirect standard error to filename)\n",
    "- &>filename  # Redirect both stdout and stderr to file \"filename.\"\n"
   ]
  },
  {
   "cell_type": "markdown",
   "metadata": {
    "slideshow": {
     "slide_type": "subslide"
    }
   },
   "source": [
    "## appending redirection\n",
    "- \\<< (standard input)\n",
    "- \\>> (standard output)\n",
    "- 2>> (standard error)"
   ]
  },
  {
   "cell_type": "markdown",
   "metadata": {
    "slideshow": {
     "slide_type": "subslide"
    }
   },
   "source": [
    "# demo\n",
    "- ls > dir_content.txt then cat dir_content.txt\n",
    "- cat - dir_content.txt >> dir_content.txt\n",
    "- ls non_extent file 2> error.log , cat error.log\n",
    "    + But why to redirect error. Sometimes a large amount of error may clutter the screen.\n",
    "- ls valid_dir invalid_dir > run.log 2>&1    "
   ]
  },
  {
   "cell_type": "markdown",
   "metadata": {
    "slideshow": {
     "slide_type": "subslide"
    }
   },
   "source": [
    "# pipe(|)\n",
    "\n",
    "It is a very useful feature in Linux. Using pipe one can connect output of program to input of another program\n",
    "\n",
    "- cat customer_history|head -n 2\n"
   ]
  },
  {
   "cell_type": "markdown",
   "metadata": {
    "slideshow": {
     "slide_type": "subslide"
    }
   },
   "source": [
    "# tee\n",
    "read from standard input and write to standard output and files.\n",
    "\n",
    "It is a useful when you want to save output to a file and see it in the standard output too. (no tail -f file_name.log). Used a lot when training a machine learning model.\n",
    "\n",
    "-ping www.du.edu | tee ping_log.txt(any numner of file name)\n",
    "    + use tee -a to append to existing file. File is created if doesn't exist."
   ]
  },
  {
   "cell_type": "markdown",
   "metadata": {
    "slideshow": {
     "slide_type": "slide"
    }
   },
   "source": [
    "<center><h1> regex</h1>\n",
    "regular expression in Linux\n",
    "    </center>\n",
    "    \n",
    "Before doing more interesting <b>grepping </b> we need to understand regular expressions.\n",
    "\n",
    "Regular expression is a pattern of text used by other programs such as grep, sed, awk and other application to filter the input text.\n"
   ]
  },
  {
   "cell_type": "markdown",
   "metadata": {
    "slideshow": {
     "slide_type": "subslide"
    }
   },
   "source": [
    "## Let's go over some basics of regex\n",
    "Regular expressions are processed by regular expression engine.\n",
    "## regex engines in Linux\n",
    "- The Basic Regular Expression (BRE) engine.\n",
    "- The Extended Regular Expression (ERE) engine.\n",
    "\n",
    "Most Linux programs understand BRE specification, but some like sed undestand some of ERE specification.\n",
    "As you can guess there are many regex implementations. It can be hard to write a program which works with all of them."
   ]
  },
  {
   "cell_type": "markdown",
   "metadata": {
    "slideshow": {
     "slide_type": "subslide"
    }
   },
   "source": [
    "## Anchoring\n",
    "- use caret (^) for begginning of the line\n",
    "- use $ for end of the line"
   ]
  },
  {
   "cell_type": "markdown",
   "metadata": {
    "slideshow": {
     "slide_type": "subslide"
    }
   },
   "source": [
    "# Character and digit matching\n",
    "- **.** (dot) is used to match any character except newline.\n",
    "- \\* means preceding character must match zero or more times.\n",
    "- use character class to match any character in a set like [eij].\n",
    "- use **-** to specify range of characters like [a-f] or digits like [0-9].\n",
    "- to achieve the reverse effect precede the character class range with a caret [^aei].\n"
   ]
  },
  {
   "cell_type": "markdown",
   "metadata": {
    "slideshow": {
     "slide_type": "subslide"
    }
   },
   "source": [
    "## special character classes\n",
    "- [[:alpha:]]   any alphabetical character\n",
    "- [[:lower:]]    for a–z lower case\n",
    "- [[:digit:]]   0 to 9\n",
    "- [[:alnum:]]   for  0–9, A–Z, or a–z\n",
    "- [[:punct:]]   for any punctuation character \n",
    "- [[:blank:]]   space or tab only\n"
   ]
  },
  {
   "cell_type": "code",
   "execution_count": 1,
   "metadata": {
    "slideshow": {
     "slide_type": "subslide"
    }
   },
   "outputs": [
    {
     "name": "stdout",
     "output_type": "stream",
     "text": [
      "120 west street \r\n"
     ]
    }
   ],
   "source": [
    "# use ! to run the unix commands from jupyter notebook\n",
    "!echo \"120 west street \\n york steet 211\" | grep \"^[0-9]\""
   ]
  },
  {
   "cell_type": "code",
   "execution_count": 3,
   "metadata": {
    "slideshow": {
     "slide_type": "subslide"
    }
   },
   "outputs": [
    {
     "name": "stdout",
     "output_type": "stream",
     "text": [
      "Usage: grep [OPTION]... PATTERN [FILE]...\r\n",
      "Try 'grep --help' for more information.\r\n"
     ]
    }
   ],
   "source": [
    "# Can you write regex after grep to find lines ending with word science ?\n",
    "!echo \"data science skills \\n 1- Lot of hacking skill in data science\" | grep"
   ]
  },
  {
   "cell_type": "code",
   "execution_count": 8,
   "metadata": {
    "slideshow": {
     "slide_type": "subslide"
    }
   },
   "outputs": [
    {
     "name": "stdout",
     "output_type": "stream",
     "text": [
      "We are looking for best accuracy\r\n"
     ]
    }
   ],
   "source": [
    "# . usage Search of st pattern in lines\n",
    "!echo \"We are looking for best accuracy\\nState of the art accuracy is 80%\" | grep \".st\""
   ]
  },
  {
   "cell_type": "code",
   "execution_count": 4,
   "metadata": {
    "slideshow": {
     "slide_type": "subslide"
    }
   },
   "outputs": [
    {
     "name": "stdout",
     "output_type": "stream",
     "text": [
      "It was a long experiment.\r\n",
      "Numerical experimnt can be long.\r\n"
     ]
    }
   ],
   "source": [
    "# * usage. This can be useful to ignore typo\n",
    "# Find line with word experiment.\n",
    "# See how using * mean zero or more e\n",
    "!echo \"It was a long experiment.\\nNumerical experimnt can be long.\\nIt took 5 days to complete\"|grep \"experime*nt\""
   ]
  },
  {
   "cell_type": "markdown",
   "metadata": {
    "slideshow": {
     "slide_type": "subslide"
    }
   },
   "source": [
    "## Negating class\n",
    "what about searching for character not in character class\n",
    "\n",
    " - **Use ^ inside bracket as first character**\n",
    " - If you want to make the ‘^’ character a list item, place it anywhere but first."
   ]
  },
  {
   "cell_type": "code",
   "execution_count": 12,
   "metadata": {
    "slideshow": {
     "slide_type": "subslide"
    }
   },
   "outputs": [
    {
     "name": "stdout",
     "output_type": "stream",
     "text": [
      "hour rebilled 23.\r\n",
      "hour overbilled 98\r\n"
     ]
    }
   ],
   "source": [
    "!echo  \"hour billed 88.\\nhour rebilled 23.\\nhour overbilled 98\"|grep  \"[^[:space:]]billed\""
   ]
  },
  {
   "cell_type": "markdown",
   "metadata": {
    "slideshow": {
     "slide_type": "slide"
    }
   },
   "source": [
    "# Extended Regular Expressions(ERE)\n",
    "- ? mean previous character can exist once or none\n",
    "- \"+\" character before the plus sign must exist one or more times\n",
    "- [[:word:]] or \\w  word characters (letters, numbers and underscores)\n"
   ]
  },
  {
   "cell_type": "code",
   "execution_count": 5,
   "metadata": {
    "slideshow": {
     "slide_type": "subslide"
    }
   },
   "outputs": [
    {
     "name": "stdout",
     "output_type": "stream",
     "text": [
      "color\r\n"
     ]
    }
   ],
   "source": [
    "# Note that you have to use flag -E\n",
    "# once scenario\n",
    "!echo \"color\" | grep -E \"colo?r\""
   ]
  },
  {
   "cell_type": "code",
   "execution_count": 14,
   "metadata": {
    "slideshow": {
     "slide_type": "subslide"
    }
   },
   "outputs": [
    {
     "name": "stdout",
     "output_type": "stream",
     "text": [
      "colr\r\n"
     ]
    }
   ],
   "source": [
    "# None scenario\n",
    "!echo \"colr\" | grep -E \"colo?r\""
   ]
  },
  {
   "cell_type": "code",
   "execution_count": 15,
   "metadata": {
    "slideshow": {
     "slide_type": "subslide"
    }
   },
   "outputs": [],
   "source": [
    "# There should be no output, why?\n",
    "!echo \"coloor\" | grep -E \"colo?r\""
   ]
  },
  {
   "cell_type": "markdown",
   "metadata": {
    "slideshow": {
     "slide_type": "subslide"
    }
   },
   "source": [
    "## Grouping expressions\n",
    "\n",
    "Group expressions so the regex engines will consider them one piece"
   ]
  },
  {
   "cell_type": "code",
   "execution_count": 8,
   "metadata": {
    "slideshow": {
     "slide_type": "subslide"
    }
   },
   "outputs": [
    {
     "name": "stdout",
     "output_type": "stream",
     "text": [
      "MeetGreetGreet\r\n"
     ]
    }
   ],
   "source": [
    "! echo \"MeetGreetGreet\" | grep -E \"Meet(Greet)+\"\n"
   ]
  },
  {
   "cell_type": "code",
   "execution_count": 9,
   "metadata": {
    "slideshow": {
     "slide_type": "subslide"
    }
   },
   "outputs": [],
   "source": [
    "! echo \"Meet\" | grep -E \"Meet(Greet)+\""
   ]
  },
  {
   "cell_type": "markdown",
   "metadata": {
    "slideshow": {
     "slide_type": "subslide"
    }
   },
   "source": [
    "## Remembering pattern with \"(\", \")\" and \"\\1\"**\n",
    " There are situation where we need to remember what we have found like detecting duplicate words.\n",
    "\n",
    "**Mark part of a pattern using ( and ) and recall the  pattern with \\\\ followed by a single digit**\n",
    "\n",
    "Note: You have to use escape ( and ) if you are not using extened regular expression"
   ]
  },
  {
   "cell_type": "code",
   "execution_count": 18,
   "metadata": {
    "slideshow": {
     "slide_type": "subslide"
    }
   },
   "outputs": [],
   "source": [
    "# Let us find a line containg duplicate word\n"
   ]
  },
  {
   "cell_type": "code",
   "execution_count": 10,
   "metadata": {
    "slideshow": {
     "slide_type": "fragment"
    }
   },
   "outputs": [
    {
     "name": "stdout",
     "output_type": "stream",
     "text": [
      "can you help help me.\r\n"
     ]
    }
   ],
   "source": [
    "!echo \"can you help help me.\\nI can't find my file\"|grep  -E \"([[:alpha:]]+) \\1\""
   ]
  },
  {
   "cell_type": "markdown",
   "metadata": {
    "slideshow": {
     "slide_type": "subslide"
    }
   },
   "source": [
    "## Note: Special Characters (.*[]^${}\\+?|() \\\\)\n",
    "As you have seen regex uses some special characters. You need to escape these special characters using the backslash character \\\\.\n"
   ]
  },
  {
   "cell_type": "code",
   "execution_count": 14,
   "metadata": {},
   "outputs": [
    {
     "name": "stdout",
     "output_type": "stream",
     "text": [
      "Meet(Greet)\r\n"
     ]
    }
   ],
   "source": [
    "! echo \"Meet(Greet)\" | grep -E \"Meet\\(Greet\\)\""
   ]
  },
  {
   "cell_type": "markdown",
   "metadata": {
    "slideshow": {
     "slide_type": "slide"
    }
   },
   "source": [
    "# demo 1\n",
    "- Let's go to https://www.gutenberg.org. Find a story and list most frequenlty used words.\n",
    "- use curl url, tr to lower case, grep -oE \"\\w+\", sort, uniq -c, sort -nr and head\n"
   ]
  },
  {
   "cell_type": "markdown",
   "metadata": {
    "slideshow": {
     "slide_type": "subslide"
    }
   },
   "source": [
    "# demo 2\n",
    "Let's say we pushed a code to the production and some of the customers got charged extra.\n",
    "\n",
    "This is the log file generated by payment system. "
   ]
  },
  {
   "cell_type": "code",
   "execution_count": 24,
   "metadata": {
    "slideshow": {
     "slide_type": "subslide"
    }
   },
   "outputs": [
    {
     "name": "stdout",
     "output_type": "stream",
     "text": [
      "customer:2350:credit_card:xxxx-xxxx-xxxx:charged:20dollar\r\n",
      "Paymenet gatway: charge card\r\n",
      "customer:3456 payment failed\r\n",
      "customer:4350:credit_card:xxxx-xxxx-xxxx:charged:50dollar\r\n"
     ]
    }
   ],
   "source": [
    "# can you write regex to find line starting with customer and ending dollar\n",
    "!echo \"customer:2350:credit_card:xxxx-xxxx-xxxx:charged:20dollar\\nPaymenet gatway: charge card\\ncustomer:3456 payment failed\\ncustomer:4350:credit_card:xxxx-xxxx-xxxx:charged:50dollar\" > payment_gateway.logxx\n",
    "!head payment_gateway.logxx"
   ]
  },
  {
   "cell_type": "markdown",
   "metadata": {
    "slideshow": {
     "slide_type": "subslide"
    }
   },
   "source": [
    "## Understand customer impact\n",
    "- we need to find affected customer.\n",
    "- generate initial impact report for stakeholder.\n",
    "\n",
    "Instead of firing python interpreter and writing a couple of lines of code we quickly process log file with grep and regex."
   ]
  },
  {
   "cell_type": "code",
   "execution_count": null,
   "metadata": {
    "slideshow": {
     "slide_type": "subslide"
    }
   },
   "outputs": [
    {
     "name": "stdout",
     "output_type": "stream",
     "text": [
      "customer:2350:credit_card:xxxx-xxxx-xxxx:charged:20dollar\r\n",
      "customer:4350:credit_card:xxxx-xxxx-xxxx:charged:50dollar\r\n"
     ]
    }
   ],
   "source": [
    "# complete the following command to find all the lines listing a charged customer\n",
    "!grep \"customer.*dollar\"  payment_gateway.logxx"
   ]
  },
  {
   "cell_type": "markdown",
   "metadata": {
    "slideshow": {
     "slide_type": "subslide"
    }
   },
   "source": [
    "## Take action to mitigate customer impact\n",
    "\n",
    "In general you will also extract customer id and amount for further processing\n",
    "and issue credit back to customers"
   ]
  },
  {
   "cell_type": "code",
   "execution_count": 15,
   "metadata": {
    "slideshow": {
     "slide_type": "notes"
    }
   },
   "outputs": [
    {
     "data": {
      "text/plain": [
       "'Liunx_arch.gv.png'"
      ]
     },
     "execution_count": 15,
     "metadata": {},
     "output_type": "execute_result"
    }
   ],
   "source": [
    "# code for figure\n",
    "from graphviz import Graph\n",
    "\n",
    "g = Graph('G', filename='Liunx_arch.gv', format='png')\n",
    "g.attr(bgcolor='purple:pink', label='ls, sort, grep, sed, awk etc. ',shape='box')\n",
    "\n",
    "with g.subgraph(name='cluster1') as c:\n",
    "    c.attr(fillcolor='blue:cyan', label='Shells(sh, bash, csh, ksh etc.)',\n",
    "           style='filled',  gradientangle='270')\n",
    "    #c.attr('node', shape='circle', fillcolor='red:yellow',\n",
    "    #       style='filled', gradientangle='90')\n",
    "    #c.node('Hardware')\n",
    "    with c.subgraph(name = 'cluster2') as c2:\n",
    "        c2.attr(fillcolor='red:white', label='Kernel(filesystem, memory management etc.)', \n",
    "           style='filled',  gradientangle='270')\n",
    "        c2.attr('node',  fillcolor='red:yellow',\n",
    "           style='filled', gradientangle='90')\n",
    "        c2.node('Hardware')\n",
    "g.view()"
   ]
  }
 ],
 "metadata": {
  "celltoolbar": "Slideshow",
  "kernelspec": {
   "display_name": "Python 3",
   "language": "python",
   "name": "python3"
  },
  "language_info": {
   "codemirror_mode": {
    "name": "ipython",
    "version": 3
   },
   "file_extension": ".py",
   "mimetype": "text/x-python",
   "name": "python",
   "nbconvert_exporter": "python",
   "pygments_lexer": "ipython3",
   "version": "3.5.2"
  }
 },
 "nbformat": 4,
 "nbformat_minor": 2
}
