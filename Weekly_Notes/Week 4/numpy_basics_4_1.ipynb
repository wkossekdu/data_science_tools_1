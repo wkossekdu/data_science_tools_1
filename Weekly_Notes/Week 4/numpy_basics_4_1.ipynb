{
 "cells": [
  {
   "cell_type": "markdown",
   "metadata": {
    "slideshow": {
     "slide_type": "slide"
    }
   },
   "source": [
    "# Numpy\n",
    "\n",
    "numpy is one of the most fundamental packages in [scientific python stack](https://www.scipy.org/)\n",
    "which also contains other packages like matplotlib, scipy, pandas, sympy and ipython.\n",
    "\n"
   ]
  },
  {
   "cell_type": "markdown",
   "metadata": {
    "slideshow": {
     "slide_type": "slide"
    }
   },
   "source": [
    "It provides the following operations\n",
    "- Fast vectorized mathematics operations.\n",
    "- Common array algorithms like sorting, unique, and set operations\n",
    "- Efficient descriptive statistics and aggregating/summarizing data and group-wise data manipulations\n",
    "- Lot of other features. It is a big library"
   ]
  },
  {
   "cell_type": "markdown",
   "metadata": {
    "slideshow": {
     "slide_type": "slide"
    }
   },
   "source": [
    "# Why we care about numpy\n",
    "- It is designed for efficiency.\n",
    "- Under the hood it stores data in a contigous block of memory\n",
    "- Algorithm written in C language can operate fast on data (no type checking etc.)\n",
    "- Smaller memory footprint compared to python objects"
   ]
  },
  {
   "cell_type": "markdown",
   "metadata": {
    "slideshow": {
     "slide_type": "slide"
    }
   },
   "source": [
    "# Is numpy fast compared to a basic python object?\n",
    "\n",
    "\n",
    "Let us see first hand. \n",
    "Create  10000 intergers in numpy and in a python list and compare time it takes to add them."
   ]
  },
  {
   "cell_type": "code",
   "execution_count": 2,
   "metadata": {
    "slideshow": {
     "slide_type": "subslide"
    }
   },
   "outputs": [
    {
     "name": "stdout",
     "output_type": "stream",
     "text": [
      "CPU times: total: 0 ns\n",
      "Wall time: 2.51 ms\n"
     ]
    }
   ],
   "source": [
    "import numpy as np\n",
    "max_num = 100000\n",
    "arr_int = np.arange(max_num)\n",
    "list_int = list(range(max_num))\n",
    "%time  for _ in range(10): arr_int.sum()\n",
    "\n"
   ]
  },
  {
   "cell_type": "code",
   "execution_count": 3,
   "metadata": {
    "slideshow": {
     "slide_type": "subslide"
    }
   },
   "outputs": [
    {
     "name": "stdout",
     "output_type": "stream",
     "text": [
      "CPU times: total: 203 ms\n",
      "Wall time: 570 ms\n"
     ]
    }
   ],
   "source": [
    "from functools import reduce\n",
    "def add(a, b):\n",
    "    return a+b\n",
    "\n",
    "%time for _ in range(10): reduce(add, list_int)"
   ]
  },
  {
   "cell_type": "markdown",
   "metadata": {},
   "source": [
    "Click here for more comments about CPU time vs Wall time:\n",
    "https://stackoverflow.com/questions/20586661/what-should-i-check-cpu-time-or-wall-time"
   ]
  },
  {
   "cell_type": "markdown",
   "metadata": {
    "slideshow": {
     "slide_type": "slide"
    }
   },
   "source": [
    "# NumPy ndarray: A Multidimensional Array Object\n",
    "\n",
    "An ndarray is a generic multidimensional container for homogeneous data; that is, all of the elements must be of the same type. \n",
    "- One of the most fundamental objects in numpy is the ndarray or N-dimentional array abstraction.\n",
    "- It supports fast operation on vectors, matrices and higher dimensional tensors.\n"
   ]
  },
  {
   "cell_type": "code",
   "execution_count": 4,
   "metadata": {
    "slideshow": {
     "slide_type": "subslide"
    }
   },
   "outputs": [
    {
     "name": "stdout",
     "output_type": "stream",
     "text": [
      "<class 'numpy.ndarray'>\n",
      "(100000,)\n",
      "int32\n"
     ]
    }
   ],
   "source": [
    "# let check the type of earlier numpy arr of int\n",
    "print(type(arr_int))\n",
    "# it has size shape \n",
    "print(arr_int.shape)\n",
    "# dtype(data type of the array)\n",
    "print(arr_int.dtype)"
   ]
  },
  {
   "cell_type": "markdown",
   "metadata": {
    "slideshow": {
     "slide_type": "slide"
    }
   },
   "source": [
    "## Creating ndarrays"
   ]
  },
  {
   "cell_type": "code",
   "execution_count": 5,
   "metadata": {
    "slideshow": {
     "slide_type": "subslide"
    }
   },
   "outputs": [
    {
     "name": "stdout",
     "output_type": "stream",
     "text": [
      "\u001b[1;31mDocstring:\u001b[0m\n",
      "array(object, dtype=None, *, copy=True, order='K', subok=False, ndmin=0,\n",
      "      like=None)\n",
      "\n",
      "Create an array.\n",
      "\n",
      "Parameters\n",
      "----------\n",
      "object : array_like\n",
      "    An array, any object exposing the array interface, an object whose\n",
      "    ``__array__`` method returns an array, or any (nested) sequence.\n",
      "    If object is a scalar, a 0-dimensional array containing object is\n",
      "    returned.\n",
      "dtype : data-type, optional\n",
      "    The desired data-type for the array. If not given, NumPy will try to use\n",
      "    a default ``dtype`` that can represent the values (by applying promotion\n",
      "    rules when necessary.)\n",
      "copy : bool, optional\n",
      "    If true (default), then the object is copied.  Otherwise, a copy will\n",
      "    only be made if ``__array__`` returns a copy, if obj is a nested\n",
      "    sequence, or if a copy is needed to satisfy any of the other\n",
      "    requirements (``dtype``, ``order``, etc.).\n",
      "order : {'K', 'A', 'C', 'F'}, optional\n",
      "    Specify the memory layout of the array. If object is not an array, the\n",
      "    newly created array will be in C order (row major) unless 'F' is\n",
      "    specified, in which case it will be in Fortran order (column major).\n",
      "    If object is an array the following holds.\n",
      "\n",
      "    ===== ========= ===================================================\n",
      "    order  no copy                     copy=True\n",
      "    ===== ========= ===================================================\n",
      "    'K'   unchanged F & C order preserved, otherwise most similar order\n",
      "    'A'   unchanged F order if input is F and not C, otherwise C order\n",
      "    'C'   C order   C order\n",
      "    'F'   F order   F order\n",
      "    ===== ========= ===================================================\n",
      "\n",
      "    When ``copy=False`` and a copy is made for other reasons, the result is\n",
      "    the same as if ``copy=True``, with some exceptions for 'A', see the\n",
      "    Notes section. The default order is 'K'.\n",
      "subok : bool, optional\n",
      "    If True, then sub-classes will be passed-through, otherwise\n",
      "    the returned array will be forced to be a base-class array (default).\n",
      "ndmin : int, optional\n",
      "    Specifies the minimum number of dimensions that the resulting\n",
      "    array should have.  Ones will be prepended to the shape as\n",
      "    needed to meet this requirement.\n",
      "like : array_like, optional\n",
      "    Reference object to allow the creation of arrays which are not\n",
      "    NumPy arrays. If an array-like passed in as ``like`` supports\n",
      "    the ``__array_function__`` protocol, the result will be defined\n",
      "    by it. In this case, it ensures the creation of an array object\n",
      "    compatible with that passed in via this argument.\n",
      "\n",
      "    .. versionadded:: 1.20.0\n",
      "\n",
      "Returns\n",
      "-------\n",
      "out : ndarray\n",
      "    An array object satisfying the specified requirements.\n",
      "\n",
      "See Also\n",
      "--------\n",
      "empty_like : Return an empty array with shape and type of input.\n",
      "ones_like : Return an array of ones with shape and type of input.\n",
      "zeros_like : Return an array of zeros with shape and type of input.\n",
      "full_like : Return a new array with shape of input filled with value.\n",
      "empty : Return a new uninitialized array.\n",
      "ones : Return a new array setting values to one.\n",
      "zeros : Return a new array setting values to zero.\n",
      "full : Return a new array of given shape filled with value.\n",
      "\n",
      "\n",
      "Notes\n",
      "-----\n",
      "When order is 'A' and ``object`` is an array in neither 'C' nor 'F' order,\n",
      "and a copy is forced by a change in dtype, then the order of the result is\n",
      "not necessarily 'C' as expected. This is likely a bug.\n",
      "\n",
      "Examples\n",
      "--------\n",
      ">>> np.array([1, 2, 3])\n",
      "array([1, 2, 3])\n",
      "\n",
      "Upcasting:\n",
      "\n",
      ">>> np.array([1, 2, 3.0])\n",
      "array([ 1.,  2.,  3.])\n",
      "\n",
      "More than one dimension:\n",
      "\n",
      ">>> np.array([[1, 2], [3, 4]])\n",
      "array([[1, 2],\n",
      "       [3, 4]])\n",
      "\n",
      "Minimum dimensions 2:\n",
      "\n",
      ">>> np.array([1, 2, 3], ndmin=2)\n",
      "array([[1, 2, 3]])\n",
      "\n",
      "Type provided:\n",
      "\n",
      ">>> np.array([1, 2, 3], dtype=complex)\n",
      "array([ 1.+0.j,  2.+0.j,  3.+0.j])\n",
      "\n",
      "Data-type consisting of more than one element:\n",
      "\n",
      ">>> x = np.array([(1,2),(3,4)],dtype=[('a','<i4'),('b','<i4')])\n",
      ">>> x['a']\n",
      "array([1, 3])\n",
      "\n",
      "Creating an array from sub-classes:\n",
      "\n",
      ">>> np.array(np.mat('1 2; 3 4'))\n",
      "array([[1, 2],\n",
      "       [3, 4]])\n",
      "\n",
      ">>> np.array(np.mat('1 2; 3 4'), subok=True)\n",
      "matrix([[1, 2],\n",
      "        [3, 4]])\n",
      "\u001b[1;31mType:\u001b[0m      builtin_function_or_method"
     ]
    }
   ],
   "source": [
    "np.array?"
   ]
  },
  {
   "cell_type": "code",
   "execution_count": 6,
   "metadata": {
    "slideshow": {
     "slide_type": "subslide"
    }
   },
   "outputs": [
    {
     "name": "stdout",
     "output_type": "stream",
     "text": [
      "[1. 3. 5. 8.]\n"
     ]
    }
   ],
   "source": [
    "# by directly giving list of elements\n",
    "\n",
    "arr1 = np.array([1, 3 ,5, 8.0])\n",
    "print(arr1)"
   ]
  },
  {
   "cell_type": "code",
   "execution_count": 8,
   "metadata": {
    "slideshow": {
     "slide_type": "subslide"
    }
   },
   "outputs": [],
   "source": [
    "# create a two dimension arrar with first row 1.1 ,5 ,7 and second row 5, 10, 12 ?\n",
    "# hint use list of list in array argument\n",
    "\n",
    "m_2d_array = np.array([[1.1,5,7],[5,0,12]])\n"
   ]
  },
  {
   "cell_type": "code",
   "execution_count": 9,
   "metadata": {
    "slideshow": {
     "slide_type": "subslide"
    }
   },
   "outputs": [
    {
     "data": {
      "text/plain": [
       "(2, 3)"
      ]
     },
     "execution_count": 9,
     "metadata": {},
     "output_type": "execute_result"
    }
   ],
   "source": [
    "# print is shape and dtype?\n",
    "\n",
    "m_2d_array.shape\n",
    "\n",
    "# print dimension of this array. hint check it properties using . and tab"
   ]
  },
  {
   "cell_type": "markdown",
   "metadata": {
    "slideshow": {
     "slide_type": "slide"
    }
   },
   "source": [
    "## Are there other ways to create a numpy array object?"
   ]
  },
  {
   "cell_type": "code",
   "execution_count": 10,
   "metadata": {
    "slideshow": {
     "slide_type": "subslide"
    }
   },
   "outputs": [
    {
     "data": {
      "text/plain": [
       "array([1., 1., 1., 1., 1., 1., 1., 1., 1., 1.])"
      ]
     },
     "execution_count": 10,
     "metadata": {},
     "output_type": "execute_result"
    }
   ],
   "source": [
    "np.ones(10)"
   ]
  },
  {
   "cell_type": "code",
   "execution_count": 12,
   "metadata": {
    "slideshow": {
     "slide_type": "subslide"
    }
   },
   "outputs": [
    {
     "data": {
      "text/plain": [
       "array([[0., 0., 0., 0.],\n",
       "       [0., 0., 0., 0.],\n",
       "       [0., 0., 0., 0.],\n",
       "       [0., 0., 0., 0.],\n",
       "       [0., 0., 0., 0.]])"
      ]
     },
     "execution_count": 12,
     "metadata": {},
     "output_type": "execute_result"
    }
   ],
   "source": [
    "# for higher dimetional array pass shape as tuple\n",
    "np.zeros((5, 4))"
   ]
  },
  {
   "cell_type": "code",
   "execution_count": 14,
   "metadata": {
    "slideshow": {
     "slide_type": "subslide"
    }
   },
   "outputs": [
    {
     "data": {
      "text/plain": [
       "array([0, 1, 2, 3, 4, 5, 6, 7, 8, 9])"
      ]
     },
     "execution_count": 14,
     "metadata": {},
     "output_type": "execute_result"
    }
   ],
   "source": [
    "# handy way to create array of integers upto a maximum\n",
    "np.arange(10)"
   ]
  },
  {
   "cell_type": "code",
   "execution_count": 15,
   "metadata": {
    "slideshow": {
     "slide_type": "subslide"
    }
   },
   "outputs": [
    {
     "data": {
      "text/plain": [
       "array([[1., 0., 0., 0.],\n",
       "       [0., 1., 0., 0.],\n",
       "       [0., 0., 1., 0.],\n",
       "       [0., 0., 0., 1.]])"
      ]
     },
     "execution_count": 15,
     "metadata": {},
     "output_type": "execute_result"
    }
   ],
   "source": [
    "# create identity matrix of size 4x4 ??? \n",
    "\n",
    "np.eye(4)"
   ]
  },
  {
   "cell_type": "code",
   "execution_count": 16,
   "metadata": {
    "slideshow": {
     "slide_type": "subslide"
    }
   },
   "outputs": [
    {
     "name": "stdout",
     "output_type": "stream",
     "text": [
      "int32\n",
      "float64\n"
     ]
    }
   ],
   "source": [
    "# convert following array to float?\n",
    "arr = np.array([1, 2, 3, 4, 5])\n",
    "print(arr.dtype)\n",
    "arr = arr.astype(float)\n",
    "print(arr.dtype)"
   ]
  },
  {
   "cell_type": "markdown",
   "metadata": {
    "slideshow": {
     "slide_type": "slide"
    }
   },
   "source": [
    "## Arithmetic with NumPy Arrays\n",
    "\n",
    "Any arithmetic operation between equal-size arrays applies the operation element-wise"
   ]
  },
  {
   "cell_type": "code",
   "execution_count": 17,
   "metadata": {
    "slideshow": {
     "slide_type": "subslide"
    }
   },
   "outputs": [
    {
     "data": {
      "text/plain": [
       "array([[1., 2.],\n",
       "       [3., 4.]])"
      ]
     },
     "execution_count": 17,
     "metadata": {},
     "output_type": "execute_result"
    }
   ],
   "source": [
    "arr = np.arange(1, 5, dtype=float).reshape((2,2))\n",
    "arr"
   ]
  },
  {
   "cell_type": "code",
   "execution_count": 18,
   "metadata": {
    "slideshow": {
     "slide_type": "subslide"
    }
   },
   "outputs": [
    {
     "data": {
      "text/plain": [
       "array([[ 1.,  4.],\n",
       "       [ 9., 16.]])"
      ]
     },
     "execution_count": 18,
     "metadata": {},
     "output_type": "execute_result"
    }
   ],
   "source": [
    "# let's multiply. element wise mulitplication as far as size matches\n",
    "arr*arr"
   ]
  },
  {
   "cell_type": "code",
   "execution_count": 20,
   "metadata": {
    "slideshow": {
     "slide_type": "subslide"
    }
   },
   "outputs": [
    {
     "data": {
      "text/plain": [
       "array([[  1.,   4.],\n",
       "       [ 27., 256.]])"
      ]
     },
     "execution_count": 20,
     "metadata": {},
     "output_type": "execute_result"
    }
   ],
   "source": [
    "# raise each element to the power of itself in the martix?\n",
    "arr**arr\n"
   ]
  },
  {
   "cell_type": "code",
   "execution_count": 21,
   "metadata": {
    "slideshow": {
     "slide_type": "subslide"
    }
   },
   "outputs": [
    {
     "data": {
      "text/plain": [
       "array([[ 7., 10.],\n",
       "       [15., 22.]])"
      ]
     },
     "execution_count": 21,
     "metadata": {},
     "output_type": "execute_result"
    }
   ],
   "source": [
    "# how to do matrix multiplication?\n",
    "np.dot(arr,arr)\n"
   ]
  },
  {
   "cell_type": "markdown",
   "metadata": {
    "slideshow": {
     "slide_type": "slide"
    }
   },
   "source": [
    "## Basic Indexing and Slicing"
   ]
  },
  {
   "cell_type": "code",
   "execution_count": 22,
   "metadata": {
    "slideshow": {
     "slide_type": "subslide"
    }
   },
   "outputs": [
    {
     "data": {
      "text/plain": [
       "array([[1, 2, 3],\n",
       "       [4, 5, 6],\n",
       "       [7, 8, 9]])"
      ]
     },
     "execution_count": 22,
     "metadata": {},
     "output_type": "execute_result"
    }
   ],
   "source": [
    "arr2d = np.array([[1, 2, 3],[4, 5, 6], [7, 8, 9]])\n",
    "arr2d"
   ]
  },
  {
   "cell_type": "code",
   "execution_count": 25,
   "metadata": {
    "slideshow": {
     "slide_type": "fragment"
    }
   },
   "outputs": [
    {
     "data": {
      "text/plain": [
       "array([[1, 2, 3],\n",
       "       [4, 5, 6]])"
      ]
     },
     "execution_count": 25,
     "metadata": {},
     "output_type": "execute_result"
    }
   ],
   "source": [
    "# slice first two rows?\n",
    "arr2d[0:2,:]\n"
   ]
  },
  {
   "cell_type": "code",
   "execution_count": 26,
   "metadata": {
    "slideshow": {
     "slide_type": "fragment"
    }
   },
   "outputs": [
    {
     "data": {
      "text/plain": [
       "array([[5, 6],\n",
       "       [8, 9]])"
      ]
     },
     "execution_count": 26,
     "metadata": {},
     "output_type": "execute_result"
    }
   ],
   "source": [
    "# slice 2 and 3rd row and second and third column\n",
    "arr2d[1:3,1:3]\n",
    "\n"
   ]
  },
  {
   "cell_type": "markdown",
   "metadata": {
    "slideshow": {
     "slide_type": "slide"
    }
   },
   "source": [
    "## Boolean Indexing"
   ]
  },
  {
   "cell_type": "code",
   "execution_count": 29,
   "metadata": {
    "slideshow": {
     "slide_type": "subslide"
    }
   },
   "outputs": [
    {
     "data": {
      "text/plain": [
       "array([[-0.3287878 , -0.45698967,  2.52893865, -0.3145069 ],\n",
       "       [ 1.13518099,  0.54074302, -0.92742952, -0.72040582],\n",
       "       [-0.74284031, -0.55130759, -0.29034393,  0.79181446]])"
      ]
     },
     "execution_count": 29,
     "metadata": {},
     "output_type": "execute_result"
    }
   ],
   "source": [
    "arr = np.random.randn(3, 4)\n",
    "arr"
   ]
  },
  {
   "cell_type": "code",
   "execution_count": 30,
   "metadata": {
    "slideshow": {
     "slide_type": "subslide"
    }
   },
   "outputs": [
    {
     "data": {
      "text/plain": [
       "array([2.52893865, 1.13518099, 0.54074302, 0.79181446])"
      ]
     },
     "execution_count": 30,
     "metadata": {},
     "output_type": "execute_result"
    }
   ],
   "source": [
    "# find all the values grater than .5\n",
    "arr[arr>.5]"
   ]
  },
  {
   "cell_type": "markdown",
   "metadata": {
    "slideshow": {
     "slide_type": "slide"
    }
   },
   "source": [
    "## Fancy Indexing\n",
    "\n",
    "Fancy indexing is a term adopted by NumPy to describe indexing using integer arrays.\n"
   ]
  },
  {
   "cell_type": "code",
   "execution_count": 31,
   "metadata": {
    "slideshow": {
     "slide_type": "subslide"
    }
   },
   "outputs": [
    {
     "name": "stdout",
     "output_type": "stream",
     "text": [
      "[[ 2  5  8]\n",
      " [10 20 30]]\n",
      "[10 20]\n"
     ]
    }
   ],
   "source": [
    "arr2d = np.array([[2, 5 ,8],[ 10, 20, 30]])\n",
    "print(arr2d)\n",
    "print(arr2d[[1, 1], [ 0, 1]])\n",
    "\n"
   ]
  },
  {
   "cell_type": "markdown",
   "metadata": {
    "slideshow": {
     "slide_type": "slide"
    }
   },
   "source": [
    "## Views versus copies in NumPy\n",
    "\n",
    " View is another way of vewing same data.\n",
    "**slicing creates view and fancy index doesn't createview**"
   ]
  },
  {
   "cell_type": "code",
   "execution_count": 32,
   "metadata": {
    "slideshow": {
     "slide_type": "subslide"
    }
   },
   "outputs": [
    {
     "name": "stdout",
     "output_type": "stream",
     "text": [
      "[ 1  2  3  4  5  6  7  8  9 10]\n"
     ]
    }
   ],
   "source": [
    "a = np.arange(1, 11)\n",
    "print(a)"
   ]
  },
  {
   "cell_type": "code",
   "execution_count": 33,
   "metadata": {
    "slideshow": {
     "slide_type": "subslide"
    }
   },
   "outputs": [
    {
     "name": "stdout",
     "output_type": "stream",
     "text": [
      "[2 3 4]\n"
     ]
    }
   ],
   "source": [
    "aslice = a[1:4]\n",
    "print(aslice)"
   ]
  },
  {
   "cell_type": "code",
   "execution_count": 34,
   "metadata": {
    "slideshow": {
     "slide_type": "subslide"
    }
   },
   "outputs": [
    {
     "name": "stdout",
     "output_type": "stream",
     "text": [
      "[20 20 20]\n"
     ]
    }
   ],
   "source": [
    "a[1:4] = 20\n",
    "print(aslice)"
   ]
  },
  {
   "cell_type": "markdown",
   "metadata": {
    "slideshow": {
     "slide_type": "slide"
    }
   },
   "source": [
    "## Transposing Arrays and Swapping Axes\n",
    "\n",
    "**note that swapaxes returns the view of data**"
   ]
  },
  {
   "cell_type": "code",
   "execution_count": 35,
   "metadata": {
    "slideshow": {
     "slide_type": "subslide"
    }
   },
   "outputs": [
    {
     "name": "stdout",
     "output_type": "stream",
     "text": [
      "[[ 0  1  2  3]\n",
      " [ 4  5  6  7]\n",
      " [ 8  9 10 11]]\n",
      "Transpose is\n",
      "[[ 0  4  8]\n",
      " [ 1  5  9]\n",
      " [ 2  6 10]\n",
      " [ 3  7 11]]\n"
     ]
    }
   ],
   "source": [
    "a = np.arange(12).reshape((3, 4))\n",
    "print(a)\n",
    "print('Transpose is')\n",
    "## ???\n",
    "print(a.T)"
   ]
  },
  {
   "cell_type": "code",
   "execution_count": 36,
   "metadata": {
    "slideshow": {
     "slide_type": "subslide"
    }
   },
   "outputs": [
    {
     "name": "stdout",
     "output_type": "stream",
     "text": [
      "[[[ 0  1  2  3]\n",
      "  [ 4  5  6  7]]\n",
      "\n",
      " [[ 8  9 10 11]\n",
      "  [12 13 14 15]]]\n",
      "swapping axis (0, 1, 2) to (1, 0, 2) \n",
      "[[[ 0  1  2  3]\n",
      "  [ 8  9 10 11]]\n",
      "\n",
      " [[ 4  5  6  7]\n",
      "  [12 13 14 15]]]\n"
     ]
    }
   ],
   "source": [
    "#For higher dimensional arrays, transpose will accept a tuple of axis numbers to permute the axes \n",
    "arr = np.arange(16).reshape((2, 2, 4))\n",
    "print(arr)\n",
    "print('swapping axis (0, 1, 2) to (1, 0, 2) ')\n",
    "\n",
    "print(arr.transpose((1, 0, 2)))"
   ]
  },
  {
   "cell_type": "code",
   "execution_count": 37,
   "metadata": {
    "slideshow": {
     "slide_type": "subslide"
    }
   },
   "outputs": [
    {
     "name": "stdout",
     "output_type": "stream",
     "text": [
      "[[[ 0  1  2  3]\n",
      "  [ 4  5  6  7]]\n",
      "\n",
      " [[ 8  9 10 11]\n",
      "  [12 13 14 15]]]\n",
      "after swapping axis 1 and 2\n"
     ]
    },
    {
     "data": {
      "text/plain": [
       "array([[[ 0,  1,  2,  3],\n",
       "        [ 8,  9, 10, 11]],\n",
       "\n",
       "       [[ 4,  5,  6,  7],\n",
       "        [12, 13, 14, 15]]])"
      ]
     },
     "execution_count": 37,
     "metadata": {},
     "output_type": "execute_result"
    }
   ],
   "source": [
    "#For 2d array T was same as swapaxes. For ndarray has the method swapaxes\n",
    "print(arr)\n",
    "print('after swapping axis 1 and 2')\n",
    "### ????\n",
    "arr.swapaxes(1,0)"
   ]
  },
  {
   "cell_type": "markdown",
   "metadata": {},
   "source": [
    "## Some common array operations (conditional logic, math operations, etc.)\n"
   ]
  },
  {
   "cell_type": "markdown",
   "metadata": {},
   "source": [
    "- Array-Oriented Programming with Arrays (Conditional Logic)\n",
    "- Mathematcal operations\n",
    "- Method for boolean array\n",
    "- Unique and Other Set Logic"
   ]
  },
  {
   "cell_type": "markdown",
   "metadata": {
    "slideshow": {
     "slide_type": "slide"
    }
   },
   "source": [
    "## Array-Oriented Programming with Arrays \n",
    "\n",
    "Using ndarray we can write tasks involving loops and simple array expressions.\n"
   ]
  },
  {
   "cell_type": "markdown",
   "metadata": {
    "slideshow": {
     "slide_type": "slide"
    }
   },
   "source": [
    "\n",
    "### Expressing Conditional Logic as Array Operations\n",
    "numpy.where function is a vectorized version of the ternary expression x if condition else y"
   ]
  },
  {
   "cell_type": "code",
   "execution_count": 38,
   "metadata": {
    "slideshow": {
     "slide_type": "subslide"
    }
   },
   "outputs": [
    {
     "data": {
      "text/plain": [
       "array([ 1, -6, -7,  7])"
      ]
     },
     "execution_count": 38,
     "metadata": {},
     "output_type": "execute_result"
    }
   ],
   "source": [
    "x = np.array([1, 3 ,5 ,7])\n",
    "y = np.array([-4, -6, -7, -10])\n",
    "cond = np.array([True, False, False, True])\n",
    "np.where(cond, x, y)"
   ]
  },
  {
   "cell_type": "code",
   "execution_count": 39,
   "metadata": {
    "slideshow": {
     "slide_type": "subslide"
    }
   },
   "outputs": [
    {
     "name": "stdout",
     "output_type": "stream",
     "text": [
      "[[ 0.17301837  0.71027967  1.07332383]\n",
      " [-0.65360967 -0.10624187  0.36673457]\n",
      " [-0.39661558  1.29874888  1.24592832]]\n"
     ]
    },
    {
     "data": {
      "text/plain": [
       "array([[ 1,  1,  1],\n",
       "       [-1, -1,  1],\n",
       "       [-1,  1,  1]])"
      ]
     },
     "execution_count": 39,
     "metadata": {},
     "output_type": "execute_result"
    }
   ],
   "source": [
    "arr= np.random.randn( 3,3)\n",
    "print(arr)\n",
    "## ? create a new array with element 1 if arr has positive element or -1 if array has negative element\n",
    "np.where(arr>0,1,-1)"
   ]
  },
  {
   "cell_type": "markdown",
   "metadata": {
    "slideshow": {
     "slide_type": "slide"
    }
   },
   "source": [
    "## Mathematical and Statistical Methods"
   ]
  },
  {
   "cell_type": "code",
   "execution_count": 40,
   "metadata": {
    "slideshow": {
     "slide_type": "subslide"
    }
   },
   "outputs": [
    {
     "name": "stdout",
     "output_type": "stream",
     "text": [
      "[[1 2 3]\n",
      " [4 5 6]]\n",
      "[2. 5.]\n"
     ]
    }
   ],
   "source": [
    "arr = np.array([[1, 2 ,3], [4, 5 ,6]])\n",
    "print(arr)\n",
    "\n",
    "## print them mean along axis = 1, ????????\n",
    "print(np.mean(arr, axis=1))"
   ]
  },
  {
   "cell_type": "code",
   "execution_count": 42,
   "metadata": {
    "slideshow": {
     "slide_type": "subslide"
    }
   },
   "outputs": [
    {
     "name": "stdout",
     "output_type": "stream",
     "text": [
      "[ 1  4 16 23 32]\n",
      "[   1    3   36  252 2268]\n"
     ]
    }
   ],
   "source": [
    "arr = np.array([1 , 3 , 12 ,7, 9])\n",
    "print(arr.cumsum())\n",
    "## print cumprodduct???\n",
    "print(arr.cumprod())\n",
    "\n",
    "\n",
    "# extension for higher dimension existand and one can specify the axis to act along"
   ]
  },
  {
   "cell_type": "code",
   "execution_count": 44,
   "metadata": {
    "slideshow": {
     "slide_type": "subslide"
    }
   },
   "outputs": [
    {
     "name": "stdout",
     "output_type": "stream",
     "text": [
      "2\n"
     ]
    }
   ],
   "source": [
    "## find the index of max element\n",
    "print(arr.argmax())"
   ]
  },
  {
   "cell_type": "markdown",
   "metadata": {
    "slideshow": {
     "slide_type": "slide"
    }
   },
   "source": [
    "## Methods for Boolean Arrays\n",
    "\n",
    "**any and all logical operators**.\n",
    "\n",
    "This is very helpful in writing algorithmic code where you need to check lot of paths"
   ]
  },
  {
   "cell_type": "code",
   "execution_count": 46,
   "metadata": {
    "slideshow": {
     "slide_type": "subslide"
    }
   },
   "outputs": [
    {
     "name": "stdout",
     "output_type": "stream",
     "text": [
      "[ 4 -1 -1 -5  2  5]\n"
     ]
    },
    {
     "data": {
      "text/plain": [
       "3"
      ]
     },
     "execution_count": 46,
     "metadata": {},
     "output_type": "execute_result"
    }
   ],
   "source": [
    "arr = np.random.randint(-5, high = 10, size = 6)\n",
    "print(arr)\n",
    "## count number of negative elements???\n",
    "np.sum(arr<0)"
   ]
  },
  {
   "cell_type": "code",
   "execution_count": 49,
   "metadata": {
    "slideshow": {
     "slide_type": "subslide"
    }
   },
   "outputs": [
    {
     "name": "stdout",
     "output_type": "stream",
     "text": [
      "True\n"
     ]
    },
    {
     "data": {
      "text/plain": [
       "False"
      ]
     },
     "execution_count": 49,
     "metadata": {},
     "output_type": "execute_result"
    }
   ],
   "source": [
    "bool_arr= np.array([True, True, False, True])\n",
    "## check if any element is true??\n",
    "print(np.any(bool_arr))\n",
    "\n",
    "## check if all elements are true\n",
    "np.all(bool_arr)"
   ]
  },
  {
   "cell_type": "markdown",
   "metadata": {
    "slideshow": {
     "slide_type": "slide"
    }
   },
   "source": [
    "## Sorting\n",
    "similar to python builtin sort for lists"
   ]
  },
  {
   "cell_type": "code",
   "execution_count": 50,
   "metadata": {
    "slideshow": {
     "slide_type": "subslide"
    }
   },
   "outputs": [
    {
     "name": "stdout",
     "output_type": "stream",
     "text": [
      "[-2  1  3  5  8]\n",
      "3\n"
     ]
    }
   ],
   "source": [
    "arr= np.array([3, -2 ,8 ,1, 5])\n",
    "arr.sort()\n",
    "print(arr)\n",
    "\n",
    "print(arr[int(.5*len(arr))]) ## middle element"
   ]
  },
  {
   "cell_type": "markdown",
   "metadata": {
    "slideshow": {
     "slide_type": "slide"
    }
   },
   "source": [
    "## Unique and Other Set Logic\n",
    "Some operations for one dimensional arrays:\n",
    "**unique, intersect1d(x, y),  union1d(x, y), etc.**"
   ]
  },
  {
   "cell_type": "code",
   "execution_count": 51,
   "metadata": {
    "slideshow": {
     "slide_type": "subslide"
    }
   },
   "outputs": [
    {
     "name": "stdout",
     "output_type": "stream",
     "text": [
      "['John' 'Moran' 'Rosy' 'Tim']\n"
     ]
    }
   ],
   "source": [
    "names = np.array(['Moran' , 'Rosy'  , 'Tim', 'John', 'Tim'])\n",
    "print(np.unique(names))\n",
    "## can you do it in pure python ??\n"
   ]
  },
  {
   "cell_type": "markdown",
   "metadata": {
    "slideshow": {
     "slide_type": "slide"
    }
   },
   "source": [
    "## Linear Algebra\n",
    "numpy.linalg has a standard set of matrix  operations. These are typically implemneted in BLAS, LAPCK, Intel MKL\n",
    "library\n"
   ]
  },
  {
   "cell_type": "code",
   "execution_count": 52,
   "metadata": {
    "slideshow": {
     "slide_type": "subslide"
    }
   },
   "outputs": [
    {
     "name": "stdout",
     "output_type": "stream",
     "text": [
      "[[ 1.00000000e+00  0.00000000e+00  0.00000000e+00 -1.11022302e-16]\n",
      " [-8.88178420e-16  1.00000000e+00  8.88178420e-16  2.22044605e-16]\n",
      " [-8.88178420e-16  0.00000000e+00  1.00000000e+00  5.55111512e-17]\n",
      " [ 4.44089210e-16 -3.33066907e-16 -6.66133815e-16  1.00000000e+00]]\n"
     ]
    }
   ],
   "source": [
    "# inverse of  matrix\n",
    "X = np.random.randn(4, 4)\n",
    "X_inv = np.linalg.inv(X)\n",
    "print(X.dot(X_inv))\n"
   ]
  },
  {
   "cell_type": "code",
   "execution_count": 53,
   "metadata": {
    "slideshow": {
     "slide_type": "subslide"
    }
   },
   "outputs": [
    {
     "name": "stdout",
     "output_type": "stream",
     "text": [
      "(4, 4) (3,) (3, 3)\n"
     ]
    },
    {
     "name": "stdout",
     "output_type": "stream",
     "text": [
      "\u001b[1;31mSignature:\u001b[0m       \u001b[0mnp\u001b[0m\u001b[1;33m.\u001b[0m\u001b[0mlinalg\u001b[0m\u001b[1;33m.\u001b[0m\u001b[0msvd\u001b[0m\u001b[1;33m(\u001b[0m\u001b[0ma\u001b[0m\u001b[1;33m,\u001b[0m \u001b[0mfull_matrices\u001b[0m\u001b[1;33m=\u001b[0m\u001b[1;32mTrue\u001b[0m\u001b[1;33m,\u001b[0m \u001b[0mcompute_uv\u001b[0m\u001b[1;33m=\u001b[0m\u001b[1;32mTrue\u001b[0m\u001b[1;33m,\u001b[0m \u001b[0mhermitian\u001b[0m\u001b[1;33m=\u001b[0m\u001b[1;32mFalse\u001b[0m\u001b[1;33m)\u001b[0m\u001b[1;33m\u001b[0m\u001b[1;33m\u001b[0m\u001b[0m\n",
      "\u001b[1;31mCall signature:\u001b[0m  \u001b[0mnp\u001b[0m\u001b[1;33m.\u001b[0m\u001b[0mlinalg\u001b[0m\u001b[1;33m.\u001b[0m\u001b[0msvd\u001b[0m\u001b[1;33m(\u001b[0m\u001b[1;33m*\u001b[0m\u001b[0margs\u001b[0m\u001b[1;33m,\u001b[0m \u001b[1;33m**\u001b[0m\u001b[0mkwargs\u001b[0m\u001b[1;33m)\u001b[0m\u001b[1;33m\u001b[0m\u001b[1;33m\u001b[0m\u001b[0m\n",
      "\u001b[1;31mType:\u001b[0m            _ArrayFunctionDispatcher\n",
      "\u001b[1;31mString form:\u001b[0m     <function svd at 0x000001F7B32944A0>\n",
      "\u001b[1;31mFile:\u001b[0m            c:\\users\\kosek\\anaconda3\\envs\\tools1\\lib\\site-packages\\numpy\\linalg\\linalg.py\n",
      "\u001b[1;31mDocstring:\u001b[0m      \n",
      "Singular Value Decomposition.\n",
      "\n",
      "When `a` is a 2D array, and ``full_matrices=False``, then it is\n",
      "factorized as ``u @ np.diag(s) @ vh = (u * s) @ vh``, where\n",
      "`u` and the Hermitian transpose of `vh` are 2D arrays with\n",
      "orthonormal columns and `s` is a 1D array of `a`'s singular\n",
      "values. When `a` is higher-dimensional, SVD is applied in\n",
      "stacked mode as explained below.\n",
      "\n",
      "Parameters\n",
      "----------\n",
      "a : (..., M, N) array_like\n",
      "    A real or complex array with ``a.ndim >= 2``.\n",
      "full_matrices : bool, optional\n",
      "    If True (default), `u` and `vh` have the shapes ``(..., M, M)`` and\n",
      "    ``(..., N, N)``, respectively.  Otherwise, the shapes are\n",
      "    ``(..., M, K)`` and ``(..., K, N)``, respectively, where\n",
      "    ``K = min(M, N)``.\n",
      "compute_uv : bool, optional\n",
      "    Whether or not to compute `u` and `vh` in addition to `s`.  True\n",
      "    by default.\n",
      "hermitian : bool, optional\n",
      "    If True, `a` is assumed to be Hermitian (symmetric if real-valued),\n",
      "    enabling a more efficient method for finding singular values.\n",
      "    Defaults to False.\n",
      "\n",
      "    .. versionadded:: 1.17.0\n",
      "\n",
      "Returns\n",
      "-------\n",
      "When `compute_uv` is True, the result is a namedtuple with the following\n",
      "attribute names:\n",
      "\n",
      "U : { (..., M, M), (..., M, K) } array\n",
      "    Unitary array(s). The first ``a.ndim - 2`` dimensions have the same\n",
      "    size as those of the input `a`. The size of the last two dimensions\n",
      "    depends on the value of `full_matrices`. Only returned when\n",
      "    `compute_uv` is True.\n",
      "S : (..., K) array\n",
      "    Vector(s) with the singular values, within each vector sorted in\n",
      "    descending order. The first ``a.ndim - 2`` dimensions have the same\n",
      "    size as those of the input `a`.\n",
      "Vh : { (..., N, N), (..., K, N) } array\n",
      "    Unitary array(s). The first ``a.ndim - 2`` dimensions have the same\n",
      "    size as those of the input `a`. The size of the last two dimensions\n",
      "    depends on the value of `full_matrices`. Only returned when\n",
      "    `compute_uv` is True.\n",
      "\n",
      "Raises\n",
      "------\n",
      "LinAlgError\n",
      "    If SVD computation does not converge.\n",
      "\n",
      "See Also\n",
      "--------\n",
      "scipy.linalg.svd : Similar function in SciPy.\n",
      "scipy.linalg.svdvals : Compute singular values of a matrix.\n",
      "\n",
      "Notes\n",
      "-----\n",
      "\n",
      ".. versionchanged:: 1.8.0\n",
      "   Broadcasting rules apply, see the `numpy.linalg` documentation for\n",
      "   details.\n",
      "\n",
      "The decomposition is performed using LAPACK routine ``_gesdd``.\n",
      "\n",
      "SVD is usually described for the factorization of a 2D matrix :math:`A`.\n",
      "The higher-dimensional case will be discussed below. In the 2D case, SVD is\n",
      "written as :math:`A = U S V^H`, where :math:`A = a`, :math:`U= u`,\n",
      ":math:`S= \\mathtt{np.diag}(s)` and :math:`V^H = vh`. The 1D array `s`\n",
      "contains the singular values of `a` and `u` and `vh` are unitary. The rows\n",
      "of `vh` are the eigenvectors of :math:`A^H A` and the columns of `u` are\n",
      "the eigenvectors of :math:`A A^H`. In both cases the corresponding\n",
      "(possibly non-zero) eigenvalues are given by ``s**2``.\n",
      "\n",
      "If `a` has more than two dimensions, then broadcasting rules apply, as\n",
      "explained in :ref:`routines.linalg-broadcasting`. This means that SVD is\n",
      "working in \"stacked\" mode: it iterates over all indices of the first\n",
      "``a.ndim - 2`` dimensions and for each combination SVD is applied to the\n",
      "last two indices. The matrix `a` can be reconstructed from the\n",
      "decomposition with either ``(u * s[..., None, :]) @ vh`` or\n",
      "``u @ (s[..., None] * vh)``. (The ``@`` operator can be replaced by the\n",
      "function ``np.matmul`` for python versions below 3.5.)\n",
      "\n",
      "If `a` is a ``matrix`` object (as opposed to an ``ndarray``), then so are\n",
      "all the return values.\n",
      "\n",
      "Examples\n",
      "--------\n",
      ">>> a = np.random.randn(9, 6) + 1j*np.random.randn(9, 6)\n",
      ">>> b = np.random.randn(2, 7, 8, 3) + 1j*np.random.randn(2, 7, 8, 3)\n",
      "\n",
      "Reconstruction based on full SVD, 2D case:\n",
      "\n",
      ">>> U, S, Vh = np.linalg.svd(a, full_matrices=True)\n",
      ">>> U.shape, S.shape, Vh.shape\n",
      "((9, 9), (6,), (6, 6))\n",
      ">>> np.allclose(a, np.dot(U[:, :6] * S, Vh))\n",
      "True\n",
      ">>> smat = np.zeros((9, 6), dtype=complex)\n",
      ">>> smat[:6, :6] = np.diag(S)\n",
      ">>> np.allclose(a, np.dot(U, np.dot(smat, Vh)))\n",
      "True\n",
      "\n",
      "Reconstruction based on reduced SVD, 2D case:\n",
      "\n",
      ">>> U, S, Vh = np.linalg.svd(a, full_matrices=False)\n",
      ">>> U.shape, S.shape, Vh.shape\n",
      "((9, 6), (6,), (6, 6))\n",
      ">>> np.allclose(a, np.dot(U * S, Vh))\n",
      "True\n",
      ">>> smat = np.diag(S)\n",
      ">>> np.allclose(a, np.dot(U, np.dot(smat, Vh)))\n",
      "True\n",
      "\n",
      "Reconstruction based on full SVD, 4D case:\n",
      "\n",
      ">>> U, S, Vh = np.linalg.svd(b, full_matrices=True)\n",
      ">>> U.shape, S.shape, Vh.shape\n",
      "((2, 7, 8, 8), (2, 7, 3), (2, 7, 3, 3))\n",
      ">>> np.allclose(b, np.matmul(U[..., :3] * S[..., None, :], Vh))\n",
      "True\n",
      ">>> np.allclose(b, np.matmul(U[..., :3], S[..., None] * Vh))\n",
      "True\n",
      "\n",
      "Reconstruction based on reduced SVD, 4D case:\n",
      "\n",
      ">>> U, S, Vh = np.linalg.svd(b, full_matrices=False)\n",
      ">>> U.shape, S.shape, Vh.shape\n",
      "((2, 7, 8, 3), (2, 7, 3), (2, 7, 3, 3))\n",
      ">>> np.allclose(b, np.matmul(U * S[..., None, :], Vh))\n",
      "True\n",
      ">>> np.allclose(b, np.matmul(U, S[..., None] * Vh))\n",
      "True\n",
      "\u001b[1;31mClass docstring:\u001b[0m\n",
      "Class to wrap functions with checks for __array_function__ overrides.\n",
      "\n",
      "All arguments are required, and can only be passed by position.\n",
      "\n",
      "Parameters\n",
      "----------\n",
      "dispatcher : function or None\n",
      "    The dispatcher function that returns a single sequence-like object\n",
      "    of all arguments relevant.  It must have the same signature (except\n",
      "    the default values) as the actual implementation.\n",
      "    If ``None``, this is a ``like=`` dispatcher and the\n",
      "    ``_ArrayFunctionDispatcher`` must be called with ``like`` as the\n",
      "    first (additional and positional) argument.\n",
      "implementation : function\n",
      "    Function that implements the operation on NumPy arrays without\n",
      "    overrides.  Arguments passed calling the ``_ArrayFunctionDispatcher``\n",
      "    will be forwarded to this (and the ``dispatcher``) as if using\n",
      "    ``*args, **kwargs``.\n",
      "\n",
      "Attributes\n",
      "----------\n",
      "_implementation : function\n",
      "    The original implementation passed in."
     ]
    }
   ],
   "source": [
    "# svd. singluar value decomposition\n",
    "a = np.random.randn(4,3)\n",
    "u, s, vh = np.linalg.svd(a, full_matrices=True)\n",
    "print(u.shape, s.shape, vh.shape)\n",
    "np.linalg.svd?"
   ]
  },
  {
   "cell_type": "code",
   "execution_count": 54,
   "metadata": {
    "slideshow": {
     "slide_type": "subslide"
    }
   },
   "outputs": [
    {
     "data": {
      "text/plain": [
       "True"
      ]
     },
     "execution_count": 54,
     "metadata": {},
     "output_type": "execute_result"
    }
   ],
   "source": [
    "# let's check if factorization is correct\n",
    "np.allclose(a, np.dot(u[:,:3]*s, vh))"
   ]
  },
  {
   "cell_type": "markdown",
   "metadata": {
    "slideshow": {
     "slide_type": "slide"
    }
   },
   "source": [
    "## Pseudorandom Number Generation\n",
    "Lots of functions for drawing from normal, binomial, chisq, gamma, and uniform distrubtions."
   ]
  },
  {
   "cell_type": "markdown",
   "metadata": {
    "slideshow": {
     "slide_type": "slide"
    }
   },
   "source": [
    "## Example: random walk"
   ]
  },
  {
   "cell_type": "code",
   "execution_count": 55,
   "metadata": {
    "slideshow": {
     "slide_type": "subslide"
    }
   },
   "outputs": [],
   "source": [
    "# let's similulate a random walk with equal probability of step 1 or -1 in pure python\n",
    "position = 0\n",
    "walk = [0]\n",
    "for i in range(100):\n",
    "    step = 1 if np.random.choice([True, False]) else -1\n",
    "    position += step\n",
    "    walk.append(position)\n",
    "\n"
   ]
  },
  {
   "cell_type": "code",
   "execution_count": 56,
   "metadata": {
    "slideshow": {
     "slide_type": "subslide"
    }
   },
   "outputs": [
    {
     "data": {
      "text/plain": [
       "[<matplotlib.lines.Line2D at 0x1f7b4e0f710>]"
      ]
     },
     "execution_count": 56,
     "metadata": {},
     "output_type": "execute_result"
    },
    {
     "data": {
      "image/png": "[encoded data removed]",
      "text/plain": [
       "<Figure size 640x480 with 1 Axes>"
      ]
     },
     "metadata": {},
     "output_type": "display_data"
    }
   ],
   "source": [
    "%matplotlib inline\n",
    "import matplotlib.pyplot as plt\n",
    "plt.plot(walk)"
   ]
  },
  {
   "cell_type": "code",
   "execution_count": 57,
   "metadata": {
    "slideshow": {
     "slide_type": "subslide"
    }
   },
   "outputs": [
    {
     "name": "stdout",
     "output_type": "stream",
     "text": [
      "\u001b[1;31mDocstring:\u001b[0m\n",
      "choice(a, size=None, replace=True, p=None)\n",
      "\n",
      "Generates a random sample from a given 1-D array\n",
      "\n",
      ".. versionadded:: 1.7.0\n",
      "\n",
      ".. note::\n",
      "    New code should use the `~numpy.random.Generator.choice`\n",
      "    method of a `~numpy.random.Generator` instance instead;\n",
      "    please see the :ref:`random-quick-start`.\n",
      "\n",
      "Parameters\n",
      "----------\n",
      "a : 1-D array-like or int\n",
      "    If an ndarray, a random sample is generated from its elements.\n",
      "    If an int, the random sample is generated as if it were ``np.arange(a)``\n",
      "size : int or tuple of ints, optional\n",
      "    Output shape.  If the given shape is, e.g., ``(m, n, k)``, then\n",
      "    ``m * n * k`` samples are drawn.  Default is None, in which case a\n",
      "    single value is returned.\n",
      "replace : boolean, optional\n",
      "    Whether the sample is with or without replacement. Default is True,\n",
      "    meaning that a value of ``a`` can be selected multiple times.\n",
      "p : 1-D array-like, optional\n",
      "    The probabilities associated with each entry in a.\n",
      "    If not given, the sample assumes a uniform distribution over all\n",
      "    entries in ``a``.\n",
      "\n",
      "Returns\n",
      "-------\n",
      "samples : single item or ndarray\n",
      "    The generated random samples\n",
      "\n",
      "Raises\n",
      "------\n",
      "ValueError\n",
      "    If a is an int and less than zero, if a or p are not 1-dimensional,\n",
      "    if a is an array-like of size 0, if p is not a vector of\n",
      "    probabilities, if a and p have different lengths, or if\n",
      "    replace=False and the sample size is greater than the population\n",
      "    size\n",
      "\n",
      "See Also\n",
      "--------\n",
      "randint, shuffle, permutation\n",
      "random.Generator.choice: which should be used in new code\n",
      "\n",
      "Notes\n",
      "-----\n",
      "Setting user-specified probabilities through ``p`` uses a more general but less\n",
      "efficient sampler than the default. The general sampler produces a different sample\n",
      "than the optimized sampler even if each element of ``p`` is 1 / len(a).\n",
      "\n",
      "Sampling random rows from a 2-D array is not possible with this function,\n",
      "but is possible with `Generator.choice` through its ``axis`` keyword.\n",
      "\n",
      "Examples\n",
      "--------\n",
      "Generate a uniform random sample from np.arange(5) of size 3:\n",
      "\n",
      ">>> np.random.choice(5, 3)\n",
      "array([0, 3, 4]) # random\n",
      ">>> #This is equivalent to np.random.randint(0,5,3)\n",
      "\n",
      "Generate a non-uniform random sample from np.arange(5) of size 3:\n",
      "\n",
      ">>> np.random.choice(5, 3, p=[0.1, 0, 0.3, 0.6, 0])\n",
      "array([3, 3, 0]) # random\n",
      "\n",
      "Generate a uniform random sample from np.arange(5) of size 3 without\n",
      "replacement:\n",
      "\n",
      ">>> np.random.choice(5, 3, replace=False)\n",
      "array([3,1,0]) # random\n",
      ">>> #This is equivalent to np.random.permutation(np.arange(5))[:3]\n",
      "\n",
      "Generate a non-uniform random sample from np.arange(5) of size\n",
      "3 without replacement:\n",
      "\n",
      ">>> np.random.choice(5, 3, replace=False, p=[0.1, 0, 0.3, 0.6, 0])\n",
      "array([2, 3, 0]) # random\n",
      "\n",
      "Any of the above can be repeated with an arbitrary array-like\n",
      "instead of just integers. For instance:\n",
      "\n",
      ">>> aa_milne_arr = ['pooh', 'rabbit', 'piglet', 'Christopher']\n",
      ">>> np.random.choice(aa_milne_arr, 5, p=[0.5, 0.1, 0.1, 0.3])\n",
      "array(['pooh', 'pooh', 'pooh', 'Christopher', 'piglet'], # random\n",
      "      dtype='<U11')\n",
      "\u001b[1;31mType:\u001b[0m      builtin_function_or_method"
     ]
    }
   ],
   "source": [
    "#Using numpy array we can do following\n",
    "ranndrom_draw= np.random.choice?"
   ]
  },
  {
   "cell_type": "code",
   "execution_count": 58,
   "metadata": {
    "slideshow": {
     "slide_type": "subslide"
    }
   },
   "outputs": [],
   "source": [
    "random_walk= np.random.choice([1, -1], size = 100)"
   ]
  },
  {
   "cell_type": "code",
   "execution_count": 59,
   "metadata": {
    "slideshow": {
     "slide_type": "subslide"
    }
   },
   "outputs": [
    {
     "data": {
      "text/plain": [
       "[<matplotlib.lines.Line2D at 0x1f7b4e99f10>]"
      ]
     },
     "execution_count": 59,
     "metadata": {},
     "output_type": "execute_result"
    },
    {
     "data": {
      "image/png": "[encoded data removed]",
      "text/plain": [
       "<Figure size 640x480 with 1 Axes>"
      ]
     },
     "metadata": {},
     "output_type": "display_data"
    }
   ],
   "source": [
    "walk = random_walk.cumsum()\n",
    "plt.plot(walk)"
   ]
  },
  {
   "cell_type": "markdown",
   "metadata": {
    "slideshow": {
     "slide_type": "slide"
    }
   },
   "source": [
    "Also look into\n",
    "- Broadcasting in numpy\n",
    "- [Scipy Lecture Notes](https://www.scipy-lectures.org/)"
   ]
  }
 ],
 "metadata": {
  "celltoolbar": "Slideshow",
  "kernelspec": {
   "display_name": "Python 3",
   "language": "python",
   "name": "python3"
  },
  "language_info": {
   "codemirror_mode": {
    "name": "ipython",
    "version": 3
   },
   "file_extension": ".py",
   "mimetype": "text/x-python",
   "name": "python",
   "nbconvert_exporter": "python",
   "pygments_lexer": "ipython3",
   "version": "3.11.6"
  }
 },
 "nbformat": 4,
 "nbformat_minor": 2
}
