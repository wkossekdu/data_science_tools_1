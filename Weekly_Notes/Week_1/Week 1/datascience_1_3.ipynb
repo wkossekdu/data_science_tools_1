{
 "cells": [
  {
   "cell_type": "markdown",
   "metadata": {
    "slideshow": {
     "slide_type": "slide"
    }
   },
   "source": [
    "<center> <h1> Data Science </h1>"
   ]
  },
  {
   "cell_type": "markdown",
   "metadata": {
    "slideshow": {
     "slide_type": "slide"
    }
   },
   "source": [
    "\n",
    "- Data science is a \"concept to unify statistics, data analysis, machine learning and their related methods\" in order to \"understand and analyze actual phenomena\" with data. [Wikipedia](https://en.wikipedia.org/wiki/Data_science)\n"
   ]
  },
  {
   "cell_type": "markdown",
   "metadata": {
    "slideshow": {
     "slide_type": "slide"
    }
   },
   "source": [
    "# Why do we care?"
   ]
  },
  {
   "cell_type": "markdown",
   "metadata": {
    "slideshow": {
     "slide_type": "subslide"
    }
   },
   "source": [
    "- [Google Flu trend](https://www.google.com/publicdata/explore?ds=z3bsqef7ki44ac_#!ctype=l&strail=false&bcs=d&nselm=h&met_y=flu_index&scale_y=lin&ind_y=false&rdim=country&idim=country:US&ifdim=country&hl=en_US&dl=en_US&ind=false) Detection ahead of CDC\n",
    "- fact based world view. See [this](https://www.gapminder.org/tools/#$chart-type=bubbles) animation from Gapminder\n",
    " \n"
   ]
  },
  {
   "cell_type": "markdown",
   "metadata": {
    "slideshow": {
     "slide_type": "subslide"
    }
   },
   "source": [
    "<center> <h1> 2012 Election prediction</h1>\n",
    "   <img src=\"figures/2012_election_pred.png\",width=500,height=500> \n",
    " <font size= \"2\">  source: https://mashable.com/2012/11/07/nate-silver-wins/#Uzc2MiXyauq7 </font></center>"
   ]
  },
  {
   "cell_type": "markdown",
   "metadata": {
    "slideshow": {
     "slide_type": "subslide"
    }
   },
   "source": [
    "<center>\n",
    "  <h1>Data the centerpiece of any business </h1>\n",
    " Search(Personalized) is big part of our lives.\n",
    "\n",
    "Let's look at Amazon recommendation </center>"
   ]
  },
  {
   "cell_type": "markdown",
   "metadata": {
    "slideshow": {
     "slide_type": "subslide"
    }
   },
   "source": [
    "<center> <h1> Initial search </h1> \n",
    "For e-commerce companies, understanding user behaviour is curcial for success\n",
    "<img src=\"figures/product_reco_initial_search.png\",width=800,height=800> </center>\n"
   ]
  },
  {
   "cell_type": "markdown",
   "metadata": {
    "slideshow": {
     "slide_type": "subslide"
    }
   },
   "source": [
    "<center> <h1> Personalized recommendation </h1> \n",
    "<img src=\"figures/product_reco_personalized_reco.png\",width=800,height=800> </center>"
   ]
  },
  {
   "cell_type": "markdown",
   "metadata": {
    "slideshow": {
     "slide_type": "subslide"
    }
   },
   "source": [
    "<center> <h1> Recommendation based on past behaviour\n",
    "<img src=\"figures/product_reco_personalized_reco1.png\",width=800,height=800> </center>"
   ]
  },
  {
   "cell_type": "markdown",
   "metadata": {
    "slideshow": {
     "slide_type": "slide"
    }
   },
   "source": [
    "Data driven decision making was there but during last decade, we have built big infrastucture for data collection and processing\n",
    "- Cell phones, scoial media website, dataware house\n",
    "- Cloud computing,  faster GPU etc.\n"
   ]
  },
  {
   "cell_type": "markdown",
   "metadata": {
    "slideshow": {
     "slide_type": "slide"
    }
   },
   "source": [
    "<center><h1> What it takes to be a data scientist </h1></center>\n"
   ]
  },
  {
   "cell_type": "markdown",
   "metadata": {},
   "source": [
    "<center> \n",
    "<img src=\"figures/datascience.png\",width=800,height=800> </center>"
   ]
  },
  {
   "cell_type": "markdown",
   "metadata": {
    "slideshow": {
     "slide_type": "slide"
    }
   },
   "source": [
    "It is hard to define what me mean by data science/machine learning.\n",
    "In this course we will see that it requires.\n",
    " - Defining problem, project statement\n",
    " - Gathering, cleaning data\n",
    "     + typo, abbreviations in customer data(auto complete is not your friend)\n",
    "        w are u? thnal :). 832-xxx-xxx, 832,xxx,xxx, 832xxxxxx\n",
    " "
   ]
  },
  {
   "cell_type": "markdown",
   "metadata": {
    "slideshow": {
     "slide_type": "subslide"
    }
   },
   "source": [
    "- Statistical summary, visualization\n",
    "     + Histogram, boxplot, summary(max, min)\n",
    " - Support machine learning work flow(Your model is as good as your data).\n",
    "     + model selection and evaluation\n",
    "     + model maintenance in production\n",
    "     \n",
    " All the above activity should lead to <font size = \"6\" color = \"red\"> actionable insights </font>"
   ]
  },
  {
   "cell_type": "markdown",
   "metadata": {
    "slideshow": {
     "slide_type": "slide"
    }
   },
   "source": [
    "# Data science life cycle.\n"
   ]
  },
  {
   "cell_type": "markdown",
   "metadata": {
    "slideshow": {
     "slide_type": "subslide"
    }
   },
   "source": [
    "Most activities in data science work are iterative.\n",
    "<center> <img src=\"https://upload.wikimedia.org/wikipedia/commons/3/3b/Predictive_Analytics_Process.png\", width=400,height=400> \n",
    "<font size=\"2\"> source: wikimedia </font></center>"
   ]
  },
  {
   "cell_type": "markdown",
   "metadata": {
    "slideshow": {
     "slide_type": "slide"
    }
   },
   "source": [
    "## Problem Formulation/ project definition\n",
    "- Define the problem you are interested in. \n",
    "    + Otherwise your solution is will not convey right story/result.\n",
    "\n",
    "    "
   ]
  },
  {
   "cell_type": "markdown",
   "metadata": {
    "slideshow": {
     "slide_type": "subslide"
    }
   },
   "source": [
    "# Examples\n",
    "- Build a solution to identify fradulent bank transaction.\n",
    "- In quality control build a system to indentify faulty part"
   ]
  },
  {
   "cell_type": "markdown",
   "metadata": {
    "slideshow": {
     "slide_type": "subslide"
    }
   },
   "source": [
    "Also identify the business metric you want to use. It'll help in understanding financial implications.\n",
    "\n",
    "- Key business performance indicator(KPI)\n",
    "- Accuracy of quality control system. \n",
    "- Customer retention rate\n",
    "- Increase membership, product sales\n",
    "- Improve the group memebership in social network"
   ]
  },
  {
   "cell_type": "markdown",
   "metadata": {
    "slideshow": {
     "slide_type": "subslide"
    }
   },
   "source": [
    "- What data is vailable. Data collection can be huge undertaking in terms of time and money.\n",
    "- Does simple statistical analysis does the job or use machine learning algorithms\n",
    "    + What type of alogrithms to use"
   ]
  },
  {
   "cell_type": "markdown",
   "metadata": {
    "slideshow": {
     "slide_type": "subslide"
    }
   },
   "source": [
    "In problem formulation your business knowledge, domain knowledge, metric knowledge come together to conver it\n",
    "into an analystical problem."
   ]
  },
  {
   "cell_type": "markdown",
   "metadata": {
    "slideshow": {
     "slide_type": "slide"
    }
   },
   "source": [
    "## Data Collection\n",
    "- Don't have data for the problem\n",
    "- Need more data or features\n",
    "- Need more data in an imbalanced scenario\n"
   ]
  },
  {
   "cell_type": "markdown",
   "metadata": {
    "slideshow": {
     "slide_type": "subslide"
    }
   },
   "source": [
    "### How to collect the data\n",
    "- logs, databases.\n",
    "    + You business is already collecting customer data in some database\n",
    "- Web scrapping.\n",
    "    + Search and collect web for happy faces. \n",
    "    + search Indeed for all the datascience job and collect skill required.\n",
    "- Data API. [The New York Times Developer Network](https://developer.nytimes.com/)\n",
    "    + You need to register. Pay or limit API making call. If you violate policy they can ban you."
   ]
  },
  {
   "cell_type": "markdown",
   "metadata": {
    "slideshow": {
     "slide_type": "subslide"
    }
   },
   "source": [
    "## Or you can use public datasets from lot of organizations\n",
    "- Most machine learning libararies has data loader. Check [scikit data](https://scikit-learn.org/stable/datasets/index.html) builtin for toy datasets\n",
    "- Can go to [Kaggle](https://www.kaggle.com/datasets)\n",
    "- [UCI machine learning](https://archive.ics.uci.edu/ml/datasets.html)\n",
    "- [U.S. General Services Administration](https://catalog.data.gov/dataset)\n",
    "- [UN data](http://data.un.org/)"
   ]
  },
  {
   "cell_type": "markdown",
   "metadata": {
    "slideshow": {
     "slide_type": "subslide"
    }
   },
   "source": [
    "- Your sample in training and testing of  task should be representative of the population\n",
    "- If you data don't have target label for the task then you need to create labels\n",
    "    + Build custom tool(standalone or web-based) for labeler with clear guidlines.\n",
    "    + Use Amazon Mechanical Turk to create gold standard for machine leaning\n",
    "- Companies also infer target based on your transaction(what you bought, clicked etc).\n",
    "    "
   ]
  },
  {
   "cell_type": "markdown",
   "metadata": {
    "slideshow": {
     "slide_type": "slide"
    }
   },
   "source": [
    "# Data Processing"
   ]
  },
  {
   "cell_type": "markdown",
   "metadata": {
    "slideshow": {
     "slide_type": "subslide"
    }
   },
   "source": [
    "## Data cleanup\n",
    "Need to clean the data before doing analysis or feeding to machine learning model."
   ]
  },
  {
   "cell_type": "markdown",
   "metadata": {
    "slideshow": {
     "slide_type": "subslide"
    }
   },
   "source": [
    "# Data Transformation \n",
    "Involves normalization, transformation "
   ]
  },
  {
   "cell_type": "markdown",
   "metadata": {
    "slideshow": {
     "slide_type": "subslide"
    }
   },
   "source": [
    "# EDA (exploratory data analysis)\n",
    "\n",
    "Analyze datasets to summarize main characteristics of datasets\n",
    "\n",
    "Side: Domain knowledge helps.\n",
    "    "
   ]
  },
  {
   "cell_type": "markdown",
   "metadata": {
    "slideshow": {
     "slide_type": "subslide"
    }
   },
   "source": [
    "# Statistical Summarization (Descriptive Statistics) and visualization\n",
    "- Data shape (rows, colums). We assume that each example is along the row\n",
    "- Central Tendencies (pandas describe() method)\n",
    "    + Mean, Min/Max, standard deviation, quantile,  higher order moments\n",
    "- Outlier- typo, issue with data acquisition. Or it is correct but belongs to a different subclass etc.\n",
    "    + Use box plot, voilin plot etc. \n",
    "- Bias in data\n",
    "    \n",
    "\n"
   ]
  },
  {
   "cell_type": "markdown",
   "metadata": {
    "slideshow": {
     "slide_type": "subslide"
    }
   },
   "source": [
    "- Data distribution plot (We will use [seaborn statistical](https://seaborn.pydata.org/tutorial/distributions.html) plots like distplot, scatter, etc.)\n",
    "    + How many modes, does it follow some well known distribution\n",
    "- Find Missing attributes and their distribution.\n",
    "    + Need to decide what to do with missing values. Data imputation.\n",
    "- For categorical target/feaure, class distribution of data\n",
    "- Contingency table, heatmap, correlation (pairplot in seaborn)"
   ]
  },
  {
   "cell_type": "markdown",
   "metadata": {
    "slideshow": {
     "slide_type": "subslide"
    }
   },
   "source": [
    "## All the previous activity should help us in deciding?\n",
    " - Are features useful?\n",
    " - Do we need more data?\n",
    " - High correlation in feature. How does it affect model building?"
   ]
  },
  {
   "cell_type": "markdown",
   "metadata": {
    "slideshow": {
     "slide_type": "subslide"
    }
   },
   "source": [
    "# Model building\n",
    "- Involves model selection\n",
    "- Model evaluation\n"
   ]
  },
  {
   "cell_type": "markdown",
   "metadata": {
    "slideshow": {
     "slide_type": "subslide"
    }
   },
   "source": [
    "# Model deployment and maintenance\n",
    "We need to monitor model performance in production and  update it based on new data"
   ]
  }
 ],
 "metadata": {
  "celltoolbar": "Slideshow",
  "kernelspec": {
   "display_name": "Python 3",
   "language": "python",
   "name": "python3"
  },
  "language_info": {
   "codemirror_mode": {
    "name": "ipython",
    "version": 3
   },
   "file_extension": ".py",
   "mimetype": "text/x-python",
   "name": "python",
   "nbconvert_exporter": "python",
   "pygments_lexer": "ipython3",
   "version": "3.5.2"
  }
 },
 "nbformat": 4,
 "nbformat_minor": 2
}
