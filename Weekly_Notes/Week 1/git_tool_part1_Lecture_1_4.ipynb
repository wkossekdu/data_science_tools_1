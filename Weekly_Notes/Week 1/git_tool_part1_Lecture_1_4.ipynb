{
 "cells": [
  {
   "cell_type": "markdown",
   "metadata": {
    "slideshow": {
     "slide_type": "slide"
    }
   },
   "source": [
    "# Git version control system"
   ]
  },
  {
   "cell_type": "markdown",
   "metadata": {
    "slideshow": {
     "slide_type": "subslide"
    }
   },
   "source": [
    "## Why do we care?\n",
    "- Do you recall receiving/sharing files via email like **file_rev01.doc ... file_rev02.doc, file_final.doc, file_final1.doc or file_final_final.doc**?\n",
    "- Making copies of projects/folders like **project_20aug2018**, **project_02sep2018 etc** in your computer?"
   ]
  },
  {
   "cell_type": "markdown",
   "metadata": {
    "slideshow": {
     "slide_type": "subslide"
    }
   },
   "source": [
    "##  So what? What are the issues here?"
   ]
  },
  {
   "cell_type": "markdown",
   "metadata": {
    "slideshow": {
     "slide_type": "fragment"
    }
   },
   "source": [
    "- Most of the content is similar. Delta change is quite small.\n",
    "    + Wasteful of  storage space\n",
    "- Even in a month or a year, it is hard to understand what is the difference between different files/ folder.\n",
    "    + What is the timeline of changes. Why and what was done?"
   ]
  },
  {
   "cell_type": "markdown",
   "metadata": {
    "slideshow": {
     "slide_type": "subslide"
    }
   },
   "source": [
    "If we go back to adding suffixes [like \\_01, \\_02, ...] one thing we need to ask is, why we did this?\n",
    "\n",
    "+ Maybe \\_01, \\_02 is some kind of implicit timeline.\n",
    "    - one issue is we seldom keep meta data about different version of a file. Going back to a particular version is very hard.\n",
    "+ Parallel changes are not advisable. Who will resolve conflict (**merge conflict**) in words, lines etc.\n",
    "    - e.g. you are working  with someone and you need to keep updating documents alternatively to produce final document.\n",
    "+ If we agree on parallel changes to the documents, someone has to take care of merging."
   ]
  },
  {
   "cell_type": "markdown",
   "metadata": {
    "slideshow": {
     "slide_type": "notes"
    }
   },
   "source": [
    "During my student's life. I have worked with people in this fashion. It was time consuming and not productive."
   ]
  },
  {
   "cell_type": "markdown",
   "metadata": {
    "slideshow": {
     "slide_type": "subslide"
    }
   },
   "source": [
    "__Clearly we need a system (version control or source contro) to handle above issues.__\n",
    "\n",
    "A version control or source control\n",
    "- Allows keeping track of the history of the files\n",
    "- Allows creating different versions of the files\n",
    "- Allows collaboration."
   ]
  },
  {
   "cell_type": "markdown",
   "metadata": {
    "slideshow": {
     "slide_type": "slide"
    }
   },
   "source": [
    "|<center> <h1> Version control </h1> </center>"
   ]
  },
  {
   "cell_type": "markdown",
   "metadata": {
    "slideshow": {
     "slide_type": "subslide"
    }
   },
   "source": [
    "# Types of version control system(VCS)\n",
    "- Centralized\n",
    "- Distributed\n",
    "\n",
    "\n"
   ]
  },
  {
   "cell_type": "markdown",
   "metadata": {
    "slideshow": {
     "slide_type": "slide"
    }
   },
   "source": [
    "# Centralized VCS(SVN, CSV)\n",
    "|<center> <h1> Distributed version control system </h1>\n",
    "    <img src= \"./figures/vcs_centralized.png\" height= \"1000\" width = \"1000\">  </img>\n",
    "</center>\n",
    "\n",
    "<center>  <b>Repository:  Place where version of files are kept </b> </center>\n"
   ]
  },
  {
   "cell_type": "markdown",
   "metadata": {
    "slideshow": {
     "slide_type": "fragment"
    }
   },
   "source": [
    "<center>  <font color = \"red\">Centralized version control system has a single point of failure </font></center>"
   ]
  },
  {
   "cell_type": "markdown",
   "metadata": {
    "slideshow": {
     "slide_type": "notes"
    }
   },
   "source": [
    "digraph G {\n",
    "  \"centralized repository\" -> \"file 1 \";\n",
    "  \"centralized repositroy\" -> \"file 2\";\n",
    "  \"centralized repository\" -> \"file 3\";\n",
    "}\n",
    "! emcas ./figures/vcs_centralized.gv\n",
    "!dot -Tpng vcs_centralized.gv -o vcs_centralized.png"
   ]
  },
  {
   "cell_type": "markdown",
   "metadata": {
    "slideshow": {
     "slide_type": "slide"
    }
   },
   "source": [
    "|<center> <h1> Distributed version control system </h1>\n",
    "    <img src= \"./figures/git_dist_arch.png\" height= \"1000\" width = \"1000\">  </img>\n",
    "</center>\n",
    "\n"
   ]
  },
  {
   "cell_type": "markdown",
   "metadata": {
    "slideshow": {
     "slide_type": "notes"
    }
   },
   "source": [
    "!emacs git_dist_arch.gv\n",
    "!dot -Tpng git_dist_arch.gv -o git_dist_arch.png"
   ]
  },
  {
   "cell_type": "markdown",
   "metadata": {
    "slideshow": {
     "slide_type": "subslide"
    }
   },
   "source": [
    "In a distributed version control system\n",
    "\n",
    "- Each user has a copy of the repository.\n",
    "    + Copying is called **cloning.**\n",
    "    + Resulting copy is called **clone.**\n",
    "    \n",
    "**_Git is a popular distributed version control system._**"
   ]
  },
  {
   "cell_type": "markdown",
   "metadata": {
    "slideshow": {
     "slide_type": "subslide"
    }
   },
   "source": [
    "# Git configuration\n",
    "When you work in a team, it is important to know who made a particular change.\n",
    "\n",
    "- git config --global user.name \"you name\"\n",
    "- git config  --global user.email \"you email id\""
   ]
  },
  {
   "cell_type": "markdown",
   "metadata": {
    "slideshow": {
     "slide_type": "fragment"
    }
   },
   "source": [
    "To check current configuration run\n",
    "\n",
    "**git config --list**"
   ]
  },
  {
   "cell_type": "markdown",
   "metadata": {
    "slideshow": {
     "slide_type": "slide"
    }
   },
   "source": [
    "# Using git\n",
    "Git can be used one of the following situations.\n",
    "1. Tracking local project/folder\n",
    "1. Working on a remote repository in a team\n",
    "     + Creating a remote repository for a team if there is none.\n",
    "2. Contibuting to open source projects when you don't have write permission on repository."
   ]
  },
  {
   "cell_type": "markdown",
   "metadata": {
    "slideshow": {
     "slide_type": "subslide"
    }
   },
   "source": [
    "# 1. Tracking local project/folder\n",
    "- Run **git init** command within the project folder.\n",
    "    + If you do **ls -al** from command prompt, you would see a **.git** folder. This is how git tracks our projects."
   ]
  },
  {
   "cell_type": "markdown",
   "metadata": {
    "slideshow": {
     "slide_type": "subslide"
    }
   },
   "source": [
    "## Demo for creating a folder and tracking it with git.\n",
    "We'll run\n",
    "- git init to initialize empty repository\n",
    "- ls -al to see .git folder\n",
    "- git status to check repository state.\n",
    "- create some python code, like square of numbers up to n. Also create .pyc file using py_compile. In fact we don't want .pyc file to be tracked. We will see how to do that using .gitignore\n",
    "- run git status again (What are untracked files)"
   ]
  },
  {
   "cell_type": "markdown",
   "metadata": {
    "slideshow": {
     "slide_type": "subslide"
    }
   },
   "source": [
    "## Working Tree\n",
    "Collection of files in a local repository is called working tree.\n",
    "\n",
    "A file in the working tree can have following state\n",
    "\n",
    "\n",
    "<table style=\"width:100%\" >\n",
    "    \n",
    "  <tr>\n",
    "    <th> <font size = \"6\"> state </font> </th>\n",
    "    <th> <font size = \"6\">Description </font></th> \n",
    "\n",
    "  </tr>\n",
    "  <tr>\n",
    "    <td> <font size = \"6\">untracked </font></td>\n",
    "        <td> <font size = \"6\">file not tracked by git </font></td>\n",
    "    \n",
    "  </tr>\n",
    "  <tr>\n",
    "    <td><font size = \"6\">tracked </font></td>\n",
    "    <td><font size = \"6\">committed and not staged </font></td>\n",
    "  </tr>\n",
    "  <tr>\n",
    "    <td><font size = \"6\">staged </font></td>\n",
    "    <td><font size = \"6\"> to be included in next commit <font></td>\n",
    "  </tr>\n",
    "  <tr>\n",
    "    <td><font size = \"6\">dirty/modified </font></td>\n",
    "    <td><font size = \"6\"> file has changes but not staged <font></td>\n",
    "  </tr>\n",
    "</table>\n"
   ]
  },
  {
   "cell_type": "markdown",
   "metadata": {
    "slideshow": {
     "slide_type": "subslide"
    }
   },
   "source": [
    "# How to commit a file in git for tracking.\n",
    "<center>\n",
    "Let's see various state change for a file.\n",
    "<img src= \"https://git-scm.com/book/en/v2/images/lifecycle.png\" height=\"800\" width=\"800\"> </img>\n",
    "source : Pro Git book, written by Scott Chacon and Ben Straub\n",
    "</center>"
   ]
  },
  {
   "cell_type": "markdown",
   "metadata": {
    "slideshow": {
     "slide_type": "subslide"
    }
   },
   "source": [
    "**Demo:** We will do following activity in sample project folder created earlier\n",
    "- **git status** on sample folder\n",
    "- **git add file_name[or -A to add all untracked or modified files]** to put a file in the staging area.\n",
    "    + Use **git reset file_name** to remove from staging area (*unstage*).\n",
    "    + or use **git rm --cached file_name**\n",
    "    + **git reset** will remove all the files from staging area\n",
    "- **git status** to see the files moved to staging area.\n"
   ]
  },
  {
   "cell_type": "markdown",
   "metadata": {
    "slideshow": {
     "slide_type": "subslide"
    }
   },
   "source": [
    "**Demo cont.:**\n",
    "- create a .gitignore to avoid tracking .pyc file (or any file we don't want to be tracked).\n",
    "- **git status** to see it is no longer tracked\n",
    "- **git commit -m \"commit message\"** to start tracking the file\n",
    "    + Use **git log** to see detailed  commit logs.\n",
    "- **git status** to show status again\n",
    "<center><font color = 'red'>What is that staging area before commit? </font> </center>\n"
   ]
  },
  {
   "cell_type": "markdown",
   "metadata": {
    "slideshow": {
     "slide_type": "subslide"
    }
   },
   "source": [
    "# 2.0 Start working on a remote repository in a team"
   ]
  },
  {
   "cell_type": "markdown",
   "metadata": {
    "slideshow": {
     "slide_type": "subslide"
    }
   },
   "source": [
    "## But wait. How does one create a new remote repository on github.\n",
    "Click on top right + icon in www.github.com"
   ]
  },
  {
   "cell_type": "markdown",
   "metadata": {
    "slideshow": {
     "slide_type": "fragment"
    }
   },
   "source": [
    "<img src = \"./figures/create_remote_rep01.png\"> </img>"
   ]
  },
  {
   "cell_type": "markdown",
   "metadata": {
    "slideshow": {
     "slide_type": "subslide"
    }
   },
   "source": [
    "give a name (like **analysis_of_word_bank** in the following image) -> select private or public -> check Initialize this repository with a README(optional) >add licence and .gitignore (optional) ->  **then click on create repository**\n",
    "<img src= \"./figures/create_remote_rep02.png\" height = \"800\" width = \"800\"> </img>"
   ]
  },
  {
   "cell_type": "markdown",
   "metadata": {
    "slideshow": {
     "slide_type": "subslide"
    }
   },
   "source": [
    "Follow on with the option to connect new or exisiting local repository \n",
    "\n",
    "<img src= \"./figures/create_remote_rep03.png\" height = \"1000\" width = \"1000\"> </img>"
   ]
  },
  {
   "cell_type": "markdown",
   "metadata": {
    "slideshow": {
     "slide_type": "subslide"
    }
   },
   "source": [
    "<center> <h1> Demo for creating a remote repository on github.com as shown in previous slides. </h1> </center>\n",
    "\n",
    "- Create analysis_of_world_bank_data repository\n",
    "- In the command prompt, navigate to the directory you want to clone this remote repository\n",
    "- Let's use the first way to clone by running\n",
    "\n",
    "**git clone https://github.com/psnegi/analysis_of_world_bank_data.git**. \n",
    "\n",
    "After cloning one has complete repository with all the history.\n",
    "Note: **To find remote repository url**, click on <font color = \"green\" size = \"8\">clone or download</font> button in the middle right hand side of remote repository webpage. Copy https/ssh url.\n"
   ]
  },
  {
   "cell_type": "markdown",
   "metadata": {
    "slideshow": {
     "slide_type": "subslide"
    }
   },
   "source": [
    "# Demo cont.\n",
    "- Navigate to the analysis_of_world_bank_data directory. Run **git remote -v** to see remote repository connection information.\n",
    "- Add **README.md and  util.py** file in the local repository, containg code for calculating the nth power of integers up to a given upper limit."
   ]
  },
  {
   "cell_type": "markdown",
   "metadata": {
    "slideshow": {
     "slide_type": "notes"
    }
   },
   "source": [
    "dot code for above figure\n",
    "digraph G {\n",
    "   rankdir=\"LR\";\n",
    "  \"working tree\" -> \"staging area\";\n",
    "  \"staging area\" -> \"Git repository\";\n",
    "}"
   ]
  },
  {
   "cell_type": "markdown",
   "metadata": {
    "slideshow": {
     "slide_type": "subslide"
    }
   },
   "source": [
    "<center> <h1> is README.md, util.py in remote repository? </h1></center>"
   ]
  },
  {
   "cell_type": "markdown",
   "metadata": {
    "slideshow": {
     "slide_type": "fragment"
    }
   },
   "source": [
    "<center> <h1>To synchornize  to remote repository, run the following commands </h1></center>"
   ]
  },
  {
   "cell_type": "markdown",
   "metadata": {
    "slideshow": {
     "slide_type": "subslide"
    }
   },
   "source": [
    "- **git pull origin master.** *Why to pull?*\n"
   ]
  },
  {
   "cell_type": "markdown",
   "metadata": {
    "slideshow": {
     "slide_type": "fragment"
    }
   },
   "source": [
    "- **git push origin master**\n",
    "This synchronizes the local repository to remote repository.\n",
    "\n",
    "**origin:** Repository(remote) you cloned from.\n",
    "\n",
    "**master:** Local master branch will be pushed to the master branch of the remote origin."
   ]
  },
  {
   "cell_type": "markdown",
   "metadata": {
    "slideshow": {
     "slide_type": "subslide"
    }
   },
   "source": [
    " <center> <b>  Check remote repository on github </b> </center>"
   ]
  },
  {
   "cell_type": "markdown",
   "metadata": {
    "slideshow": {
     "slide_type": "slide"
    }
   },
   "source": [
    "# Why do we need the branch concept?\n",
    "Why do we care about the branch concept?\n",
    "Note that master branch generally contains production code.\n",
    "\n",
    "\n",
    "- Allows to work on different versions of your files\n",
    "- By switching to different branches one can work on different features.\n",
    "\n",
    "\n",
    "\n",
    "Note: __*You can also work on your clone of master.  Finish assigned features/work, pull and after testing can push code to a remote master(production).*__\n",
    "\n",
    "run *__git branch__* to see all the branches in your repository."
   ]
  },
  {
   "cell_type": "markdown",
   "metadata": {
    "slideshow": {
     "slide_type": "subslide"
    }
   },
   "source": [
    "\n",
    " __*Side: Actually pushing to remote in real production environment is bit more involved*__\n",
    "\n",
    "- Run some some unit and integration test for assigned feature.\n",
    "- If success, push to remote master\n",
    "- Run whole integration suite in deployment pipleline.\n",
    "    + some stage may mock external dependencies.\n",
    "- Promote to production.\n",
    "    + Manual or continuous.\n"
   ]
  },
  {
   "cell_type": "markdown",
   "metadata": {
    "slideshow": {
     "slide_type": "subslide"
    }
   },
   "source": [
    "## Workflow to work in a team\n",
    "To work on new feature/issue you create a branch. Let's say nth_pow.py was supposed to print nth pow of numbers up to given *parameter high*. Clearly it is printing only upto *high-1*. Hence we need to fix this. Let's say we got assiged this feature.\n",
    "\n",
    "- We need to create a branch. Use **git checkout -b branch_name**. It will create and switch you to the new branch. run **git branch** to confirm this.\n",
    "    + Note that you can also do **git branch branch_name** to create a branch first and then checkout(switch to) created branch as  **git checkout branch_name.**\n"
   ]
  },
  {
   "cell_type": "markdown",
   "metadata": {
    "slideshow": {
     "slide_type": "subslide"
    }
   },
   "source": [
    "## Workflow to work in a team. Cont.\n",
    "- modify the code and **git add nth_pow.py, git commit -m \"fixed range issue\"**\n",
    "- Note that branch is local. You may push branch to a remote.\n",
    "    + git push  origin branch_name"
   ]
  },
  {
   "cell_type": "markdown",
   "metadata": {
    "slideshow": {
     "slide_type": "subslide"
    }
   },
   "source": [
    "## Demo\n",
    "- git branch\n",
    "- git checkout -b nth_pow_upper_limit\n",
    "- fix power issue. git status to see the file in modified state\n",
    "- git add nth_pow.py, git status to see the file moved to stage\n",
    "- git -m \"fixed upper limit for the power\" to commit the file. git status to show clean working directory\n",
    "- git diff COMMIT~ COMMIT to see the difference between a commit and its ancestor or use git show\n"
   ]
  },
  {
   "cell_type": "markdown",
   "metadata": {
    "slideshow": {
     "slide_type": "subslide"
    }
   },
   "source": [
    "# Demo cont.\n",
    "Above operations only afftect the  created branch, local and remote master as still intact.\n",
    "- git checkout master. To show original content\n",
    "- git checkout nth_pow_upper_limit to go back to current feature branch\n",
    "- push this branch to remote using\n",
    "    + **git push -u origin nth_pow_upper_limit**\n",
    "        - **-u** tell git to associate local nth_pow_upper_limit branch to remote nth_pow_upper_limit. In future we can just do git pull and git push.\n",
    "        "
   ]
  },
  {
   "cell_type": "markdown",
   "metadata": {
    "slideshow": {
     "slide_type": "subslide"
    }
   },
   "source": [
    "# Demo cont. How to get this fix into local master branch and push it to remote?\n",
    "\n",
    "- **checkout master** and **git pull origin master (why?)**\n",
    "- **git branch --merged master** to list branches merged into master.\n",
    "    + or **git branch --no-merged** to list branches that have not been merged.\n",
    "-  **git merge nth_pow_upper_limit**\n",
    "- **git pull origin master**. See if remote master has change.\n",
    "    + this may results in merge conflicts.\n",
    "- **git push origin master**    "
   ]
  },
  {
   "cell_type": "markdown",
   "metadata": {
    "slideshow": {
     "slide_type": "subslide"
    }
   },
   "source": [
    " __*We are done with the feature and we can delete the branch locally and remotely*__"
   ]
  },
  {
   "cell_type": "markdown",
   "metadata": {
    "slideshow": {
     "slide_type": "subslide"
    }
   },
   "source": [
    "# Demo  deleting the local and remote branches\n",
    "\n",
    "- git branch -d nth_pow_upper_limit\n",
    "- git push origin --delete nth_pow_upper_limit"
   ]
  },
  {
   "cell_type": "markdown",
   "metadata": {
    "slideshow": {
     "slide_type": "slide"
    }
   },
   "source": [
    "# Resources\n",
    "## Book\n",
    "- [Pro Git book](https://git-scm.com/book/en/v2) by Scott Chacon and Ben Straub \n",
    "- [github guides](https://guides.github.com/)"
   ]
  }
 ],
 "metadata": {
  "celltoolbar": "Slideshow",
  "kernelspec": {
   "display_name": "Python 3",
   "language": "python",
   "name": "python3"
  },
  "language_info": {
   "codemirror_mode": {
    "name": "ipython",
    "version": 3
   },
   "file_extension": ".py",
   "mimetype": "text/x-python",
   "name": "python",
   "nbconvert_exporter": "python",
   "pygments_lexer": "ipython3",
   "version": "3.5.2"
  }
 },
 "nbformat": 4,
 "nbformat_minor": 2
}
