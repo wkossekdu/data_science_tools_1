{
  "cells": [
    {
      "cell_type": "markdown",
      "metadata": {
        "id": "p402vljbzFyp"
      },
      "source": [
        "<a href=\"https://colab.research.google.com/github/psnegi/data_science_tools1/blob/master/notebooks/jupyter_notebook_lab_into.ipynb\" target=\"_parent\"><img src=\"https://colab.research.google.com/assets/colab-badge.svg\" alt=\"Open In Colab\"/></a>"
      ]
    },
    {
      "cell_type": "markdown",
      "metadata": {
        "id": "6X_Agmr0zFyt"
      },
      "source": [
        "# What is Jupyter Notebook\n",
        "\n",
        "- Browser based open source, interactive, computational tool.\n",
        "- Growing trend of  research papers sharing their analysis in notebook.\n",
        "- Supports live code, interactive widgets, plots, narrative text (markdown text, html, Latex), equations, images, video.\n"
      ]
    },
    {
      "cell_type": "markdown",
      "metadata": {
        "id": "NwMz3nsGzFyu"
      },
      "source": [
        "# Why do we care?\n",
        "Used a lot in data science, visualization, analysis.\n",
        "## Open science\n",
        "Only releasing data is not enough to repoduce complex computation reported in the paper. Using notebook\n",
        "one can write manuscript, process data and produce the result.\n"
      ]
    },
    {
      "cell_type": "markdown",
      "metadata": {
        "id": "B0JHCHDkzFyv"
      },
      "source": [
        "One of the great strength of a jupyter notebook is\n",
        "**reproducibility (a fundamental assumption in science)**. We'll follow same principle in this course.\n",
        "\n",
        "When you join a research lab, they will ask you to reproduce some results in a paper/project. It can be really hard for new graduate students/empolyees if the results are not reproducible."
      ]
    },
    {
      "cell_type": "markdown",
      "metadata": {
        "id": "fFGIRuSizFyv"
      },
      "source": [
        "More and more commnunities are adapting open science, but astronomy has made great progress\n",
        "toward open science. See\n",
        "- [The Close\n",
        "Companion Mass-Ratio Distribution of Intermediate-Mass Stars](http://iopscience.iop.org/article/10.3847/0004-6256/152/2/40/meta). They provide reference to [their github repository](https://github.com/kgullikson88/BinaryInference) to reproduce their analysis.\n",
        "- [Gravitational Wave Open Science Center](https://www.gw-openscience.org/about/)\n",
        "- Here is link to one of my [paper on neurite orientation](https://www.readcube.com/articles/10.1007%2Fs12021-016-9306-9?author_access_token=ONTkhdGomWdWYALxdB6C5ve4RwlQNchNByi7wbcMAY6tWHZeZNocceJYKf4Zd1FZayBKYFQ9uJDqnH-3NSfgOo3HQ1xYDYJEspE39fzgWz8DfSwq3n9-KCFUNMulWM41K3Ozb073-6C4T5ggGdldEg==) and supported [analysis](https://github.com/psnegi/NeuriteOrientation)"
      ]
    },
    {
      "cell_type": "markdown",
      "metadata": {
        "id": "mbOrEJB4zFyv"
      },
      "source": [
        "# A more technical description of Jupyter notebook\n",
        "\n",
        "Notebook combines three components:\n",
        "\n",
        "- The notebook web application:\n",
        "An interactive web application for writing and running code and documentation."
      ]
    },
    {
      "cell_type": "markdown",
      "metadata": {
        "id": "2ekLYKZWzFyw"
      },
      "source": [
        "- Kernel:\n",
        "A process started by the web application. It runs the code in a language (Python R, scala etc.) and returns the result to the web application.\n",
        "\n",
        "- Notebook documents:\n",
        " documents containing representation of all the content (code, input, output) in the notebook.\n",
        " Internally, notebook documents are stored as a [JSON] file (https://en.wikipedia.org/wiki/JSON). (data  consisting of key–value pairs )"
      ]
    },
    {
      "cell_type": "markdown",
      "metadata": {
        "id": "4wfXYmYHzFyx"
      },
      "source": [
        "When we type\n",
        "\n",
        "***jupyter notebook or jupyter lab*** in the terminal, it starts\n",
        "1. A notebook server\n",
        "1. A Jupyter notebook web application, the dashboard, shows the notebooks in current directory\n",
        "    - In case of  jupyter lab,  dashboard has files browser, code console etc. It gives more tools for richer\n",
        "    workflow."
      ]
    },
    {
      "cell_type": "markdown",
      "metadata": {
        "id": "Z31_f5aCzFyy"
      },
      "source": [
        "# More documentation\n",
        "- [The Jupyter Notebook](https://jupyter-notebook.readthedocs.io/en/stable/notebook.html)\n",
        "- [JupyterLab ](https://jupyterlab.readthedocs.io/en/stable/getting_started/overview.html)"
      ]
    },
    {
      "cell_type": "markdown",
      "metadata": {
        "id": "L3tTKHzQzFyy"
      },
      "source": [
        "**See this animation to create and rename notebook file**\n",
        "<img src=\"https://github.com/psnegi/data_science_tools1/blob/master/notebooks/figures/jupyter_notebook_demo.gif?raw=1\"  height=\"600\" width = \"800\" />"
      ]
    },
    {
      "cell_type": "markdown",
      "metadata": {
        "id": "bCnrtALbzFyz"
      },
      "source": [
        "**See this animation for jupyter lab demo**\n",
        "<img src=\"https://github.com/psnegi/data_science_tools1/blob/master/notebooks/figures/jupyter_lab_demo.gif?raw=1\" alt=\"notebook demo\" title=\"notebook_demo\" height=\"800\" width=\"800\"  />"
      ]
    },
    {
      "cell_type": "markdown",
      "metadata": {
        "id": "IPziXTjQzFyz"
      },
      "source": [
        "<center> <h1> Architecture </h1>\n",
        "<img src = \"./figures/notebook_working.png\" height=\"600\" width=\"800\" />\n",
        "<font size=\"2\"> source:https://jupyter.readthedocs.io/en/latest/architecture/how_jupyter_ipython_work.html  </font> </center>"
      ]
    },
    {
      "cell_type": "markdown",
      "metadata": {
        "id": "69mT23CqzFyz"
      },
      "source": [
        "# Using notebook\n",
        "\n",
        "We will use notebook extensively for our work\n",
        "\n",
        "Notebook have different kind of cells. One can choose cell type from top dropdown menu."
      ]
    },
    {
      "cell_type": "markdown",
      "metadata": {
        "id": "ouxEjeY_zFy0"
      },
      "source": [
        "<img src = \"./figures/jupyter_notebook_cell_type.gif\" height=\"600\" weight=\"800\">"
      ]
    },
    {
      "cell_type": "markdown",
      "metadata": {
        "id": "lJ2_Dob4zFy1"
      },
      "source": [
        "We'll primarily use\n",
        "\n",
        "- Code cell\n",
        "- Markdown cell"
      ]
    },
    {
      "cell_type": "markdown",
      "metadata": {
        "id": "Sz993oLXzFy2"
      },
      "source": [
        "# Code cell\n",
        "use code cell to run python code"
      ]
    },
    {
      "cell_type": "code",
      "execution_count": null,
      "metadata": {
        "id": "gBwMew1-zFy2",
        "outputId": "61dd8cc9-9826-4912-c662-7645e468a793"
      },
      "outputs": [
        {
          "data": {
            "text/plain": [
              "[0, 1, 4, 9, 16]"
            ]
          },
          "execution_count": 1,
          "metadata": {},
          "output_type": "execute_result"
        }
      ],
      "source": [
        "[i**2 for i in range(5)]"
      ]
    },
    {
      "cell_type": "markdown",
      "metadata": {
        "id": "73FNSswizFy4"
      },
      "source": [
        "# Markdown cell\n",
        "\n",
        "Markdown cell is used for writing documentation. It supports markdown, html and latex for writing mathematical equations."
      ]
    },
    {
      "cell_type": "markdown",
      "metadata": {
        "id": "OWXlXSNkzFy4"
      },
      "source": [
        "# Creating headings in markdown"
      ]
    },
    {
      "cell_type": "raw",
      "metadata": {
        "id": "sABjKDBrzFy4"
      },
      "source": [
        "use # followed by space to create heading\n",
        "# level 1 heading\n",
        "## level 2 heading\n",
        "### level 3 heading"
      ]
    },
    {
      "cell_type": "markdown",
      "metadata": {
        "id": "HL4UFpo3zFy4"
      },
      "source": [
        "# level 1 heading\n",
        "## level 2 heading\n",
        "### level 3 heading"
      ]
    },
    {
      "cell_type": "raw",
      "metadata": {
        "id": "LOkOA8aLzFy4"
      },
      "source": [
        "For Bold and Italic\n",
        "\n",
        "Bold **string**\n",
        "Italic *string*"
      ]
    },
    {
      "cell_type": "markdown",
      "metadata": {
        "id": "zvlF033NzFy4"
      },
      "source": [
        " **string**\n",
        "\n",
        "*string*"
      ]
    },
    {
      "cell_type": "markdown",
      "metadata": {
        "id": "KXVWY3IDzFy5"
      },
      "source": [
        "# Bullets"
      ]
    },
    {
      "cell_type": "raw",
      "metadata": {
        "id": "HpkjrUIBzFy5"
      },
      "source": [
        "use + or - or *\n",
        "- item 1\n",
        "- item 2\n",
        "    * sub item 3"
      ]
    },
    {
      "cell_type": "markdown",
      "metadata": {
        "id": "OT7ibLRHzFy5"
      },
      "source": [
        "- item 1\n",
        "- item 2\n",
        "    * sub item 3"
      ]
    },
    {
      "cell_type": "markdown",
      "metadata": {
        "id": "YtgvsR6HzFy5"
      },
      "source": [
        "# Numbered bullets"
      ]
    },
    {
      "cell_type": "raw",
      "metadata": {
        "id": "ygMWe_dVzFy5"
      },
      "source": [
        "Use 1. followed by a space\n",
        "1. item 1\n",
        "1. item 2\n"
      ]
    },
    {
      "cell_type": "markdown",
      "metadata": {
        "id": "YLiXZt_6zFy5"
      },
      "source": [
        "1. item 1\n",
        "1. item 2"
      ]
    },
    {
      "cell_type": "markdown",
      "metadata": {
        "id": "R4o8GP0kzFy5"
      },
      "source": [
        "# Mathematical symbols (Latex)"
      ]
    },
    {
      "cell_type": "raw",
      "metadata": {
        "id": "77AnrSuuzFy5"
      },
      "source": [
        "Surround a math symbol using the $ sign\n",
        "$\\int f(x) dx \\in \\mathbb{R}$"
      ]
    },
    {
      "cell_type": "markdown",
      "metadata": {
        "id": "wtX7WLIHzFy5"
      },
      "source": [
        "$\\int f(x) dx \\in \\mathbb{R}$"
      ]
    },
    {
      "cell_type": "markdown",
      "metadata": {
        "id": "DIpwHFrszFy6"
      },
      "source": [
        "# HTML"
      ]
    },
    {
      "cell_type": "raw",
      "metadata": {
        "id": "DuFfmL_tzFy6"
      },
      "source": [
        "<font size =\"4\" color = 'red'> jupyter notebook with html content </font>"
      ]
    },
    {
      "cell_type": "markdown",
      "metadata": {
        "id": "lwdrNw8TzFy6"
      },
      "source": [
        "<font size =\"4\" color = 'red'> jupyter notebook with html content </font>"
      ]
    },
    {
      "cell_type": "markdown",
      "metadata": {
        "id": "tB9xchVazFy6"
      },
      "source": [
        "# Link to image/url"
      ]
    },
    {
      "cell_type": "raw",
      "metadata": {
        "id": "qoYI6yQczFy6"
      },
      "source": [
        "<img src=\"https://upload.wikimedia.org/wikipedia/commons/2/20/DataScienceLogo.png\" alt=\"Alt text that describes the graphic\" title=\"Title text\" height=\"200\" width=\"200\" />"
      ]
    },
    {
      "cell_type": "markdown",
      "metadata": {
        "id": "X-_Bb1uczFy6"
      },
      "source": [
        "<img src=\"https://upload.wikimedia.org/wikipedia/commons/2/20/DataScienceLogo.png\" alt=\"Alt text that describes the graphic\" title=\"Title text\" height=\"200\" width=\"200\" />\n",
        "\n",
        "<font size=\"2\"> source: https://upload.wikimedia.org/wikipedia/commons/2/20/DataScienceLogo.png"
      ]
    },
    {
      "cell_type": "markdown",
      "metadata": {
        "id": "SVfdehfUzFy6"
      },
      "source": [
        "As we go through the course we'll see other ways to write markdown cell.\n",
        "\n",
        "Double click on notebook cell to see the details on content generation"
      ]
    },
    {
      "cell_type": "markdown",
      "metadata": {
        "id": "J9RQKuLSzFy-"
      },
      "source": [
        "# Magic commands\n",
        "There are some commands called magic commands to enhance the functionality of notebook to help in analysis.\n",
        "1. Line magic:\n",
        "Prefixed by the % character and operate on a single line of code\n",
        "1. Cell magic: Prefixed by  %% prefix and operate on multiple lines of input."
      ]
    },
    {
      "cell_type": "markdown",
      "metadata": {
        "id": "ukHltK9PzFy_"
      },
      "source": [
        "To see all the available magic commands type"
      ]
    },
    {
      "cell_type": "code",
      "execution_count": null,
      "metadata": {
        "id": "LjjFA0a2zFy_",
        "outputId": "78f1a922-d772-4eb1-8064-caa64b480e6e"
      },
      "outputs": [
        {
          "data": {
            "application/json": {
              "cell": {
                "!": "OSMagics",
                "HTML": "Other",
                "SVG": "Other",
                "bash": "Other",
                "capture": "ExecutionMagics",
                "debug": "ExecutionMagics",
                "file": "Other",
                "html": "DisplayMagics",
                "javascript": "DisplayMagics",
                "js": "DisplayMagics",
                "latex": "DisplayMagics",
                "markdown": "DisplayMagics",
                "perl": "Other",
                "prun": "ExecutionMagics",
                "pypy": "Other",
                "python": "Other",
                "python2": "Other",
                "python3": "Other",
                "ruby": "Other",
                "script": "ScriptMagics",
                "sh": "Other",
                "svg": "DisplayMagics",
                "sx": "OSMagics",
                "system": "OSMagics",
                "time": "ExecutionMagics",
                "timeit": "ExecutionMagics",
                "writefile": "OSMagics"
              },
              "line": {
                "alias": "OSMagics",
                "alias_magic": "BasicMagics",
                "autoawait": "AsyncMagics",
                "autocall": "AutoMagics",
                "automagic": "AutoMagics",
                "autosave": "KernelMagics",
                "bookmark": "OSMagics",
                "cat": "Other",
                "cd": "OSMagics",
                "clear": "KernelMagics",
                "colors": "BasicMagics",
                "config": "ConfigMagics",
                "connect_info": "KernelMagics",
                "cp": "Other",
                "debug": "ExecutionMagics",
                "dhist": "OSMagics",
                "dirs": "OSMagics",
                "doctest_mode": "BasicMagics",
                "ed": "Other",
                "edit": "KernelMagics",
                "env": "OSMagics",
                "gui": "BasicMagics",
                "hist": "Other",
                "history": "HistoryMagics",
                "killbgscripts": "ScriptMagics",
                "ldir": "Other",
                "less": "KernelMagics",
                "lf": "Other",
                "lk": "Other",
                "ll": "Other",
                "load": "CodeMagics",
                "load_ext": "ExtensionMagics",
                "loadpy": "CodeMagics",
                "logoff": "LoggingMagics",
                "logon": "LoggingMagics",
                "logstart": "LoggingMagics",
                "logstate": "LoggingMagics",
                "logstop": "LoggingMagics",
                "ls": "Other",
                "lsmagic": "BasicMagics",
                "lx": "Other",
                "macro": "ExecutionMagics",
                "magic": "BasicMagics",
                "man": "KernelMagics",
                "matplotlib": "PylabMagics",
                "mkdir": "Other",
                "more": "KernelMagics",
                "mv": "Other",
                "notebook": "BasicMagics",
                "page": "BasicMagics",
                "pastebin": "CodeMagics",
                "pdb": "ExecutionMagics",
                "pdef": "NamespaceMagics",
                "pdoc": "NamespaceMagics",
                "pfile": "NamespaceMagics",
                "pinfo": "NamespaceMagics",
                "pinfo2": "NamespaceMagics",
                "pip": "BasicMagics",
                "popd": "OSMagics",
                "pprint": "BasicMagics",
                "precision": "BasicMagics",
                "prun": "ExecutionMagics",
                "psearch": "NamespaceMagics",
                "psource": "NamespaceMagics",
                "pushd": "OSMagics",
                "pwd": "OSMagics",
                "pycat": "OSMagics",
                "pylab": "PylabMagics",
                "qtconsole": "KernelMagics",
                "quickref": "BasicMagics",
                "recall": "HistoryMagics",
                "rehashx": "OSMagics",
                "reload_ext": "ExtensionMagics",
                "rep": "Other",
                "rerun": "HistoryMagics",
                "reset": "NamespaceMagics",
                "reset_selective": "NamespaceMagics",
                "rm": "Other",
                "rmdir": "Other",
                "run": "ExecutionMagics",
                "save": "CodeMagics",
                "sc": "OSMagics",
                "set_env": "OSMagics",
                "store": "StoreMagics",
                "sx": "OSMagics",
                "system": "OSMagics",
                "tb": "ExecutionMagics",
                "time": "ExecutionMagics",
                "timeit": "ExecutionMagics",
                "unalias": "OSMagics",
                "unload_ext": "ExtensionMagics",
                "who": "NamespaceMagics",
                "who_ls": "NamespaceMagics",
                "whos": "NamespaceMagics",
                "xdel": "NamespaceMagics",
                "xmode": "BasicMagics"
              }
            },
            "text/plain": [
              "Available line magics:\n",
              "%alias  %alias_magic  %autoawait  %autocall  %automagic  %autosave  %bookmark  %cat  %cd  %clear  %colors  %config  %connect_info  %cp  %debug  %dhist  %dirs  %doctest_mode  %ed  %edit  %env  %gui  %hist  %history  %killbgscripts  %ldir  %less  %lf  %lk  %ll  %load  %load_ext  %loadpy  %logoff  %logon  %logstart  %logstate  %logstop  %ls  %lsmagic  %lx  %macro  %magic  %man  %matplotlib  %mkdir  %more  %mv  %notebook  %page  %pastebin  %pdb  %pdef  %pdoc  %pfile  %pinfo  %pinfo2  %popd  %pprint  %precision  %prun  %psearch  %psource  %pushd  %pwd  %pycat  %pylab  %qtconsole  %quickref  %recall  %rehashx  %reload_ext  %rep  %rerun  %reset  %reset_selective  %rm  %rmdir  %run  %save  %sc  %set_env  %store  %sx  %system  %tb  %time  %timeit  %unalias  %unload_ext  %who  %who_ls  %whos  %xdel  %xmode\n",
              "\n",
              "Available cell magics:\n",
              "%%!  %%HTML  %%SVG  %%bash  %%capture  %%debug  %%file  %%html  %%javascript  %%js  %%latex  %%markdown  %%perl  %%prun  %%pypy  %%python  %%python2  %%python3  %%ruby  %%script  %%sh  %%svg  %%sx  %%system  %%time  %%timeit  %%writefile\n",
              "\n",
              "Automagic is ON, % prefix IS NOT needed for line magics."
            ]
          },
          "execution_count": 7,
          "metadata": {},
          "output_type": "execute_result"
        }
      ],
      "source": [
        "%lsmagic\n",
        "#you can type magic, to see all the available commands with documentation."
      ]
    },
    {
      "cell_type": "markdown",
      "metadata": {
        "id": "8x8RzXhuzFy_"
      },
      "source": [
        "# Some line magic useful for data science"
      ]
    },
    {
      "cell_type": "markdown",
      "metadata": {
        "id": "KaB7APfJzFy_"
      },
      "source": [
        "## timing the python code (%timeit)"
      ]
    },
    {
      "cell_type": "code",
      "execution_count": null,
      "metadata": {
        "id": "faNMOZFJzFy_",
        "outputId": "753b05c7-f3a1-442f-d620-fff14329412b"
      },
      "outputs": [
        {
          "name": "stdout",
          "output_type": "stream",
          "text": [
            "6.91 µs ± 85.7 ns per loop (mean ± std. dev. of 7 runs, 100000 loops each)\n"
          ]
        }
      ],
      "source": [
        "# Let's time, drawing 10 random draw of Head(H) and Tail(T)\n",
        "import random\n",
        "%timeit [ random.choice(['H', 'T']) for i in range(10)]"
      ]
    },
    {
      "cell_type": "markdown",
      "metadata": {
        "id": "-KM6Vl6yzFy_"
      },
      "source": [
        "# %matplotlib\n",
        "This is probably the most critical magic command. We'll use it a lot in visualization of datasets.\n",
        "It will make plot inline in a notebook.\n",
        "Here is an example, but don't worry too much about the details.\n"
      ]
    },
    {
      "cell_type": "code",
      "execution_count": null,
      "metadata": {
        "id": "ugsgC0XuzFzA",
        "outputId": "9b1d64b4-c5f3-4fd5-f3bf-450d43294406"
      },
      "outputs": [
        {
          "data": {
            "text/plain": [
              "Text(0, 0.5, 'sin (x)')"
            ]
          },
          "execution_count": 21,
          "metadata": {},
          "output_type": "execute_result"
        },
        {
          "data": {
            "image/png": "[encoded data removed]",
            "text/plain": [
              "<Figure size 432x288 with 1 Axes>"
            ]
          },
          "metadata": {
            "needs_background": "light"
          },
          "output_type": "display_data"
        }
      ],
      "source": [
        "import matplotlib.pyplot as plt\n",
        "import numpy as np\n",
        "%matplotlib inline\n",
        "x = np.linspace(0, 10, 40 )\n",
        "plt.plot(x, np.sin(x))\n",
        "plt.xlabel(\"x\")\n",
        "plt.ylabel(\"sin (x)\")\n"
      ]
    },
    {
      "cell_type": "markdown",
      "metadata": {
        "id": "nsQt4nzCzFzA"
      },
      "source": [
        "# %load_ext autoreload\n",
        "One of the problems with notebook is that if you already imported a module in the notebook and change the\n",
        "refrenced code, then you have to restart the kernel.\n",
        "\n",
        "To allow automatic reload when code changes in imported module use this magic. You will start using it as you are building your projects.\n"
      ]
    },
    {
      "cell_type": "raw",
      "metadata": {
        "id": "tydLEwohzFzA"
      },
      "source": [
        "%load_ext autoreload\n",
        "# extension to reload modules every time before executing code\n",
        "%autoreload 2"
      ]
    },
    {
      "cell_type": "markdown",
      "metadata": {
        "id": "QdqXrjBDzFzA"
      },
      "source": [
        "# Cell magic\n",
        "\n"
      ]
    },
    {
      "cell_type": "markdown",
      "metadata": {
        "id": "jTuaBpzgzFzA"
      },
      "source": [
        "# %% timeit\n",
        "Sometimes code doesn't fit in a line. Use this cell magic to benchmark the code performance."
      ]
    },
    {
      "cell_type": "code",
      "execution_count": null,
      "metadata": {
        "id": "zQdPWHtHzFzB",
        "outputId": "03a3dc63-68c1-48d1-eae3-6abf7915757a"
      },
      "outputs": [
        {
          "name": "stdout",
          "output_type": "stream",
          "text": [
            "6.34 µs ± 68.6 ns per loop (mean ± std. dev. of 7 runs, 100000 loops each)\n"
          ]
        }
      ],
      "source": [
        "%%timeit\n",
        "# code for simulating 10 throw of six face die\n",
        "import random\n",
        "num_sim = 10\n",
        "dice_simulation = []\n",
        "for i in range(num_sim):\n",
        "    dice_simulation.append(random.choice([1, 2, 3, 4, 5, 6]))\n"
      ]
    },
    {
      "cell_type": "markdown",
      "metadata": {
        "id": "U5_4drPRzFzB"
      },
      "source": [
        "# %% bash\n",
        "Run bash code with this cell magic. There are cell magic commands for other languages too."
      ]
    },
    {
      "cell_type": "code",
      "execution_count": null,
      "metadata": {
        "id": "9jrEBiS9zFzB",
        "outputId": "fe0e3b86-9fa0-4329-97f5-8080e4357ff4"
      },
      "outputs": [
        {
          "name": "stdout",
          "output_type": "stream",
          "text": [
            "iteration 1\n",
            "iteration 2\n",
            "iteration 3\n",
            "iteration 4\n",
            "iteration 5\n"
          ]
        }
      ],
      "source": [
        "%%bash\n",
        "# this template is quite useful for running you code muliple time with different hyper parameters etc.\n",
        "for i in $(seq 5)\n",
        "do\n",
        "echo \"iteration $i\"\n",
        "done"
      ]
    },
    {
      "cell_type": "markdown",
      "metadata": {
        "id": "oMXDe0odzFzC"
      },
      "source": [
        "# Review of basic python and standard libraries"
      ]
    },
    {
      "cell_type": "markdown",
      "metadata": {
        "id": "KzqtFBmRzFzC"
      },
      "source": [
        "# Some python list manipulation"
      ]
    },
    {
      "cell_type": "markdown",
      "metadata": {
        "id": "L1KogMbezFzC"
      },
      "source": [
        "# Exercise: For numbers 1 to 10 create a list of their cubes"
      ]
    },
    {
      "cell_type": "code",
      "execution_count": 2,
      "metadata": {
        "id": "BT4ds_BszFzC"
      },
      "outputs": [],
      "source": [
        "# write you answer in the next line"
      ]
    },
    {
      "cell_type": "markdown",
      "metadata": {
        "id": "HoUmip3hzFzD"
      },
      "source": [
        "# Sorting a list of strings"
      ]
    },
    {
      "cell_type": "code",
      "execution_count": null,
      "metadata": {
        "id": "JUqwmC4fzFzD"
      },
      "outputs": [],
      "source": [
        "continentsL = ['Europe', 'Africa', 'America', 'Antarctica', 'Asia', 'Australia']"
      ]
    },
    {
      "cell_type": "code",
      "execution_count": null,
      "metadata": {
        "id": "frqsdHQ4zFzD"
      },
      "outputs": [],
      "source": [
        "# sort this list alphabetically\n"
      ]
    },
    {
      "cell_type": "markdown",
      "metadata": {
        "id": "zCTfNH9EzFzD"
      },
      "source": [
        "# Function signature in notebook use\n",
        "- ? or\n",
        "- more details using ??"
      ]
    },
    {
      "cell_type": "code",
      "execution_count": null,
      "metadata": {
        "id": "Ni4y-OSpzFzE"
      },
      "outputs": [],
      "source": [
        "continentsL.sort?"
      ]
    },
    {
      "cell_type": "markdown",
      "metadata": {
        "id": "gnNt_MobzFzE"
      },
      "source": [
        "# Sort this list by length in decreasing order"
      ]
    },
    {
      "cell_type": "code",
      "execution_count": null,
      "metadata": {
        "id": "h2h3kp9MzFzF"
      },
      "outputs": [],
      "source": [
        "# write your code here\n"
      ]
    },
    {
      "cell_type": "markdown",
      "metadata": {
        "id": "dHL91grTzFzG"
      },
      "source": [
        "# Dictionaries\n",
        "Dictionaries allow mapping objects to other objects i.e they store key value pairs. They are extremely efficient for key based look ups.\n",
        "\n",
        "**Key**: value used for index\n",
        "\n",
        "**Value**: stored value"
      ]
    },
    {
      "cell_type": "markdown",
      "metadata": {
        "id": "-xZMvAlazFzG"
      },
      "source": [
        "# Creating dictionaries"
      ]
    },
    {
      "cell_type": "code",
      "execution_count": 3,
      "metadata": {
        "id": "IlFpZgjszFzG",
        "outputId": "3690cd76-4764-436a-81b6-e80942ed4e2e"
      },
      "outputs": [
        {
          "name": "stdout",
          "output_type": "stream",
          "text": [
            "{'threshold': 20, 'neighborhoodSize': 4, 'tolerance': 0.002}\n"
          ]
        }
      ],
      "source": [
        "algoConfig = {} # can use also algoConfig = dict()\n",
        "algoConfig['threshold'] = 20 # in pixel\n",
        "algoConfig['neighborhoodSize'] = 4 # 4X4 neighborhood\n",
        "algoConfig['tolerance'] = 0.002 # convergence tolerance\n",
        "print(algoConfig)"
      ]
    },
    {
      "cell_type": "markdown",
      "metadata": {
        "id": "GkI6C6K8zFzH"
      },
      "source": [
        "# How to iterate over dictionary items"
      ]
    },
    {
      "cell_type": "code",
      "execution_count": 5,
      "metadata": {
        "id": "atzsV9HgzFzH",
        "outputId": "2b98a20c-0dd0-4bb8-a9c8-70478e97a25f"
      },
      "outputs": [
        {
          "name": "stdout",
          "output_type": "stream",
          "text": [
            "name of parameter is threshold and value is 20\n",
            "name of parameter is neighborhoodSize and value is 4\n",
            "name of parameter is tolerance and value is 0.002\n"
          ]
        }
      ],
      "source": [
        "for name_key, value in algoConfig.items():\n",
        "    print('name of parameter is {} and value is {}'.format(name_key, value))"
      ]
    },
    {
      "cell_type": "markdown",
      "metadata": {
        "id": "eYHx_Y_azFzH"
      },
      "source": [
        "Other useful dictionary methods are keys() and values()"
      ]
    },
    {
      "cell_type": "markdown",
      "metadata": {
        "id": "tt6a0iFizFzI"
      },
      "source": [
        "# How to find if a key is in the dictionary?\n",
        "\n",
        "# use the **\"in\"** keyword\n"
      ]
    },
    {
      "cell_type": "code",
      "execution_count": null,
      "metadata": {
        "id": "LBDJ3Ey7zFzI",
        "outputId": "097639b9-e88e-4eda-8eba-f28f462aa3c7"
      },
      "outputs": [
        {
          "data": {
            "text/plain": [
              "True"
            ]
          },
          "execution_count": 62,
          "metadata": {},
          "output_type": "execute_result"
        }
      ],
      "source": [
        "# if key is in dictionary\n",
        "'threshold' in algoConfig"
      ]
    },
    {
      "cell_type": "code",
      "execution_count": null,
      "metadata": {
        "id": "jiI-RZCdzFzJ",
        "outputId": "2980ab7f-eada-4fb9-8275-dfd1cb7e5ebb"
      },
      "outputs": [
        {
          "data": {
            "text/plain": [
              "False"
            ]
          },
          "execution_count": 63,
          "metadata": {},
          "output_type": "execute_result"
        }
      ],
      "source": [
        "# if key is not in the dictionary\n",
        "'pixel_size' in algoConfig"
      ]
    },
    {
      "cell_type": "markdown",
      "metadata": {
        "id": "X22Mt5KGzFzJ"
      },
      "source": [
        "# What happens when we access a non existent key?"
      ]
    },
    {
      "cell_type": "code",
      "execution_count": null,
      "metadata": {
        "id": "Hcjb6_InzFzJ",
        "outputId": "7d8be246-1569-451d-9d68-2278d3be2cbc"
      },
      "outputs": [
        {
          "ename": "KeyError",
          "evalue": "'maxLength'",
          "output_type": "error",
          "traceback": [
            "\u001b[0;31m---------------------------------------------------------------------------\u001b[0m",
            "\u001b[0;31mKeyError\u001b[0m                                  Traceback (most recent call last)",
            "\u001b[0;32m<ipython-input-66-770efa7f2d0b>\u001b[0m in \u001b[0;36m<module>\u001b[0;34m\u001b[0m\n\u001b[1;32m      1\u001b[0m \u001b[0;31m# We get key error\u001b[0m\u001b[0;34m\u001b[0m\u001b[0;34m\u001b[0m\u001b[0;34m\u001b[0m\u001b[0m\n\u001b[0;32m----> 2\u001b[0;31m \u001b[0malgoConfig\u001b[0m\u001b[0;34m[\u001b[0m\u001b[0;34m'maxLength'\u001b[0m\u001b[0;34m]\u001b[0m\u001b[0;34m\u001b[0m\u001b[0;34m\u001b[0m\u001b[0m\n\u001b[0m",
            "\u001b[0;31mKeyError\u001b[0m: 'maxLength'"
          ]
        }
      ],
      "source": [
        "# We get key error\n",
        "algoConfig['maxLength']"
      ]
    },
    {
      "cell_type": "code",
      "execution_count": null,
      "metadata": {
        "id": "DiS5nZGdzFzK",
        "outputId": "e3f4a10a-272e-493b-d0f3-09a43840442e"
      },
      "outputs": [
        {
          "name": "stdout",
          "output_type": "stream",
          "text": [
            "None\n",
            "Value Not Found\n"
          ]
        }
      ],
      "source": [
        "# To avoid KeyError we can use\n",
        "print(algoConfig.get('maxLength'))\n",
        "# or\n",
        "print(algoConfig.get('maxLength', 'Value Not Found'))"
      ]
    },
    {
      "cell_type": "markdown",
      "metadata": {
        "id": "m91II0zyzFzK"
      },
      "source": [
        "We can also use setdefault method to set the value if a key is not in the dictionary\n",
        "\n"
      ]
    },
    {
      "cell_type": "code",
      "execution_count": null,
      "metadata": {
        "id": "RKK6DYHBzFzK",
        "outputId": "eda3d910-3723-4efd-bd13-5558b8aefe8a"
      },
      "outputs": [
        {
          "name": "stdout",
          "output_type": "stream",
          "text": [
            "20\n",
            "2\n"
          ]
        }
      ],
      "source": [
        "print (algoConfig.setdefault('threshold', 0))\n",
        "print (algoConfig.setdefault('radius', 2))"
      ]
    },
    {
      "cell_type": "markdown",
      "metadata": {
        "id": "RtvccucwzFzK"
      },
      "source": [
        "# defaultdict\n",
        "setdefault method is useful when key doesn't exist. This can be monotonous we have to do every time.\n",
        "\n",
        "Let's say we want to count the frequency of number in a list"
      ]
    },
    {
      "cell_type": "code",
      "execution_count": 6,
      "metadata": {
        "id": "cILhRs1gzFzL",
        "outputId": "efb9676d-a585-4999-bf33-0f4d22d49803"
      },
      "outputs": [
        {
          "name": "stdout",
          "output_type": "stream",
          "text": [
            "{1: 1, 3: 2, 5: 1, 7: 3}\n"
          ]
        }
      ],
      "source": [
        "# we can do it this way\n",
        "observ = [1, 3, 5, 7, 3, 7, 7]\n",
        "def countFreq(observations):\n",
        "    frequencies = {}\n",
        "    for item in observations:\n",
        "        freq = frequencies.setdefault(item, 0)\n",
        "        frequencies[item] = freq + 1\n",
        "    return frequencies\n",
        "print (countFreq(observ))"
      ]
    },
    {
      "cell_type": "code",
      "execution_count": 7,
      "metadata": {
        "id": "_JdqH3xHzFzL",
        "outputId": "f330b58d-9f52-4180-d99e-2a08a44ceba6"
      },
      "outputs": [
        {
          "name": "stdout",
          "output_type": "stream",
          "text": [
            "defaultdict(<class 'int'>, {1: 1, 3: 2, 5: 1, 7: 3})\n"
          ]
        }
      ],
      "source": [
        "# or use defaultdict\n",
        "from collections import defaultdict\n",
        "def countFreqDefaultDictUsage(observations):\n",
        "    frequencies = defaultdict(int)\n",
        "    for item in observations:\n",
        "        frequencies[item] = frequencies[item] + 1\n",
        "    return frequencies\n",
        "print (countFreqDefaultDictUsage(observ))"
      ]
    },
    {
      "cell_type": "markdown",
      "metadata": {
        "id": "zcW1neFXzFzL"
      },
      "source": [
        "# Set\n",
        "Sets in Python are simiar to mathematical sets. They represent collections of unique things. We can check set cardinality, set membership, union, intersection, etc."
      ]
    },
    {
      "cell_type": "markdown",
      "metadata": {
        "id": "98vLW8DdzFzL"
      },
      "source": [
        "Sets are primarily used to maintain a list of unique items."
      ]
    },
    {
      "cell_type": "code",
      "execution_count": null,
      "metadata": {
        "id": "3jXGv6OfzFzM",
        "outputId": "d5261c8c-b6c0-4f8e-8651-ac59b1932e47"
      },
      "outputs": [
        {
          "name": "stdout",
          "output_type": "stream",
          "text": [
            "{10, 20, 70, 30}\n"
          ]
        }
      ],
      "source": [
        "dupList = [20, 10, 70, 30, 10, 20]\n",
        "age_set1 = set(dupList)\n",
        "print (age_set1)"
      ]
    },
    {
      "cell_type": "markdown",
      "metadata": {
        "id": "RL5BxGcozFzM"
      },
      "source": [
        "# Set intersection"
      ]
    },
    {
      "cell_type": "code",
      "execution_count": null,
      "metadata": {
        "id": "mUzW82OAzFzM"
      },
      "outputs": [],
      "source": [
        "age_set2 = set([20, 10, 70, 30, 10, 20])\n",
        "# find the intersection of age_set1 and age_set2\n",
        "# Write you code here"
      ]
    },
    {
      "cell_type": "code",
      "execution_count": null,
      "metadata": {
        "id": "gPHLgBznzFzM",
        "outputId": "09a6dd47-90b4-43f2-b9b6-8e863c779d41"
      },
      "outputs": [
        {
          "name": "stdout",
          "output_type": "stream",
          "text": [
            "{10, 20, 70, 30}\n"
          ]
        }
      ],
      "source": [
        "# solution\n",
        "print( age_set2.intersection(age_set1))\n",
        "# or use & operator like print(age_set1 & age_set2)"
      ]
    },
    {
      "cell_type": "markdown",
      "metadata": {
        "id": "CvYS-pZBzFzN"
      },
      "source": [
        "# Use of the print function with variable number of arguments"
      ]
    },
    {
      "cell_type": "code",
      "execution_count": null,
      "metadata": {
        "id": "bpaAN7VnzFzN",
        "outputId": "7b3996cc-f282-41ef-f1f6-979a157f57c7"
      },
      "outputs": [
        {
          "name": "stdout",
          "output_type": "stream",
          "text": [
            "1\n",
            "('9 Oct', 'Houston', 75)\n",
            "9 Oct\n",
            "Houston\n",
            "75\n"
          ]
        }
      ],
      "source": [
        "# see this example\n",
        "def logInfo(level, *args ):\n",
        "    print (level)\n",
        "    print (args)\n",
        "    for arg in args:\n",
        "        print(arg)\n",
        "\n",
        "logInfo(1, '9 Oct', 'Houston', 75 )"
      ]
    },
    {
      "cell_type": "markdown",
      "metadata": {
        "id": "YJ26yr-0zFzN"
      },
      "source": [
        "As you can guess after reading the code, variable number of arguments are packed into a tuple.\n",
        "\n",
        "Using *operator we can do the opposite i.e unpack the arguments out of a list or a tuple."
      ]
    },
    {
      "cell_type": "code",
      "execution_count": 8,
      "metadata": {
        "id": "1PegGvavzFzN",
        "outputId": "e6e00bdb-2184-4de4-b173-c1c9ed1195d6"
      },
      "outputs": [
        {
          "data": {
            "text/plain": [
              "[4, 5, 6, 7, 8, 9]"
            ]
          },
          "execution_count": 8,
          "metadata": {},
          "output_type": "execute_result"
        }
      ],
      "source": [
        "param = [4, 10]\n",
        "\n",
        "list(range(*param))"
      ]
    },
    {
      "cell_type": "markdown",
      "metadata": {
        "id": "sW94KKmMzFzN"
      },
      "source": [
        "# Passing variable keyword argument\n",
        "Similarily for passing variable length keyword argument use following syntax"
      ]
    },
    {
      "cell_type": "code",
      "execution_count": 9,
      "metadata": {
        "id": "hSZ2vOuazFzO",
        "outputId": "207c9cf2-346e-44a4-81fe-1e0507113023"
      },
      "outputs": [
        {
          "name": "stdout",
          "output_type": "stream",
          "text": [
            "1\n",
            "{'Date': '7 Jan', 'City': 'Denver', 'Temperature': 45}\n",
            "key = Date, value = 7 Jan\n",
            "key = City, value = Denver\n",
            "key = Temperature, value = 45\n"
          ]
        }
      ],
      "source": [
        "def logInfoKeyWord(level, **kwargs ):\n",
        "    print (level)\n",
        "    print (kwargs)\n",
        "    for key , val in kwargs.items():\n",
        "        print('key = {}, value = {}'.format(key, val))\n",
        "\n",
        "\n",
        "logInfoKeyWord(1, Date= '7 Jan', City = 'Denver', Temperature=45)"
      ]
    },
    {
      "cell_type": "markdown",
      "metadata": {
        "id": "vBJl6SvwzFzO"
      },
      "source": [
        "Or we can use ** operator on a dictionary to get keyword arguments"
      ]
    },
    {
      "cell_type": "code",
      "execution_count": 10,
      "metadata": {
        "id": "q7O-JDGpzFzO",
        "outputId": "b78b208e-e74a-4979-c373-d6249c724a4c"
      },
      "outputs": [
        {
          "name": "stdout",
          "output_type": "stream",
          "text": [
            "1\n",
            "{'Date': '9 Nov', 'City': 'Houston', 'Temperature': 75}\n",
            "key = Date, value = 9 Nov\n",
            "key = City, value = Houston\n",
            "key = Temperature, value = 75\n"
          ]
        }
      ],
      "source": [
        "params = {'Date': '9 Nov', 'City' : 'Houston', 'Temperature':75}\n",
        "logInfoKeyWord(1, **params )"
      ]
    },
    {
      "cell_type": "markdown",
      "metadata": {
        "id": "hgzy_IJmzFzO"
      },
      "source": [
        "Before a variable number of arguments, zero or more normal arguments may occur. If we use both, then args must occur before *kwargs."
      ]
    },
    {
      "cell_type": "markdown",
      "metadata": {
        "id": "DZkCf33AzFzO"
      },
      "source": [
        "# more advanced concepts\n",
        "Here is link to my notebook. It's is bit python2 oriented.\n",
        "\n",
        "https://github.com/psnegi/PythonForReproducibleResearch/blob/master/AdvancedPythonConcepts.ipynb\n"
      ]
    },
    {
      "cell_type": "markdown",
      "metadata": {
        "id": "QuRRqyXGzFzP"
      },
      "source": [
        "# More info\n",
        "We don't have enough time to do this in class, but please review material on\n",
        "- [itertools — Functions creating iterators for efficient looping](https://docs.python.org/3/library/itertools.html)\n",
        "\n",
        "- https://jupyter.readthedocs.io/en/latest/architecture/how_jupyter_ipython_work.html\n",
        "\n"
      ]
    },
    {
      "cell_type": "markdown",
      "metadata": {
        "id": "Oj9w2JA-zFzP"
      },
      "source": [
        "This much infomation should be good enough for us to get started. I think one of the best ways to learn new concepts is to keep asking questions, looking for a better alternative. We will introduce further concepts as needed during the course.\n",
        "\n",
        " <center> <h1> <font color = \"coral\">Thank you </font> </h1> </center>"
      ]
    }
  ],
  "metadata": {
    "celltoolbar": "Slideshow",
    "colab": {
      "provenance": []
    },
    "kernelspec": {
      "display_name": "Python 3",
      "language": "python",
      "name": "python3"
    },
    "language_info": {
      "codemirror_mode": {
        "name": "ipython",
        "version": 3
      },
      "file_extension": ".py",
      "mimetype": "text/x-python",
      "name": "python",
      "nbconvert_exporter": "python",
      "pygments_lexer": "ipython3",
      "version": "3.11.6"
    }
  },
  "nbformat": 4,
  "nbformat_minor": 0
}
