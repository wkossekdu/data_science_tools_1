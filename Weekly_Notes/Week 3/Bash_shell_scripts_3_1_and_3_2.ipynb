{
 "cells": [
  {
   "cell_type": "markdown",
   "metadata": {
    "slideshow": {
     "slide_type": "slide"
    }
   },
   "source": [
    "# Bash Shell\n",
    "# What is shell?\n",
    "A program which takes input (commands) from the keyboard and passes them to the operating system (Linux).\n",
    "Most Linux system have Bash (Bourne Again SHell, an enhanced version of the original Unix shell program). \n",
    "\n",
    "Linux terminal emulator provides interface between the keyboard and the shell."
   ]
  },
  {
   "cell_type": "markdown",
   "metadata": {
    "slideshow": {
     "slide_type": "subslide"
    }
   },
   "source": [
    "## What is shell script?\n",
    "\n",
    "Shell script is a collection of commands."
   ]
  },
  {
   "cell_type": "markdown",
   "metadata": {
    "slideshow": {
     "slide_type": "subslide"
    }
   },
   "source": [
    "# What shell we are using"
   ]
  },
  {
   "cell_type": "code",
   "execution_count": 6,
   "metadata": {
    "slideshow": {
     "slide_type": "fragment"
    }
   },
   "outputs": [
    {
     "name": "stdout",
     "output_type": "stream",
     "text": [
      "/bin/bash\n"
     ]
    }
   ],
   "source": [
    "%%bash\n",
    "echo $SHELL"
   ]
  },
  {
   "cell_type": "markdown",
   "metadata": {
    "slideshow": {
     "slide_type": "subslide"
    }
   },
   "source": [
    "# Sample shell script"
   ]
  },
  {
   "cell_type": "code",
   "execution_count": 65,
   "metadata": {
    "slideshow": {
     "slide_type": "subslide"
    }
   },
   "outputs": [
    {
     "name": "stdout",
     "output_type": "stream",
     "text": [
      "Hello,Pooran, Negi\n",
      "Current date and time is\n",
      "Mon Jan 28 18:02:15 MST 2019\n"
     ]
    }
   ],
   "source": [
    "%%bash\n",
    "#!/bin/bash This would tell us where is the shell used to run this file\n",
    "first_name=\"Pooran\"\n",
    "last_name='Negi'\n",
    "echo \"Hello,$first_name, $last_name\"\n",
    "echo \"Current date and time is\"\n",
    "date"
   ]
  },
  {
   "cell_type": "markdown",
   "metadata": {
    "slideshow": {
     "slide_type": "subslide"
    }
   },
   "source": [
    "# How to put above commands in a file and run it (demo)\n",
    "- create a file called hello.sh containg above commands\n",
    "- see the file premissions using ls -l\n",
    "- add execute permission using **chmod u+x hello.sh**. Run the script by typing **./hello.sh**\n",
    "    + or type bash hello.sh"
   ]
  },
  {
   "cell_type": "markdown",
   "metadata": {
    "slideshow": {
     "slide_type": "subslide"
    }
   },
   "source": [
    "# Bash variables\n",
    "\n",
    "- variables are defined using = and accessed using $\n",
    "- For numerical comparison use **-lt(less than), -le(less or equal), -gt etc**\n",
    "- For string comparion use **=, !=,  <, >**"
   ]
  },
  {
   "cell_type": "code",
   "execution_count": 27,
   "metadata": {
    "slideshow": {
     "slide_type": "subslide"
    }
   },
   "outputs": [
    {
     "name": "stdout",
     "output_type": "stream",
     "text": [
      "0\n"
     ]
    }
   ],
   "source": [
    "%%bash\n",
    "a=3\n",
    "b=2\n",
    "# keep the space after [ and before ]\n",
    "[ $a -gt $b ]\n",
    "#  $? gives status of last command\n",
    "# here 0 means that the comparision was successful\n",
    "echo $?\n"
   ]
  },
  {
   "cell_type": "markdown",
   "metadata": {
    "slideshow": {
     "slide_type": "subslide"
    }
   },
   "source": [
    "# Bash conditional statement\n",
    "\n",
    "if TEST\n",
    "\n",
    "then\n",
    "\n",
    " COMMANDS;\n",
    "\n",
    "elif MORE-TEST\n",
    "\n",
    "then\n",
    "\n",
    "MORE COMMANDS;\n",
    "\n",
    "else\n",
    "\n",
    "DEFAULT-COMMANDS;\n",
    "\n",
    "fi\n",
    "\n"
   ]
  },
  {
   "cell_type": "code",
   "execution_count": 12,
   "metadata": {
    "slideshow": {
     "slide_type": "subslide"
    }
   },
   "outputs": [
    {
     "name": "stdout",
     "output_type": "stream",
     "text": [
      "number_a is less than number_b\n"
     ]
    }
   ],
   "source": [
    "%%bash\n",
    "# write if condition to print number_a is less number_b else print greater than \n",
    "number_a=2\n",
    "number_b=3\n",
    "\n",
    "if [ $number_a -lt $number_b ]\n",
    "then \n",
    "echo \"number_a is less than number_b\";\n",
    "else\n",
    "echo \"else part\"\n",
    "\n",
    "fi\n"
   ]
  },
  {
   "cell_type": "markdown",
   "metadata": {
    "slideshow": {
     "slide_type": "subslide"
    }
   },
   "source": [
    "# For Loops\n",
    "# Useful when training a machine learning model for different parameters"
   ]
  },
  {
   "cell_type": "code",
   "execution_count": 14,
   "metadata": {
    "slideshow": {
     "slide_type": "fragment"
    }
   },
   "outputs": [
    {
     "name": "stdout",
     "output_type": "stream",
     "text": [
      "current optimization alpha is 1\n",
      "current optimization alpha is 2\n",
      "current optimization alpha is 3\n",
      "current optimization alpha is 4\n"
     ]
    }
   ],
   "source": [
    "%%bash\n",
    "for alpha in 1 2 3 4\n",
    "do echo \"current optimization alpha is $alpha\";\n",
    "# Following line will be not be commented in real training of a model\n",
    "#python3  model.py $alpha\n",
    "done"
   ]
  },
  {
   "cell_type": "markdown",
   "metadata": {
    "slideshow": {
     "slide_type": "slide"
    }
   },
   "source": [
    "# Reading and resources\n",
    "- [Linux Documentation Project ](https://www.tldp.org/)\n",
    "- [until loop](http://tldp.org/LDP/Bash-Beginners-Guide/html/sect_09_03.html)"
   ]
  },
  {
   "cell_type": "markdown",
   "metadata": {
    "slideshow": {
     "slide_type": "subslide"
    }
   },
   "source": [
    "# Positional parameters\n",
    "Can we pass first_name and last_name as argument to the script?\n",
    "Yes, they are called positional paramters and accessed via $1, $2, .. etc.\n",
    "\n",
    "Change hello.sh script as \n",
    "\n",
    "#!/bin/bash \n",
    "\n",
    "\\# first positional \n",
    "\n",
    "first_name=$1\n",
    "\n",
    "\\# second positional parameter\n",
    "\n",
    "last_name=$2\n",
    "\n",
    "echo \"Hello, $first\\_name,  $last\\_name\"\n",
    "\n",
    "echo \"Program name is $0\"\n",
    "\n",
    "echo \"Total parameters $#\"\n",
    "\n",
    "echo \"Current calendar is\"\n",
    "cal\n",
    "\n",
    "<font size = \"5\" color = 'red'> run as ./hello.sh firstname lastname </font>"
   ]
  },
  {
   "cell_type": "markdown",
   "metadata": {
    "slideshow": {
     "slide_type": "subslide"
    }
   },
   "source": [
    "We can also use  **set command** to set positional parameters too."
   ]
  },
  {
   "cell_type": "code",
   "execution_count": 13,
   "metadata": {
    "slideshow": {
     "slide_type": "fragment"
    }
   },
   "outputs": [
    {
     "name": "stdout",
     "output_type": "stream",
     "text": [
      "space time\n",
      "2\n"
     ]
    }
   ],
   "source": [
    "%%bash\n",
    "set space time\n",
    "echo $1 $2\n",
    "echo $#"
   ]
  },
  {
   "cell_type": "markdown",
   "metadata": {},
   "source": [
    "# Command Substitution\n",
    "Command substitution allows the output of a command to replace the command itself.\n",
    "\n",
    "- use **$(command)** for command subsitution\n",
    "- or **\\`command\\`**"
   ]
  },
  {
   "cell_type": "code",
   "execution_count": 1,
   "metadata": {},
   "outputs": [
    {
     "name": "stdout",
     "output_type": "stream",
     "text": [
      "date\n"
     ]
    }
   ],
   "source": [
    "%%bash\n",
    "echo \"date\""
   ]
  },
  {
   "cell_type": "code",
   "execution_count": 3,
   "metadata": {},
   "outputs": [
    {
     "name": "stdout",
     "output_type": "stream",
     "text": [
      "Thu Jan 18 20:08:34 MST 2024\n"
     ]
    }
   ],
   "source": [
    "%%bash\n",
    "echo \"`date`\""
   ]
  },
  {
   "cell_type": "markdown",
   "metadata": {
    "slideshow": {
     "slide_type": "subslide"
    }
   },
   "source": [
    "# Arithmetic operations\n",
    "- enclose expression inside (())\n",
    "- or Use expr"
   ]
  },
  {
   "cell_type": "code",
   "execution_count": 6,
   "metadata": {
    "slideshow": {
     "slide_type": "fragment"
    }
   },
   "outputs": [
    {
     "name": "stdout",
     "output_type": "stream",
     "text": [
      "7\n"
     ]
    }
   ],
   "source": [
    "%%bash\n",
    "echo $(( 2 + 5 ))"
   ]
  },
  {
   "cell_type": "code",
   "execution_count": 7,
   "metadata": {
    "slideshow": {
     "slide_type": "fragment"
    }
   },
   "outputs": [
    {
     "name": "stdout",
     "output_type": "stream",
     "text": [
      "9\n"
     ]
    }
   ],
   "source": [
    "%%bash\n",
    "expr 2 + 7"
   ]
  },
  {
   "cell_type": "markdown",
   "metadata": {
    "slideshow": {
     "slide_type": "subslide"
    }
   },
   "source": [
    "# Demo \n",
    "- create a file using cat as **cat > test_file.txt**. Enter couple of line and close file with ctr-D\n",
    "- create a bash script called count word.sh\n",
    "    + in a while loop read file and print line number, number of words and the line\n",
    "- chomod u+x count_word.sh"
   ]
  },
  {
   "cell_type": "markdown",
   "metadata": {
    "slideshow": {
     "slide_type": "subslide"
    }
   },
   "source": [
    "# bc command for float point arithmetics"
   ]
  },
  {
   "cell_type": "code",
   "execution_count": 64,
   "metadata": {
    "slideshow": {
     "slide_type": "fragment"
    }
   },
   "outputs": [
    {
     "name": "stdout",
     "output_type": "stream",
     "text": [
      "3.5\n"
     ]
    }
   ],
   "source": [
    "%%bash\n",
    "echo \"2.5 + (5/5)\" |bc"
   ]
  }
 ],
 "metadata": {
  "celltoolbar": "Slideshow",
  "kernelspec": {
   "display_name": "Python 3",
   "language": "python",
   "name": "python3"
  },
  "language_info": {
   "codemirror_mode": {
    "name": "ipython",
    "version": 3
   },
   "file_extension": ".py",
   "mimetype": "text/x-python",
   "name": "python",
   "nbconvert_exporter": "python",
   "pygments_lexer": "ipython3",
   "version": "3.11.6"
  }
 },
 "nbformat": 4,
 "nbformat_minor": 2
}
