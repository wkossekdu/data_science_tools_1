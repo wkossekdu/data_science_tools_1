{
 "cells": [
  {
   "cell_type": "markdown",
   "metadata": {
    "slideshow": {
     "slide_type": "slide"
    }
   },
   "source": [
    "# Basics of Web Scrapping\n",
    "\n",
    "Extracting webpages and parsing them for in readable format.\n",
    "\n",
    "Usually it is HTML. We'll use\n",
    "- **Requests** to get the webpage\n",
    "- **[Beautiful Soup](https://www.crummy.com/software/BeautifulSoup/)** to parse it. It parses HTML and XML with the help of a parser (**html or lxml**)"
   ]
  },
  {
   "cell_type": "markdown",
   "metadata": {
    "slideshow": {
     "slide_type": "slide"
    }
   },
   "source": [
    "<center> <h1> Beautiful Soup  </h1> </center>\n",
    "\n",
    "From the website\n",
    "\n",
    "**\"You didn't write that awful page. You're just trying to get some data out of it. Beautiful Soup is here to help.\"**\n",
    "\n",
    "Install \n",
    "- **pip install beautifulsoup4**\n",
    "- **pip install lxml**\n",
    "in your virtual environment."
   ]
  },
  {
   "cell_type": "markdown",
   "metadata": {
    "slideshow": {
     "slide_type": "subslide"
    }
   },
   "source": [
    "# Protocol to follow when scrapping the web page\n",
    "- Check for robot.txt and see what is allowed\n",
    "- Avoid lots of simultaneous calls. Your IP may get block. Use sleep between making get call to avoid this.\n",
    "\n",
    "- Use Requests get method to get the webpage html\n",
    "- Parse it using Beautiful Soup and lxml. It creates a hierarchical structure of html elements.\n",
    "- In chrome right click and click on inspect to open developer tools. Inspecting the html elements for their attributes and hierarchical order.\n",
    "- Use Beautiful Soup object to get to the desired element."
   ]
  },
  {
   "cell_type": "markdown",
   "metadata": {
    "slideshow": {
     "slide_type": "slide"
    }
   },
   "source": [
    "# An example of parsing html\n",
    "\n",
    "Visit this [w3schools](https://www.w3schools.com/html/html_basic.asp) to get an idea about HTML\n"
   ]
  },
  {
   "cell_type": "code",
   "execution_count": 4,
   "metadata": {
    "slideshow": {
     "slide_type": "subslide"
    }
   },
   "outputs": [],
   "source": [
    "html_doc = \"\"\"\n",
    "<!DOCTYPE html>\n",
    "<html><head><title>The Dormouse's story</title></head>\n",
    "<body>\n",
    "\n",
    "<p class=\"story_title\"><b>The Dormouse's story three little sisters</b></p>\n",
    "<p class=\"story\">Once upon a time there were three little sisters; and their names were\n",
    "<a href=\"http://example.com/elsie\" class=\"sister\" id=\"link1\">Elsie</a>,\n",
    "<a href=\"http://example.com/lacie\" class=\"sister\" id=\"link2\">Lacie</a> and\n",
    "<a href=\"http://example.com/tillie\" class=\"sister\" id=\"link3\">Tillie</a>;\n",
    "and they lived at the bottom of a well.</p>\n",
    "\n",
    "<p class=\"story\">...</p>\n",
    "</body>\n",
    "</html>\n",
    "\"\"\""
   ]
  },
  {
   "cell_type": "markdown",
   "metadata": {
    "slideshow": {
     "slide_type": "subslide"
    }
   },
   "source": [
    "\n",
    "<!DOCTYPE html>\n",
    "<html><head><title>The Dormouse's story</title></head>\n",
    "<body>\n",
    "<p class=\"story_title\"><b>The Dormouse's story three little sisters</b></p>    \n",
    "<p class=\"story\">Once upon a time there were three little sisters; and their names were\n",
    "<a href=\"http://example.com/elsie\" class=\"sister\" id=\"link1\">Elsie</a>,\n",
    "<a href=\"http://example.com/lacie\" class=\"sister\" id=\"link2\">Lacie</a> and\n",
    "<a href=\"http://example.com/tillie\" class=\"sister\" id=\"link3\">Tillie</a>;\n",
    "and they lived at the bottom of a well.</p>\n",
    "\n",
    "<p class=\"story\">...</p>\n",
    "</body>\n",
    "</html>\n"
   ]
  },
  {
   "cell_type": "code",
   "execution_count": 2,
   "metadata": {
    "slideshow": {
     "slide_type": "subslide"
    }
   },
   "outputs": [],
   "source": [
    "from bs4 import BeautifulSoup as bsoup\n",
    "import urllib.robotparser"
   ]
  },
  {
   "cell_type": "code",
   "execution_count": 5,
   "metadata": {},
   "outputs": [
    {
     "name": "stdout",
     "output_type": "stream",
     "text": [
      "<class 'bs4.BeautifulSoup'>\n",
      "<!DOCTYPE html>\n",
      "<html><head><title>The Dormouse's story</title></head>\n",
      "<body>\n",
      "<p class=\"story_title\"><b>The Dormouse's story three little sisters</b></p>\n",
      "<p class=\"story\">Once upon a time there were three little sisters; and their names were\n",
      "<a class=\"sister\" href=\"http://example.com/elsie\" id=\"link1\">Elsie</a>,\n",
      "<a class=\"sister\" href=\"http://example.com/lacie\" id=\"link2\">Lacie</a> and\n",
      "<a class=\"sister\" href=\"http://example.com/tillie\" id=\"link3\">Tillie</a>;\n",
      "and they lived at the bottom of a well.</p>\n",
      "<p class=\"story\">...</p>\n",
      "</body>\n",
      "</html>\n",
      "\n"
     ]
    }
   ],
   "source": [
    "soup = bsoup(html_doc, 'lxml')\n",
    "print(type(soup))\n",
    "print(soup)"
   ]
  },
  {
   "cell_type": "markdown",
   "metadata": {
    "slideshow": {
     "slide_type": "subslide"
    }
   },
   "source": [
    "# Navigating this data structure"
   ]
  },
  {
   "cell_type": "code",
   "execution_count": 6,
   "metadata": {
    "slideshow": {
     "slide_type": "fragment"
    }
   },
   "outputs": [
    {
     "data": {
      "text/plain": [
       "<title>The Dormouse's story</title>"
      ]
     },
     "execution_count": 6,
     "metadata": {},
     "output_type": "execute_result"
    }
   ],
   "source": [
    "soup.title"
   ]
  },
  {
   "cell_type": "code",
   "execution_count": 7,
   "metadata": {
    "slideshow": {
     "slide_type": "fragment"
    }
   },
   "outputs": [
    {
     "data": {
      "text/plain": [
       "\"The Dormouse's story\""
      ]
     },
     "execution_count": 7,
     "metadata": {},
     "output_type": "execute_result"
    }
   ],
   "source": [
    "soup.title.text"
   ]
  },
  {
   "cell_type": "code",
   "execution_count": 8,
   "metadata": {
    "slideshow": {
     "slide_type": "fragment"
    }
   },
   "outputs": [
    {
     "data": {
      "text/plain": [
       "\"The Dormouse's story\""
      ]
     },
     "execution_count": 8,
     "metadata": {},
     "output_type": "execute_result"
    }
   ],
   "source": [
    "soup.title.string"
   ]
  },
  {
   "cell_type": "code",
   "execution_count": 9,
   "metadata": {
    "slideshow": {
     "slide_type": "subslide"
    }
   },
   "outputs": [
    {
     "data": {
      "text/plain": [
       "<head><title>The Dormouse's story</title></head>"
      ]
     },
     "execution_count": 9,
     "metadata": {},
     "output_type": "execute_result"
    }
   ],
   "source": [
    "soup.title.parent"
   ]
  },
  {
   "cell_type": "code",
   "execution_count": 10,
   "metadata": {
    "slideshow": {
     "slide_type": "fragment"
    }
   },
   "outputs": [
    {
     "data": {
      "text/plain": [
       "\"The Dormouse's story\""
      ]
     },
     "execution_count": 10,
     "metadata": {},
     "output_type": "execute_result"
    }
   ],
   "source": [
    "# print the name and text in parent tag ??????\n",
    "soup.title.parent.text\n"
   ]
  },
  {
   "cell_type": "markdown",
   "metadata": {
    "slideshow": {
     "slide_type": "subslide"
    }
   },
   "source": [
    "# p tag represent a paragraph of text"
   ]
  },
  {
   "cell_type": "code",
   "execution_count": 11,
   "metadata": {
    "slideshow": {
     "slide_type": "fragment"
    }
   },
   "outputs": [
    {
     "data": {
      "text/plain": [
       "<p class=\"story_title\"><b>The Dormouse's story three little sisters</b></p>"
      ]
     },
     "execution_count": 11,
     "metadata": {},
     "output_type": "execute_result"
    }
   ],
   "source": [
    "soup.p"
   ]
  },
  {
   "cell_type": "markdown",
   "metadata": {
    "slideshow": {
     "slide_type": "fragment"
    }
   },
   "source": [
    "p tag has some attribute too, like class here. How to get the value of attribute"
   ]
  },
  {
   "cell_type": "code",
   "execution_count": 13,
   "metadata": {
    "slideshow": {
     "slide_type": "fragment"
    }
   },
   "outputs": [
    {
     "data": {
      "text/plain": [
       "['story_title']"
      ]
     },
     "execution_count": 13,
     "metadata": {},
     "output_type": "execute_result"
    }
   ],
   "source": [
    "soup.p['class']"
   ]
  },
  {
   "cell_type": "markdown",
   "metadata": {
    "slideshow": {
     "slide_type": "subslide"
    }
   },
   "source": [
    "But there were more **p** tags. How to get them from soup data structure"
   ]
  },
  {
   "cell_type": "code",
   "execution_count": 14,
   "metadata": {
    "slideshow": {
     "slide_type": "subslide"
    }
   },
   "outputs": [
    {
     "data": {
      "text/plain": [
       "[<p class=\"story_title\"><b>The Dormouse's story three little sisters</b></p>,\n",
       " <p class=\"story\">Once upon a time there were three little sisters; and their names were\n",
       " <a class=\"sister\" href=\"http://example.com/elsie\" id=\"link1\">Elsie</a>,\n",
       " <a class=\"sister\" href=\"http://example.com/lacie\" id=\"link2\">Lacie</a> and\n",
       " <a class=\"sister\" href=\"http://example.com/tillie\" id=\"link3\">Tillie</a>;\n",
       " and they lived at the bottom of a well.</p>,\n",
       " <p class=\"story\">...</p>]"
      ]
     },
     "execution_count": 14,
     "metadata": {},
     "output_type": "execute_result"
    }
   ],
   "source": [
    "soup.find_all('p')"
   ]
  },
  {
   "cell_type": "markdown",
   "metadata": {
    "slideshow": {
     "slide_type": "subslide"
    }
   },
   "source": [
    "The **a** tag defines a hyperlink, to link  to another webpage"
   ]
  },
  {
   "cell_type": "code",
   "execution_count": 15,
   "metadata": {
    "slideshow": {
     "slide_type": "fragment"
    }
   },
   "outputs": [
    {
     "name": "stdout",
     "output_type": "stream",
     "text": [
      "http://example.com/elsie\n",
      "http://example.com/lacie\n",
      "http://example.com/tillie\n"
     ]
    }
   ],
   "source": [
    "# Find all the url(href) in a tags\n",
    "for atag in soup.find_all('a'):\n",
    "    print(atag['href'])"
   ]
  },
  {
   "cell_type": "code",
   "execution_count": 16,
   "metadata": {
    "slideshow": {
     "slide_type": "subslide"
    }
   },
   "outputs": [
    {
     "data": {
      "text/plain": [
       "<a class=\"sister\" href=\"http://example.com/tillie\" id=\"link3\">Tillie</a>"
      ]
     },
     "execution_count": 16,
     "metadata": {},
     "output_type": "execute_result"
    }
   ],
   "source": [
    "# Third link\n",
    "soup.find(id=\"link3\")"
   ]
  },
  {
   "cell_type": "code",
   "execution_count": 17,
   "metadata": {
    "slideshow": {
     "slide_type": "fragment"
    }
   },
   "outputs": [
    {
     "data": {
      "text/plain": [
       "\"The Dormouse's story\\n\\nThe Dormouse's story three little sisters\\nOnce upon a time there were three little sisters; and their names were\\nElsie,\\nLacie and\\nTillie;\\nand they lived at the bottom of a well.\\n...\\n\\n\\n\""
      ]
     },
     "execution_count": 17,
     "metadata": {},
     "output_type": "execute_result"
    }
   ],
   "source": [
    "# complete text\n",
    "soup.get_text()"
   ]
  },
  {
   "cell_type": "markdown",
   "metadata": {
    "slideshow": {
     "slide_type": "slide"
    }
   },
   "source": [
    "# Let's create some Beautiful Soup\n",
    "\n",
    "We will scrap fry electronics for telescopes following the protocol and store the result in a csv file.\n",
    "\n"
   ]
  },
  {
   "cell_type": "markdown",
   "metadata": {
    "slideshow": {
     "slide_type": "subslide"
    }
   },
   "source": [
    "# Checking robots.txt\n",
    "\n",
    "## Caution: This does not work because the business closed down permanently. Feel free to watch the video, but it is no longer possible to reproduce this exact example."
   ]
  },
  {
   "cell_type": "code",
   "execution_count": 15,
   "metadata": {
    "slideshow": {
     "slide_type": "fragment"
    }
   },
   "outputs": [
    {
     "name": "stderr",
     "output_type": "stream",
     "text": [
      "  % Total    % Received % Xferd  Average Speed   Time    Time     Time  Current\n",
      "                                 Dload  Upload   Total   Spent    Left  Speed\n",
      "\n",
      "  0     0    0     0    0     0      0      0 --:--:-- --:--:-- --:--:--     0\n",
      "  0     0    0     0    0     0      0      0 --:--:-- --:--:-- --:--:--     0\n",
      "  0     0    0     0    0     0      0      0 --:--:--  0:00:01 --:--:--     0\n",
      "  0     0    0     0    0     0      0      0 --:--:--  0:00:02 --:--:--     0\n",
      "  0     0    0     0    0     0      0      0 --:--:--  0:00:03 --:--:--     0\n",
      "  0     0    0     0    0     0      0      0 --:--:--  0:00:04 --:--:--     0\n",
      "  0     0    0     0    0     0      0      0 --:--:--  0:00:05 --:--:--     0\n",
      "  0     0    0     0    0     0      0      0 --:--:--  0:00:06 --:--:--     0\n",
      "  0     0    0     0    0     0      0      0 --:--:--  0:00:07 --:--:--     0\n",
      "  0     0    0     0    0     0      0      0 --:--:--  0:00:08 --:--:--     0\n",
      "  0     0    0     0    0     0      0      0 --:--:--  0:00:09 --:--:--     0\n",
      "  0     0    0     0    0     0      0      0 --:--:--  0:00:10 --:--:--     0\n",
      "  0     0    0     0    0     0      0      0 --:--:--  0:00:11 --:--:--     0\n",
      "  0     0    0     0    0     0      0      0 --:--:--  0:00:12 --:--:--     0\n",
      "  0     0    0     0    0     0      0      0 --:--:--  0:00:13 --:--:--     0\n",
      "  0     0    0     0    0     0      0      0 --:--:--  0:00:14 --:--:--     0\n",
      "  0     0    0     0    0     0      0      0 --:--:--  0:00:15 --:--:--     0\n",
      "  0     0    0     0    0     0      0      0 --:--:--  0:00:16 --:--:--     0\n",
      "  0     0    0     0    0     0      0      0 --:--:--  0:00:17 --:--:--     0\n",
      "  0     0    0     0    0     0      0      0 --:--:--  0:00:18 --:--:--     0\n",
      "  0     0    0     0    0     0      0      0 --:--:--  0:00:19 --:--:--     0\n",
      "  0     0    0     0    0     0      0      0 --:--:--  0:00:20 --:--:--     0\n",
      "  0     0    0     0    0     0      0      0 --:--:--  0:00:21 --:--:--     0\n",
      "curl: (28) Failed to connect to www.frys.com port 443 after 21223 ms: Timed out\n"
     ]
    }
   ],
   "source": [
    "!curl  https://www.frys.com/robots.txt"
   ]
  },
  {
   "cell_type": "code",
   "execution_count": 18,
   "metadata": {},
   "outputs": [
    {
     "name": "stdout",
     "output_type": "stream",
     "text": [
      "Requirement already satisfied: urllib3 in c:\\users\\kosek\\anaconda3\\envs\\env310\\lib\\site-packages (1.26.8)\n"
     ]
    }
   ],
   "source": [
    "!pip install urllib3"
   ]
  },
  {
   "cell_type": "code",
   "execution_count": 18,
   "metadata": {
    "slideshow": {
     "slide_type": "slide"
    }
   },
   "outputs": [],
   "source": [
    "#urllib has evolved since the video was recorded. Some of the syntax is different.\n",
    "#https://stackoverflow.com/questions/2018026/what-are-the-differences-between-the-urllib-urllib2-urllib3-and-requests-modul\n",
    "\n",
    "import urllib\n",
    "rp = urllib.robotparser.RobotFileParser()"
   ]
  },
  {
   "cell_type": "code",
   "execution_count": 28,
   "metadata": {},
   "outputs": [
    {
     "data": {
      "text/plain": [
       "200"
      ]
     },
     "execution_count": 28,
     "metadata": {},
     "output_type": "execute_result"
    }
   ],
   "source": [
    "import requests\n",
    "response=requests.get(\"https://www.frys.com/search?q=telescope...\")\n",
    "# This will not work as the website was taken down. Please feel free to watch the video and practice with a different website.\n",
    "response.status_code"
   ]
  },
  {
   "cell_type": "code",
   "execution_count": 29,
   "metadata": {},
   "outputs": [
    {
     "data": {
      "text/plain": [
       "'<html lang=\"en\">\\n\\n<head>\\n    <title>Robot or human?</title>\\n    <meta name=\"viewport\" content=\"width=device-width\">\\n    <style>\\n    #sign-in-widget a,\\n    #sign-in-widget a:active,\\n    #sign-in-widget a:hover {\\n        color: #000\\n    }\\n\\n    #sign-in-widget h1 {\\n        font-weight: 500;\\n        font-size: 20px;\\n        font-size: 1.25rem;\\n        letter-spacing: -.6px;\\n        margin: 1px auto\\n    }\\n\\n    @media (min-width:30em) {\\n        #sign-in-widget h1 {\\n            margin-top: 24px;\\n            font-size: 24px;\\n            font-size: 1.5rem\\n        }\\n    }\\n\\n    #sign-in-widget {\\n        font-family: BogleWeb, Helvetica Neue, Helvetica, Arial, sans-serif\\n    }\\n\\n    #sign-in-widget * {\\n        box-sizing: border-box\\n    }\\n\\n    #sign-in-widget .text-right {\\n        text-align: right\\n    }\\n\\n    @font-face {\\n        font-family: NewYorkIcons;\\n        src: url(6255ed72d86ece856725a2d80878bce6.eot);\\n        font-weight: 400;\\n        font-style: normal\\n    }\\n\\n    @font-face {\\n        font-family: NewYorkIcons;\\n        src: url(fd827841624904d4b8f51d20174fa3a4.woff2) format(\"woff2\"), url(5b38b158833d0265af2b1c1093e489bd.woff) format(\"woff\"), url(2ebae25dcb1bb39acbac9cffd8f10b15.ttf) format(\"truetype\");\\n        font-weight: 400;\\n        font-style: normal\\n    }\\n\\n    @keyframes spin-clockwise {\\n        0% {\\n            transform: rotate(0)\\n        }\\n\\n        to {\\n            transform: rotate(1turn)\\n        }\\n    }\\n\\n    @keyframes zoom-inverse {\\n        0% {\\n            opacity: 0;\\n            transform: scale(3)\\n        }\\n\\n        33% {\\n            opacity: 1\\n        }\\n\\n        to {\\n            transform: scale(1)\\n        }\\n    }\\n\\n    @keyframes blinker {\\n        0% {\\n            opacity: 1\\n        }\\n\\n        to {\\n            opacity: 0\\n        }\\n    }\\n\\n    @keyframes slide-from-bottom {\\n        0% {\\n            transform: translateY(100%)\\n        }\\n\\n        to {\\n            transform: translateY(0)\\n        }\\n    }\\n\\n    @keyframes slide-from-top {\\n        0% {\\n            transform: translateY(0)\\n        }\\n\\n        to {\\n            transform: translateY(100%)\\n        }\\n    }\\n\\n    @keyframes fade-in-opacity {\\n        0% {\\n            opacity: 0\\n        }\\n\\n        to {\\n            opacity: 1\\n        }\\n    }\\n\\n    .elc-icon-spark:before {\\n        font-family: NewYorkIcons;\\n        display: inline;\\n        speak: none;\\n        content: \"\\\\E935\"\\n    }\\n\\n    .message {\\n        text-align: left\\n    }\\n\\n    .message.active {\\n        display: block\\n    }\\n\\n    .divider {\\n        margin: 24px 0 8px;\\n        text-align: center\\n    }\\n\\n    @media (min-width:30em) {\\n        .divider {\\n            margin-top: 40px\\n        }\\n    }\\n\\n    #sign-in-widget {\\n        text-align: center\\n    }\\n\\n    #sign-in-widget p {\\n        margin-bottom: 0\\n    }\\n\\n    #sign-in-widget .header-logo {\\n        text-decoration: none;\\n        font-size: 36px;\\n        font-size: 2.25rem\\n    }\\n\\n    @media (min-width:30em) {\\n        #sign-in-widget .message.active+h1 {\\n            margin-top: 32px\\n        }\\n    }\\n\\n    #sign-in-widget .elc-icon {\\n        font-family: NewYorkIcons\\n    }\\n\\n    .u-sentenceCase {\\n        display: inline-block;\\n        text-decoration: inherit;\\n        text-transform: lowercase\\n    }\\n\\n    .u-sentenceCase:first-letter {\\n        text-transform: uppercase\\n    }\\n\\n    .u-sentenceCase--no-transform {\\n        text-transform: none\\n    }\\n\\n    .message {\\n        -moz-osx-font-smoothing: grayscale;\\n        -webkit-font-smoothing: antialiased;\\n        display: none;\\n        padding: 8px 10px;\\n        border: 1px solid;\\n        color: #414042;\\n        font-size: 14px;\\n        font-size: .875rem\\n    }\\n\\n    .message.active {\\n        display: inline-block\\n    }\\n\\n    .spark {\\n        color: #ffc400\\n    }\\n\\n    .sign-in-widget>* {\\n        display: none\\n    }\\n\\n    [data-active=\"0\"] .sign-in-widget>:first-child,\\n    [data-active=\"1\"] .sign-in-widget>:nth-child(2),\\n    [data-active=\"10\"] .sign-in-widget>:nth-child(11),\\n    [data-active=\"11\"] .sign-in-widget>:nth-child(12),\\n    [data-active=\"12\"] .sign-in-widget>:nth-child(13),\\n    [data-active=\"13\"] .sign-in-widget>:nth-child(14),\\n    [data-active=\"14\"] .sign-in-widget>:nth-child(15),\\n    [data-active=\"15\"] .sign-in-widget>:nth-child(16),\\n    [data-active=\"16\"] .sign-in-widget>:nth-child(17),\\n    [data-active=\"17\"] .sign-in-widget>:nth-child(18),\\n    [data-active=\"18\"] .sign-in-widget>:nth-child(19),\\n    [data-active=\"2\"] .sign-in-widget>:nth-child(3),\\n    [data-active=\"3\"] .sign-in-widget>:nth-child(4),\\n    [data-active=\"4\"] .sign-in-widget>:nth-child(5),\\n    [data-active=\"5\"] .sign-in-widget>:nth-child(6),\\n    [data-active=\"6\"] .sign-in-widget>:nth-child(7),\\n    [data-active=\"7\"] .sign-in-widget>:nth-child(8),\\n    [data-active=\"8\"] .sign-in-widget>:nth-child(9),\\n    [data-active=\"9\"] .sign-in-widget>:nth-child(10) {\\n        display: block\\n    }\\n\\n    [data-active] {\\n        min-height: 100%;\\n        position: relative\\n    }\\n\\n    [data-active]>* {\\n        margin-right: auto;\\n        margin-left: auto\\n    }\\n\\n    @media (min-width:240px) {\\n        [data-active]>* {\\n            max-width: 304px;\\n            margin-right: auto;\\n            margin-left: auto\\n        }\\n    }\\n\\n    @media (min-width:1024px) {\\n        [data-active]>* {\\n            max-width: 320px;\\n            margin-right: auto;\\n            margin-left: auto\\n        }\\n    }\\n\\n    body,\\n    html {\\n        height: 100%;\\n        margin: 0\\n    }\\n\\n    #sign-in-widget .header-logo {\\n        margin-top: 2px;\\n        display: inherit\\n    }\\n\\n    @media (min-width:30em) {\\n        #sign-in-widget .header-logo {\\n            margin-top: 32px\\n        }\\n    }\\n\\n    #sign-in-widget h1~.sign-in-widget {\\n        padding-bottom: 200px\\n    }\\n\\n    .lite-footer {\\n        width: 100%;\\n        max-width: 100% !important\\n    }\\n\\n    .lite-footer>hr {\\n        margin: 0;\\n        width: 100%;\\n        border-color: #e6e7e8;\\n        border-style: solid\\n    }\\n\\n    @media (min-width:48em) {\\n        .lite-footer {\\n            position: absolute;\\n            bottom: 0;\\n            margin-top: 200px\\n        }\\n    }\\n\\n    .lite-footer .main-container {\\n        padding: 16px;\\n        margin-bottom: 24px;\\n        font-size: 14px;\\n        font-size: .875rem;\\n        display: -ms-flexbox;\\n        display: flex;\\n        -ms-flex-direction: column;\\n        flex-direction: column;\\n        -ms-flex-pack: center;\\n        justify-content: center;\\n        -ms-flex-line-pack: center;\\n        align-content: center;\\n        width: 100%;\\n        max-width: 100% !important\\n    }\\n\\n    @media (min-width:64em) {\\n        .lite-footer .main-container {\\n            -ms-flex-direction: row;\\n            flex-direction: row;\\n            -ms-flex-pack: justify;\\n            justify-content: space-between;\\n            -ms-flex-line-pack: start;\\n            align-content: flex-start\\n        }\\n    }\\n\\n    .lite-footer .main-container .left-section {\\n        text-align: center\\n    }\\n\\n    .lite-footer .main-container .left-section>a {\\n        display: block;\\n        margin-bottom: 16px\\n    }\\n\\n    @media (min-width:48em) {\\n        .lite-footer .main-container .left-section {\\n            text-align: left\\n        }\\n\\n        .lite-footer .main-container .left-section>a {\\n            display: inline;\\n            margin-right: 16px\\n        }\\n    }\\n\\n    .lite-footer .main-container .right-section {\\n        text-align: center;\\n        font-size: 12px;\\n        font-size: .75rem\\n    }\\n\\n    .lite-footer .main-container .right-section>p {\\n        margin: 0\\n    }\\n\\n    @media (min-width:48em) {\\n        .lite-footer .main-container .right-section {\\n            text-align: left\\n        }\\n\\n        .lite-footer .main-container .right-section>p {\\n            margin-top: 16px\\n        }\\n    }\\n\\n    @media (min-width:64em) {\\n        .lite-footer .main-container .right-section>p {\\n            margin: 0\\n        }\\n    }\\n\\n    /* upload and replace urls with new CDN URL*/\\n    @font-face {\\n        font-family: NewYorkIcons;\\n        src: url(https://i5.wal.co/dfw/63fd9f59-161f/f0d7612f-54fb-4910-a9c7-20c65d03f878/v1/6255ed72d86ece856725a2d80878bce6.eot);\\n        font-weight: 400;\\n        font-style: normal\\n    }\\n\\n    @font-face {\\n        font-family: NewYorkIcons;\\n        src: url(https://i5.wal.co/dfw/63fd9f59-161f/f0d7612f-54fb-4910-a9c7-20c65d03f878/v1/fd827841624904d4b8f51d20174fa3a4.woff2) format(\"woff2\"), url(https://i5.wal.co/dfw/63fd9f59-161f/f0d7612f-54fb-4910-a9c7-20c65d03f878/v1/5b38b158833d0265af2b1c1093e489bd.woff) format(\"woff\"), url(https://i5.wal.co/dfw/63fd9f59-161f/f0d7612f-54fb-4910-a9c7-20c65d03f878/v1/2ebae25dcb1bb39acbac9cffd8f10b15.ttf) format(\"truetype\");\\n        font-weight: 400;\\n        font-style: normal\\n    }\\n\\n    @font-face {\\n        font-family: \"BogleWeb\";\\n        src: url(\"https://i5.walmartimages.com/dfw/63fd9f59-a78c/fcfae9b6-2f69-4f89-beed-f0eeb4237946/v1/BogleWeb_subset-Bold.eot\");\\n        src: url(\"https://i5.walmartimages.com/dfw/63fd9f59-a78c/fcfae9b6-2f69-4f89-beed-f0eeb4237946/v1/BogleWeb_subset-Bold.eot?#iefix\") format(\"embedded-opentype\"),\\n            url(\"https://i5.walmartimages.com/dfw/63fd9f59-a78c/fcfae9b6-2f69-4f89-beed-f0eeb4237946/v1/BogleWeb_subset-Bold.woff2\") format(\"woff2\"),\\n            url(\"https://i5.walmartimages.com/dfw/63fd9f59-a78c/fcfae9b6-2f69-4f89-beed-f0eeb4237946/v1/BogleWeb_subset-Bold.woff\") format(\"woff\"),\\n            url(\"https://i5.walmartimages.com/dfw/63fd9f59-a78c/fcfae9b6-2f69-4f89-beed-f0eeb4237946/v1/BogleWeb_subset-Bold.ttf\") format(\"truetype\");\\n        font-weight: 700;\\n        font-style: normal;\\n    }\\n\\n    @font-face {\\n        font-family: \"BogleWeb\";\\n        src: url(\"https://i5.walmartimages.com/dfw/63fd9f59-a78c/fcfae9b6-2f69-4f89-beed-f0eeb4237946/v1/BogleWeb_subset-Bold.eot\");\\n        src: url(\"https://i5.walmartimages.com/dfw/63fd9f59-a78c/fcfae9b6-2f69-4f89-beed-f0eeb4237946/v1/BogleWeb_subset-Bold.eot?#iefix\") format(\"embedded-opentype\"),\\n            url(\"https://i5.walmartimages.com/dfw/63fd9f59-a78c/fcfae9b6-2f69-4f89-beed-f0eeb4237946/v1/BogleWeb_subset-Bold.woff2\") format(\"woff2\"),\\n            url(\"https://i5.walmartimages.com/dfw/63fd9f59-a78c/fcfae9b6-2f69-4f89-beed-f0eeb4237946/v1/BogleWeb_subset-Bold.woff\") format(\"woff\"),\\n            url(\"https://i5.walmartimages.com/dfw/63fd9f59-a78c/fcfae9b6-2f69-4f89-beed-f0eeb4237946/v1/BogleWeb_subset-Bold.ttf\") format(\"truetype\");\\n        font-weight: 600;\\n        font-style: normal;\\n    }\\n\\n    @font-face {\\n        font-family: \"BogleWeb\";\\n        src: url(\"https://i5.walmartimages.com/dfw/63fd9f59-a78c/fcfae9b6-2f69-4f89-beed-f0eeb4237946/v1/BogleWeb_subset-Regular.eot\");\\n        src: url(\"https://i5.walmartimages.com/dfw/63fd9f59-a78c/fcfae9b6-2f69-4f89-beed-f0eeb4237946/v1/BogleWeb_subset-Regular.eot?#iefix\") format(\"embedded-opentype\"),\\n            url(\"https://i5.walmartimages.com/dfw/63fd9f59-a78c/fcfae9b6-2f69-4f89-beed-f0eeb4237946/v1/BogleWeb_subset-Regular.woff2\") format(\"woff2\"),\\n            url(\"https://i5.walmartimages.com/dfw/63fd9f59-a78c/fcfae9b6-2f69-4f89-beed-f0eeb4237946/v1/BogleWeb_subset-Regular.woff\") format(\"woff\"),\\n            url(\"https://i5.walmartimages.com/dfw/63fd9f59-a78c/fcfae9b6-2f69-4f89-beed-f0eeb4237946/v1/BogleWeb_subset-Regular.ttf\") format(\"truetype\");\\n        font-weight: 400;\\n        font-style: normal;\\n    }\\n    </style>\\n    <script>\\n    function getUrlVars() {\\n        var vars = {};\\n        var parts = window.location.href.replace(/[?&]+([^=&]+)=([^&]*)/gi, function(m, key, value) {\\n            vars[key] = value;\\n        });\\n        return vars;\\n    }\\n\\n    function getUrlParam(parameter, defaultvalue) {\\n        var urlparameter = defaultvalue;\\n        if (window.location.href.indexOf(parameter) > -1) {\\n            urlparameter = getUrlVars()[parameter];\\n        }\\n        return urlparameter;\\n    }\\n\\n    </script>\\n</head>\\n\\n<body>\\n    <div>\\n        <div data-active=\"0\" id=\"sign-in-widget\">\\n            <a class=\"header-logo\" href=\"/\" aria-atomic=\"true\" aria-label=\"Walmart. Save Money. Live Better. Home Page\">\\n                <span class=\"spark elc-icon elc-icon-spark elc-icon-36\"></span>\\n            </a>\\n            <h1 class=\"heading heading-d sign-in-widget\">\\n                Robot or human?\\n            </h1>\\n            <div class=\"sign-in-widget\">\\n                <div class=\"re-captcha\">\\n                    <p class=\"bot-message\" id=message>Activate and hold the button to confirm that you’re human. Thank You!</p>\\n                    <div id=\"px-captcha\" style=\"margin:16px;margin-bottom: 32px; margin-top: 32px; align-content:center; align-items: center;\"></div>\\n                </div>\\n            </div>\\n            <script>\\n            window._pxAppId = \\'PXu6b0qd2S\\';\\n            window._pxJsClientSrc = \\'/px/\\' + window._pxAppId + \\'/init.js\\';\\n            window._pxFirstPartyEnabled = true;\\n            window._pxHostUrl = \\'/px/\\' + window._pxAppId + \\'/xhr\\';\\n            window._pxreCaptchaTheme = \\'light\\';\\n            window._PXETnJ2Y5H = {\\n                challenge: {\\n                    view: {\\n                         textFont: \"BogleWeb, Helvetica Neue, Helvetica, Arial, sans-serif\"\\n                   }\\n                }\\n            };\\n\\n            var hc = getUrlParam(\\'g\\', \\'b\\');\\n            var alt = hc\\n            if (alt==\\'a\\') {\\n                document.getElementById(\\'message\\').innerHTML = \\'<p>Check the box to confirm that you’re human. Thank You!</p>\\';\\n            }\\n            var captchajs = \"/px/\" + window._pxAppId + \"/captcha/captcha.js?a=c&m=0&g=\" + hc\\n            </script>\\n            <script id=\"blockScript\"></script>\\n            <script>\\n            document.getElementById(\\'blockScript\\').src = captchajs;\\n            </script>\\n            <div class=\"lite-footer\">\\n                <hr aria-hidden=\"true\" class=\"divider\">\\n                <div class=\"main-container\">\\n                    <div class=\"left-section\">\\n                        <a class=\"\" href=\"https://help.walmart.com/app/answers/detail/a_id/8\">\\n                            <span class=\"u-sentenceCase u-sentenceCase--no-transform\">Terms of Use</span>\\n                        </a>\\n                        <a class=\"\" href=\"https://corporate.walmart.com/privacy-security\">\\n                            <span class=\"u-sentenceCase u-sentenceCase--no-transform\">Privacy Policy</span>\\n                        </a>\\n                        <a class=\"\" href=\"/account/api/ccpa-intake?native=false&amp;type=sod\">\\n                            <span class=\"u-sentenceCase u-sentenceCase--no-transform\">Do Not Sell My Personal Information</span>\\n                        </a>\\n                        <a class=\"\" href=\"/account/api/ccpa-intake?native=false&amp;type=access\">\\n                            <span class=\"u-sentenceCase u-sentenceCase--no-transform\">Request My Personal Information</span>\\n                        </a>\\n                    </div>\\n                    <div class=\"right-section\">\\n                        <p class=\"copy-base-ny\">©2023 Walmart Stores, Inc.</p>\\n                    </div>\\n                </div>\\n            </div>\\n        </div>\\n</body>\\n\\n</html>\\n'"
      ]
     },
     "execution_count": 29,
     "metadata": {},
     "output_type": "execute_result"
    }
   ],
   "source": [
    "response.text"
   ]
  },
  {
   "cell_type": "code",
   "execution_count": 24,
   "metadata": {},
   "outputs": [],
   "source": [
    "from bs4 import BeautifulSoup as bsoup"
   ]
  },
  {
   "cell_type": "code",
   "execution_count": 30,
   "metadata": {},
   "outputs": [],
   "source": [
    "soup = bsoup(response.text, 'lxml')"
   ]
  },
  {
   "cell_type": "code",
   "execution_count": 41,
   "metadata": {},
   "outputs": [
    {
     "name": "stdout",
     "output_type": "stream",
     "text": [
      "[]\n"
     ]
    }
   ],
   "source": [
    "#telescope_containers = soup.find_all('div',{\"class\":\"mb0 ph1 pa0-xl bb b--near-white w-25\"})\n",
    "#telescope_containers=soup.find_all('div', {\"class\":\"h-100 pb1-xl pr4-xl pv1 ph1\"})\n",
    "telescope_containers=soup.find_all('div', {\"data-testid\":\"flex-container\"})\n",
    "print(telescope_containers)"
   ]
  },
  {
   "cell_type": "code",
   "execution_count": 34,
   "metadata": {},
   "outputs": [
    {
     "ename": "IndexError",
     "evalue": "list index out of range",
     "output_type": "error",
     "traceback": [
      "\u001b[1;31m---------------------------------------------------------------------------\u001b[0m",
      "\u001b[1;31mIndexError\u001b[0m                                Traceback (most recent call last)",
      "\u001b[1;32mc:\\Users\\KOSEK\\Documents\\DU\\DataScience\\COMP 4447\\Notes\\Week 3\\Web_Scrapping.ipynb Cell 35\u001b[0m line \u001b[0;36m<module>\u001b[1;34m\u001b[0m\n\u001b[1;32m----> <a href='vscode-notebook-cell:/c%3A/Users/KOSEK/Documents/DU/DataScience/COMP%204447/Notes/Week%203/Web_Scrapping.ipynb#X50sZmlsZQ%3D%3D?line=0'>1</a>\u001b[0m telescope_container \u001b[39m=\u001b[39m telescope_containers[\u001b[39m1\u001b[39;49m]\n",
      "\u001b[1;31mIndexError\u001b[0m: list index out of range"
     ]
    }
   ],
   "source": [
    "telescope_container = telescope_containers[1]"
   ]
  }
 ],
 "metadata": {
  "celltoolbar": "Slideshow",
  "kernelspec": {
   "display_name": "Python 3",
   "language": "python",
   "name": "python3"
  },
  "language_info": {
   "codemirror_mode": {
    "name": "ipython",
    "version": 3
   },
   "file_extension": ".py",
   "mimetype": "text/x-python",
   "name": "python",
   "nbconvert_exporter": "python",
   "pygments_lexer": "ipython3",
   "version": "3.11.6"
  }
 },
 "nbformat": 4,
 "nbformat_minor": 2
}
