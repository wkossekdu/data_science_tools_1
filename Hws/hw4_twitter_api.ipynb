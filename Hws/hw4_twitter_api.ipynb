{
 "cells": [
  {
   "cell_type": "markdown",
   "metadata": {},
   "source": [
    "# Total points 8"
   ]
  },
  {
   "cell_type": "markdown",
   "metadata": {},
   "source": [
    "# In  the homework\n",
    "- We'll collect climate change related tweet from twitter using REST API\n",
    "- Use tweets to populate Pandas DataFrames\n",
    "- Perform some elementary pandas operation to check data sanity\n",
    "\n",
    "\n",
    "**Please read**\n",
    "\n",
    "- https://developer.twitter.com/en/developer-terms/more-on-restricted-use-cases\n"
   ]
  },
  {
   "cell_type": "markdown",
   "metadata": {},
   "source": [
    "Before proceeding with homework.\n",
    "\n",
    "<font size=\"6\" color='red'> Create new app at https://apps.twitter.com/app/new  (You may have to create twitter account before this) </font>\n",
    "\n",
    "\n",
    "\n"
   ]
  },
  {
   "cell_type": "markdown",
   "metadata": {},
   "source": [
    "[twitter api reference index](https://developer.twitter.com/en/docs/api-reference-index)\n",
    "\n",
    "\n",
    "# POST oauth2/token\n",
    "Allows a registered application to obtain an OAuth 2 Bearer Token, which can be used to make API requests on an application's own behalf, without a user context.\n",
    "https://developer.twitter.com/en/docs/basics/authentication/api-reference/token\n"
   ]
  },
  {
   "cell_type": "markdown",
   "metadata": {},
   "source": [
    "Once you have create app, click on app details and keys and token tab\n",
    "\n",
    "<font size=\"6\" color='red'> write API key value for client_key and API secret key value for client_secret in the next cell</font>"
   ]
  },
  {
   "cell_type": "code",
   "execution_count": null,
   "metadata": {},
   "outputs": [],
   "source": [
    "client_key = #write your API key\n",
    "client_secret =  #write your API secret key "
   ]
  },
  {
   "cell_type": "code",
   "execution_count": null,
   "metadata": {},
   "outputs": [],
   "source": [
    "import requests\n",
    "import base64\n",
    "\n",
    "key_secret = '{}:{}'.format(client_key, client_secret).encode('ascii')\n",
    "b64_encoded_key = base64.b64encode(key_secret)\n",
    "b64_encoded_key = b64_encoded_key.decode('ascii')"
   ]
  },
  {
   "cell_type": "code",
   "execution_count": 4,
   "metadata": {},
   "outputs": [],
   "source": [
    "base_url = 'https://api.twitter.com/'\n",
    "auth_endpoint = base_url+'oauth2/token'\n",
    "\n",
    "auth_headers = { 'Authorization': 'Basic {}'.format(b64_encoded_key),\n",
    "                'Content-Type': 'application/x-www-form-urlencoded;charset=UTF-8'}\n",
    "\n",
    "auth_data = { 'grant_type': 'client_credentials'}\n",
    "\n"
   ]
  },
  {
   "cell_type": "markdown",
   "metadata": {},
   "source": [
    "Let's post to authentication endpoint and get the token to be used in subsequent REST API call"
   ]
  },
  {
   "cell_type": "code",
   "execution_count": 5,
   "metadata": {},
   "outputs": [
    {
     "data": {
      "text/plain": [
       "200"
      ]
     },
     "execution_count": 5,
     "metadata": {},
     "output_type": "execute_result"
    }
   ],
   "source": [
    "response = requests.post(auth_endpoint, headers=auth_headers, data=auth_data)\n",
    "response.status_code"
   ]
  },
  {
   "cell_type": "code",
   "execution_count": 6,
   "metadata": {},
   "outputs": [
    {
     "data": {
      "text/plain": [
       "{'token_type': 'bearer',\n",
       " 'access_token': 'AAAAAAAAAAAAAAAAAAAAAB%2FRYgEAAAAAX6%2BAKiphwwLFPl9cLKpSAiK%2FqB8%3DGm5aXL6goP919Zzw2zr1vRgZU9LKIknUYXTlVxvBK7AtAVklxQ'}"
      ]
     },
     "execution_count": 6,
     "metadata": {},
     "output_type": "execute_result"
    }
   ],
   "source": [
    "json_data =  response.json()\n",
    "json_data"
   ]
  },
  {
   "cell_type": "code",
   "execution_count": 7,
   "metadata": {},
   "outputs": [],
   "source": [
    "access_token = json_data['access_token']"
   ]
  },
  {
   "cell_type": "markdown",
   "metadata": {},
   "source": [
    "# Let's do some search on climate change\n",
    "This is how we got search endpoint\n",
    "\n",
    "https://developer.twitter.com/en/docs/tweets/search/api-reference/get-search-tweets"
   ]
  },
  {
   "cell_type": "code",
   "execution_count": 12,
   "metadata": {},
   "outputs": [],
   "source": [
    "max_tweets=100\n",
    "tw_limit=100# we can get only 100 tweet per call with standard search api\n",
    "tweets = []\n",
    "users =[]"
   ]
  },
  {
   "cell_type": "code",
   "execution_count": 18,
   "metadata": {},
   "outputs": [],
   "source": [
    "search_headers = {'Authorization': 'Bearer {}'.format(access_token)    \n",
    "}\n",
    "\n",
    "parameters = { 'query': 'climate change',\n",
    "                'max_results': 100,\n",
    "                'expansions' :'author_id,referenced_tweets.id',\n",
    "                'tweet.fields' : 'created_at,entities,source,in_reply_to_user_id,geo,lang,public_metrics,reply_settings,referenced_tweets,conversation_id',\n",
    "                'user.fields': 'created_at,description,entities,id,location,name,pinned_tweet_id,profile_image_url,protected,public_metrics,url,username,verified,withheld'}\n",
    "\n",
    "search_url = base_url+'2/tweets/search/recent'\n",
    "\n",
    "response = requests.get(search_url, headers=search_headers, params=parameters)"
   ]
  },
  {
   "cell_type": "code",
   "execution_count": 19,
   "metadata": {
    "scrolled": true
   },
   "outputs": [],
   "source": [
    "climate_tweets = response.json()\n"
   ]
  },
  {
   "cell_type": "code",
   "execution_count": 41,
   "metadata": {},
   "outputs": [
    {
     "data": {
      "text/plain": [
       "100"
      ]
     },
     "execution_count": 41,
     "metadata": {},
     "output_type": "execute_result"
    }
   ],
   "source": [
    "len(climate_tweets['data'])"
   ]
  },
  {
   "cell_type": "code",
   "execution_count": 42,
   "metadata": {},
   "outputs": [],
   "source": [
    "tweets +=climate_tweets['data']\n"
   ]
  },
  {
   "cell_type": "code",
   "execution_count": 43,
   "metadata": {},
   "outputs": [],
   "source": [
    "\n",
    " ids = [tw['id'] for tw in climate_tweets['data']]\n",
    "    "
   ]
  },
  {
   "cell_type": "code",
   "execution_count": 44,
   "metadata": {},
   "outputs": [],
   "source": [
    "min_id = min(ids)"
   ]
  },
  {
   "cell_type": "code",
   "execution_count": 45,
   "metadata": {},
   "outputs": [],
   "source": [
    "tw_ids = []\n",
    "tw_ids+=ids"
   ]
  },
  {
   "cell_type": "markdown",
   "metadata": {},
   "source": [
    "As per twitter api documentation we can use\n",
    "\n",
    "until_id:Returns results with an ID less than (that is, older than) or equal to the specified ID.\n",
    "\n",
    "to get older tweets"
   ]
  },
  {
   "cell_type": "markdown",
   "metadata": {},
   "source": [
    "# Q1 (.5 points) Modify only *parameters* dictionary in the following code so that subsequent call to climate change search returns older tweets with id less than minimum of previous tweets ids."
   ]
  },
  {
   "cell_type": "code",
   "execution_count": 46,
   "metadata": {},
   "outputs": [],
   "source": [
    " parameters = { 'query': 'climate change',\n",
    "                'max_results': tw_limit,\n",
    "                'expansions' :'author_id,referenced_tweets.id',\n",
    "                'tweet.fields' : 'created_at,entities,source,in_reply_to_user_id,geo,lang,public_metrics,reply_settings,referenced_tweets,conversation_id',\n",
    "                'user.fields': 'created_at,description,entities,id,location,name,pinned_tweet_id,profile_image_url,protected,public_metrics,url,username,verified,withheld'\n",
    "                 }\n",
    "\n",
    "for  i in range(max_tweets//tw_limit -1):\n",
    "    print(\"searching tweets with id  < {}\".format(min_id))\n",
    "    search_url = base_url+'2/tweets/search/recent'\n",
    "    response = requests.get(search_url, headers=search_headers, params=parameters)\n",
    "    climate_tweets = response.json()\n",
    "    ids = [tw['id'] for tw in climate_tweets['statuses']]\n",
    "    tw_ids+=ids\n",
    "    print(i, len(climate_tweets['data']))\n",
    "    min_id = min(ids)\n",
    "    tweets +=climate_tweets['data']\n",
    "    users.extend(climate_tweets['includes']['users'])\n",
    "    if 'next_token' in response.json()['meta']:\n",
    "\t\t\t\t\tparameters['next_token'] = response.json()['meta']['next_token']"
   ]
  },
  {
   "cell_type": "code",
   "execution_count": 47,
   "metadata": {},
   "outputs": [
    {
     "name": "stdout",
     "output_type": "stream",
     "text": [
      "Total tweets retrieved= 300\n"
     ]
    }
   ],
   "source": [
    "print('Total tweets retrieved= {}'.format(len(tweets)))"
   ]
  },
  {
   "cell_type": "markdown",
   "metadata": {},
   "source": [
    "# Let's print some tweets"
   ]
  },
  {
   "cell_type": "code",
   "execution_count": 48,
   "metadata": {},
   "outputs": [],
   "source": [
    "import pprint #pretty-print” arbitrary Python data structures. Tweets object has hierarchical struture\n",
    "max_tweet_to_print=4"
   ]
  },
  {
   "cell_type": "code",
   "execution_count": 28,
   "metadata": {},
   "outputs": [
    {
     "name": "stdout",
     "output_type": "stream",
     "text": [
      "[{'author_id': '1315775267831382018',\n",
      "  'conversation_id': '1526375358383017985',\n",
      "  'created_at': '2022-05-17T23:23:01.000Z',\n",
      "  'entities': {'mentions': [{'end': 16,\n",
      "                             'id': '1497960029374201858',\n",
      "                             'start': 0,\n",
      "                             'username': 'GreenJDandWords'},\n",
      "                            {'end': 31,\n",
      "                             'id': '1004132506805854208',\n",
      "                             'start': 17,\n",
      "                             'username': 'TiemannAmelia'}]},\n",
      "  'id': '1526704873995046912',\n",
      "  'in_reply_to_user_id': '1315775267831382018',\n",
      "  'lang': 'en',\n",
      "  'public_metrics': {'like_count': 0,\n",
      "                     'quote_count': 0,\n",
      "                     'reply_count': 0,\n",
      "                     'retweet_count': 0},\n",
      "  'referenced_tweets': [{'id': '1526704632960909312', 'type': 'replied_to'}],\n",
      "  'reply_settings': 'everyone',\n",
      "  'source': 'Twitter Web App',\n",
      "  'text': '@GreenJDandWords @TiemannAmelia For myself, and most of the nuclear '\n",
      "          'advocates I know, climate change is the primary motivation!  2/2'},\n",
      " {'author_id': '747950508564971520',\n",
      "  'conversation_id': '1526704871457669120',\n",
      "  'created_at': '2022-05-17T23:23:00.000Z',\n",
      "  'entities': {'hashtags': [{'end': 213, 'start': 201, 'tag': '2PencilChat'}]},\n",
      "  'id': '1526704871457669120',\n",
      "  'lang': 'en',\n",
      "  'public_metrics': {'like_count': 0,\n",
      "                     'quote_count': 0,\n",
      "                     'reply_count': 0,\n",
      "                     'retweet_count': 0},\n",
      "  'reply_settings': 'everyone',\n",
      "  'source': 'Twitter for iPad',\n",
      "  'text': 'A2  🌺Joy\\n'\n",
      "          '       🌺 Students need to learn where and how they have food\\n'\n",
      "          '       🌺 To learn about Climate Change students need to know what '\n",
      "          'plants/trees need to thrive \\n'\n",
      "          '       🌺 Understanding Life Cycles \\n'\n",
      "          '#2PencilChat'},\n",
      " {'author_id': '1436492649473708070',\n",
      "  'conversation_id': '1526704868882370561',\n",
      "  'created_at': '2022-05-17T23:23:00.000Z',\n",
      "  'entities': {'mentions': [{'end': 13,\n",
      "                             'id': '1470118590',\n",
      "                             'start': 3,\n",
      "                             'username': 'suzseddon'}]},\n",
      "  'id': '1526704868882370561',\n",
      "  'lang': 'en',\n",
      "  'public_metrics': {'like_count': 0,\n",
      "                     'quote_count': 0,\n",
      "                     'reply_count': 0,\n",
      "                     'retweet_count': 120},\n",
      "  'referenced_tweets': [{'id': '1526661121939329026', 'type': 'retweeted'}],\n",
      "  'reply_settings': 'everyone',\n",
      "  'source': 'Twitter for Android',\n",
      "  'text': 'RT @suzseddon: Why is Prince Charles saying if we don’t tackle '\n",
      "          'climate change,we will have more pandemic’s. Wtf has pandemic’s got '\n",
      "          'to do wi…'},\n",
      " {'author_id': '25661191',\n",
      "  'conversation_id': '1526704866542100480',\n",
      "  'created_at': '2022-05-17T23:22:59.000Z',\n",
      "  'entities': {'mentions': [{'end': 14,\n",
      "                             'id': '1401821178205937664',\n",
      "                             'start': 3,\n",
      "                             'username': 'Greg_T_NSW'},\n",
      "                            {'end': 26,\n",
      "                             'id': '66917778',\n",
      "                             'start': 16,\n",
      "                             'username': 'murpharoo'},\n",
      "                            {'end': 35,\n",
      "                             'id': '31077006',\n",
      "                             'start': 27,\n",
      "                             'username': 'msmarto'}]},\n",
      "  'id': '1526704866542100480',\n",
      "  'lang': 'en',\n",
      "  'public_metrics': {'like_count': 0,\n",
      "                     'quote_count': 0,\n",
      "                     'reply_count': 0,\n",
      "                     'retweet_count': 28},\n",
      "  'referenced_tweets': [{'id': '1526396878828748800', 'type': 'retweeted'}],\n",
      "  'reply_settings': 'everyone',\n",
      "  'source': 'Twitter for Android',\n",
      "  'text': 'RT @Greg_T_NSW: @murpharoo @msmarto The Coalition have cut the '\n",
      "          'Public Service over many years, demoralising staff and reducing '\n",
      "          'services to…'}]\n"
     ]
    }
   ],
   "source": [
    "pprint.pprint(tweets[0:max_tweet_to_print])"
   ]
  },
  {
   "cell_type": "markdown",
   "metadata": {},
   "source": [
    "Link to understand [tweet-object](https://developer.twitter.com/en/docs/tweets/data-dictionary/overview/tweet-object)\n",
    "\n",
    "Let'see some tweets"
   ]
  },
  {
   "cell_type": "code",
   "execution_count": 49,
   "metadata": {},
   "outputs": [
    {
     "name": "stdout",
     "output_type": "stream",
     "text": [
      "@GreenJDandWords @TiemannAmelia For myself, and most of the nuclear advocates I know, climate change is the primary motivation!  2/2\n",
      "\n",
      "A2  🌺Joy\n",
      "       🌺 Students need to learn where and how they have food\n",
      "       🌺 To learn about Climate Change students need to know what plants/trees need to thrive \n",
      "       🌺 Understanding Life Cycles \n",
      "#2PencilChat\n",
      "\n",
      "RT @suzseddon: Why is Prince Charles saying if we don’t tackle climate change,we will have more pandemic’s. Wtf has pandemic’s got to do wi…\n",
      "\n",
      "RT @Greg_T_NSW: @murpharoo @msmarto The Coalition have cut the Public Service over many years, demoralising staff and reducing services to…\n",
      "\n"
     ]
    }
   ],
   "source": [
    "for status in tweets[0:max_tweet_to_print]:\n",
    "    print(status['text'] + '\\n')"
   ]
  },
  {
   "cell_type": "markdown",
   "metadata": {},
   "source": [
    "# Pandas DataFrame for storing tweet feed\n",
    "\n",
    "Create following date frame for storing tweets\n",
    "\n",
    "- **climate_feed_df** DataFrame for storing tweet\n",
    "- **user_df** DataFrame for storing user detail\n",
    "- **retweeted_status_df** for storing original tweet"
   ]
  },
  {
   "cell_type": "markdown",
   "metadata": {},
   "source": [
    "# Printing keys in tweets"
   ]
  },
  {
   "cell_type": "code",
   "execution_count": 56,
   "metadata": {},
   "outputs": [
    {
     "name": "stdout",
     "output_type": "stream",
     "text": [
      "dict_keys(['id', 'entities', 'source', 'conversation_id', 'created_at', 'public_metrics', 'author_id', 'reply_settings', 'lang', 'text'])\n",
      "10\n"
     ]
    }
   ],
   "source": [
    "print(tweets[1].keys())\n",
    "print(len(tweets[1].keys()))\n"
   ]
  },
  {
   "cell_type": "code",
   "execution_count": 57,
   "metadata": {},
   "outputs": [],
   "source": [
    "import pandas as pd\n",
    "import copy"
   ]
  },
  {
   "cell_type": "markdown",
   "metadata": {},
   "source": [
    "# Generators for building DataFrames"
   ]
  },
  {
   "cell_type": "markdown",
   "metadata": {},
   "source": [
    "# Q2 (2 point) Complete following   python generator *tweet_generator*. Generator yield modified tweet .\n",
    "For each tweet in tweets\n",
    "- Replace **author_id** attribute with **user_id**.\n",
    "- Replace **referenced_tweets** attribute with **referenced_tweets_ids** and value(s) with **tweet['referenced_tweets']['id']** value(s).\n",
    "- Keep other attributes in the tweet as such."
   ]
  },
  {
   "cell_type": "code",
   "execution_count": 33,
   "metadata": {},
   "outputs": [],
   "source": [
    "def tweet_generator(tweets):\n",
    "    for tweet in tweets:\n",
    "        modified_tweet= {}\n",
    "        \n",
    "        #Write your code here\n",
    "        \n",
    "        \n",
    "        yield modified_tweet       \n",
    "            \n",
    "            "
   ]
  },
  {
   "cell_type": "code",
   "execution_count": 58,
   "metadata": {},
   "outputs": [],
   "source": [
    "def tweet_generator(tweets):\n",
    "    for tweet in tweets:\n",
    "        try:\n",
    "            modified_tweet = copy.deepcopy(tweet)\n",
    "            modified_tweet['user_id'] = modified_tweet.pop('author_id')\n",
    "            modified_tweet['referenced_tweets_ids'] = modified_tweet['referenced_tweets'][0]['id']\n",
    "            modified_tweet['retweet_count'] = modified_tweet['public_metrics']['retweet_count']\n",
    "            yield modified_tweet     \n",
    "        except KeyError as e:\n",
    "            continue"
   ]
  },
  {
   "cell_type": "code",
   "execution_count": 59,
   "metadata": {},
   "outputs": [
    {
     "data": {
      "text/plain": [
       "[{'id': '1526704873995046912',\n",
       "  'source': 'Twitter Web App',\n",
       "  'referenced_tweets': [{'type': 'replied_to', 'id': '1526704632960909312'}],\n",
       "  'conversation_id': '1526375358383017985',\n",
       "  'created_at': '2022-05-17T23:23:01.000Z',\n",
       "  'public_metrics': {'retweet_count': 0,\n",
       "   'reply_count': 0,\n",
       "   'like_count': 0,\n",
       "   'quote_count': 0},\n",
       "  'entities': {'mentions': [{'start': 0,\n",
       "     'end': 16,\n",
       "     'username': 'GreenJDandWords',\n",
       "     'id': '1497960029374201858'},\n",
       "    {'start': 17,\n",
       "     'end': 31,\n",
       "     'username': 'TiemannAmelia',\n",
       "     'id': '1004132506805854208'}]},\n",
       "  'reply_settings': 'everyone',\n",
       "  'lang': 'en',\n",
       "  'in_reply_to_user_id': '1315775267831382018',\n",
       "  'text': '@GreenJDandWords @TiemannAmelia For myself, and most of the nuclear advocates I know, climate change is the primary motivation!  2/2',\n",
       "  'user_id': '1315775267831382018',\n",
       "  'referenced_tweets_ids': '1526704632960909312',\n",
       "  'retweet_count': 0}]"
      ]
     },
     "execution_count": 59,
     "metadata": {},
     "output_type": "execute_result"
    }
   ],
   "source": [
    "# Checking  generator output\n",
    "list(tweet_generator(tweets[0:2]))"
   ]
  },
  {
   "cell_type": "code",
   "execution_count": 60,
   "metadata": {},
   "outputs": [],
   "source": [
    "climate_feed_df = pd.DataFrame(tweet_generator(tweets))"
   ]
  },
  {
   "cell_type": "code",
   "execution_count": 61,
   "metadata": {},
   "outputs": [
    {
     "data": {
      "text/html": [
       "<div>\n",
       "<style scoped>\n",
       "    .dataframe tbody tr th:only-of-type {\n",
       "        vertical-align: middle;\n",
       "    }\n",
       "\n",
       "    .dataframe tbody tr th {\n",
       "        vertical-align: top;\n",
       "    }\n",
       "\n",
       "    .dataframe thead th {\n",
       "        text-align: right;\n",
       "    }\n",
       "</style>\n",
       "<table border=\"1\" class=\"dataframe\">\n",
       "  <thead>\n",
       "    <tr style=\"text-align: right;\">\n",
       "      <th></th>\n",
       "      <th>id</th>\n",
       "      <th>source</th>\n",
       "      <th>referenced_tweets</th>\n",
       "      <th>conversation_id</th>\n",
       "      <th>created_at</th>\n",
       "      <th>public_metrics</th>\n",
       "      <th>entities</th>\n",
       "      <th>reply_settings</th>\n",
       "      <th>lang</th>\n",
       "      <th>in_reply_to_user_id</th>\n",
       "      <th>text</th>\n",
       "      <th>user_id</th>\n",
       "      <th>referenced_tweets_ids</th>\n",
       "      <th>retweet_count</th>\n",
       "    </tr>\n",
       "  </thead>\n",
       "  <tbody>\n",
       "    <tr>\n",
       "      <th>0</th>\n",
       "      <td>1526704873995046912</td>\n",
       "      <td>Twitter Web App</td>\n",
       "      <td>[{'type': 'replied_to', 'id': '152670463296090...</td>\n",
       "      <td>1526375358383017985</td>\n",
       "      <td>2022-05-17T23:23:01.000Z</td>\n",
       "      <td>{'retweet_count': 0, 'reply_count': 0, 'like_c...</td>\n",
       "      <td>{'mentions': [{'start': 0, 'end': 16, 'usernam...</td>\n",
       "      <td>everyone</td>\n",
       "      <td>en</td>\n",
       "      <td>1315775267831382018</td>\n",
       "      <td>@GreenJDandWords @TiemannAmelia For myself, an...</td>\n",
       "      <td>1315775267831382018</td>\n",
       "      <td>1526704632960909312</td>\n",
       "      <td>0</td>\n",
       "    </tr>\n",
       "    <tr>\n",
       "      <th>1</th>\n",
       "      <td>1526704868882370561</td>\n",
       "      <td>Twitter for Android</td>\n",
       "      <td>[{'type': 'retweeted', 'id': '1526661121939329...</td>\n",
       "      <td>1526704868882370561</td>\n",
       "      <td>2022-05-17T23:23:00.000Z</td>\n",
       "      <td>{'retweet_count': 120, 'reply_count': 0, 'like...</td>\n",
       "      <td>{'mentions': [{'start': 3, 'end': 13, 'usernam...</td>\n",
       "      <td>everyone</td>\n",
       "      <td>en</td>\n",
       "      <td>NaN</td>\n",
       "      <td>RT @suzseddon: Why is Prince Charles saying if...</td>\n",
       "      <td>1436492649473708070</td>\n",
       "      <td>1526661121939329026</td>\n",
       "      <td>120</td>\n",
       "    </tr>\n",
       "    <tr>\n",
       "      <th>2</th>\n",
       "      <td>1526704866542100480</td>\n",
       "      <td>Twitter for Android</td>\n",
       "      <td>[{'type': 'retweeted', 'id': '1526396878828748...</td>\n",
       "      <td>1526704866542100480</td>\n",
       "      <td>2022-05-17T23:22:59.000Z</td>\n",
       "      <td>{'retweet_count': 28, 'reply_count': 0, 'like_...</td>\n",
       "      <td>{'mentions': [{'start': 3, 'end': 14, 'usernam...</td>\n",
       "      <td>everyone</td>\n",
       "      <td>en</td>\n",
       "      <td>NaN</td>\n",
       "      <td>RT @Greg_T_NSW: @murpharoo @msmarto The Coalit...</td>\n",
       "      <td>25661191</td>\n",
       "      <td>1526396878828748800</td>\n",
       "      <td>28</td>\n",
       "    </tr>\n",
       "    <tr>\n",
       "      <th>3</th>\n",
       "      <td>1526704835365462016</td>\n",
       "      <td>Twitter for Android</td>\n",
       "      <td>[{'type': 'retweeted', 'id': '1526283394526679...</td>\n",
       "      <td>1526704835365462016</td>\n",
       "      <td>2022-05-17T23:22:52.000Z</td>\n",
       "      <td>{'retweet_count': 10, 'reply_count': 0, 'like_...</td>\n",
       "      <td>{'mentions': [{'start': 3, 'end': 14, 'usernam...</td>\n",
       "      <td>everyone</td>\n",
       "      <td>en</td>\n",
       "      <td>NaN</td>\n",
       "      <td>RT @Blue22Dave: The sky is falling! Sky is blu...</td>\n",
       "      <td>2849064914</td>\n",
       "      <td>1526283394526679040</td>\n",
       "      <td>10</td>\n",
       "    </tr>\n",
       "    <tr>\n",
       "      <th>4</th>\n",
       "      <td>1526704822941937664</td>\n",
       "      <td>Twitter for Android</td>\n",
       "      <td>[{'type': 'retweeted', 'id': '1526704312860409...</td>\n",
       "      <td>1526704822941937664</td>\n",
       "      <td>2022-05-17T23:22:49.000Z</td>\n",
       "      <td>{'retweet_count': 2, 'reply_count': 0, 'like_c...</td>\n",
       "      <td>{'mentions': [{'start': 3, 'end': 13, 'usernam...</td>\n",
       "      <td>everyone</td>\n",
       "      <td>en</td>\n",
       "      <td>NaN</td>\n",
       "      <td>RT @MrDenmore: The public cares most about cli...</td>\n",
       "      <td>442562435</td>\n",
       "      <td>1526704312860409856</td>\n",
       "      <td>2</td>\n",
       "    </tr>\n",
       "    <tr>\n",
       "      <th>...</th>\n",
       "      <td>...</td>\n",
       "      <td>...</td>\n",
       "      <td>...</td>\n",
       "      <td>...</td>\n",
       "      <td>...</td>\n",
       "      <td>...</td>\n",
       "      <td>...</td>\n",
       "      <td>...</td>\n",
       "      <td>...</td>\n",
       "      <td>...</td>\n",
       "      <td>...</td>\n",
       "      <td>...</td>\n",
       "      <td>...</td>\n",
       "      <td>...</td>\n",
       "    </tr>\n",
       "    <tr>\n",
       "      <th>263</th>\n",
       "      <td>1526704563306532864</td>\n",
       "      <td>Twitter Web App</td>\n",
       "      <td>[{'type': 'retweeted', 'id': '1526492333973286...</td>\n",
       "      <td>1526704563306532864</td>\n",
       "      <td>2022-05-17T23:21:47.000Z</td>\n",
       "      <td>{'retweet_count': 345, 'reply_count': 0, 'like...</td>\n",
       "      <td>{'hashtags': [{'start': 42, 'end': 49, 'tag': ...</td>\n",
       "      <td>everyone</td>\n",
       "      <td>en</td>\n",
       "      <td>NaN</td>\n",
       "      <td>RT @vanbadham: Here’s a question for you, #aus...</td>\n",
       "      <td>1482269324337647617</td>\n",
       "      <td>1526492333973286913</td>\n",
       "      <td>345</td>\n",
       "    </tr>\n",
       "    <tr>\n",
       "      <th>264</th>\n",
       "      <td>1526704562303815680</td>\n",
       "      <td>Twitter for iPhone</td>\n",
       "      <td>[{'type': 'retweeted', 'id': '1526600610165841...</td>\n",
       "      <td>1526704562303815680</td>\n",
       "      <td>2022-05-17T23:21:47.000Z</td>\n",
       "      <td>{'retweet_count': 1761, 'reply_count': 0, 'lik...</td>\n",
       "      <td>{'mentions': [{'start': 3, 'end': 15, 'usernam...</td>\n",
       "      <td>everyone</td>\n",
       "      <td>en</td>\n",
       "      <td>NaN</td>\n",
       "      <td>RT @GavinNewsom: What a “pro-life” agenda ACTU...</td>\n",
       "      <td>1302639795714351104</td>\n",
       "      <td>1526600610165841921</td>\n",
       "      <td>1761</td>\n",
       "    </tr>\n",
       "    <tr>\n",
       "      <th>265</th>\n",
       "      <td>1526704556125585408</td>\n",
       "      <td>Twitter for Android</td>\n",
       "      <td>[{'type': 'retweeted', 'id': '1526703477103149...</td>\n",
       "      <td>1526704556125585408</td>\n",
       "      <td>2022-05-17T23:21:45.000Z</td>\n",
       "      <td>{'retweet_count': 2, 'reply_count': 0, 'like_c...</td>\n",
       "      <td>{'annotations': [{'start': 34, 'end': 89, 'pro...</td>\n",
       "      <td>everyone</td>\n",
       "      <td>en</td>\n",
       "      <td>NaN</td>\n",
       "      <td>RT @shanthropology: Today’s read: The Rise of ...</td>\n",
       "      <td>950085594478202880</td>\n",
       "      <td>1526703477103149056</td>\n",
       "      <td>2</td>\n",
       "    </tr>\n",
       "    <tr>\n",
       "      <th>266</th>\n",
       "      <td>1526704555064340480</td>\n",
       "      <td>Twitter for Android</td>\n",
       "      <td>[{'type': 'retweeted', 'id': '1526704202902274...</td>\n",
       "      <td>1526704555064340480</td>\n",
       "      <td>2022-05-17T23:21:45.000Z</td>\n",
       "      <td>{'retweet_count': 1, 'reply_count': 0, 'like_c...</td>\n",
       "      <td>{'mentions': [{'start': 3, 'end': 14, 'usernam...</td>\n",
       "      <td>everyone</td>\n",
       "      <td>en</td>\n",
       "      <td>NaN</td>\n",
       "      <td>RT @PerkasaJoB: Lack of organic content turns ...</td>\n",
       "      <td>133347754</td>\n",
       "      <td>1526704202902274048</td>\n",
       "      <td>1</td>\n",
       "    </tr>\n",
       "    <tr>\n",
       "      <th>267</th>\n",
       "      <td>1526704533300293632</td>\n",
       "      <td>Twitter for iPhone</td>\n",
       "      <td>[{'type': 'retweeted', 'id': '1526568188577816...</td>\n",
       "      <td>1526704533300293632</td>\n",
       "      <td>2022-05-17T23:21:40.000Z</td>\n",
       "      <td>{'retweet_count': 430, 'reply_count': 0, 'like...</td>\n",
       "      <td>{'mentions': [{'start': 3, 'end': 14, 'usernam...</td>\n",
       "      <td>everyone</td>\n",
       "      <td>en</td>\n",
       "      <td>NaN</td>\n",
       "      <td>RT @ClareSaxon: Because if they told the truth...</td>\n",
       "      <td>163045031</td>\n",
       "      <td>1526568188577816576</td>\n",
       "      <td>430</td>\n",
       "    </tr>\n",
       "  </tbody>\n",
       "</table>\n",
       "<p>268 rows × 14 columns</p>\n",
       "</div>"
      ],
      "text/plain": [
       "                      id               source  \\\n",
       "0    1526704873995046912      Twitter Web App   \n",
       "1    1526704868882370561  Twitter for Android   \n",
       "2    1526704866542100480  Twitter for Android   \n",
       "3    1526704835365462016  Twitter for Android   \n",
       "4    1526704822941937664  Twitter for Android   \n",
       "..                   ...                  ...   \n",
       "263  1526704563306532864      Twitter Web App   \n",
       "264  1526704562303815680   Twitter for iPhone   \n",
       "265  1526704556125585408  Twitter for Android   \n",
       "266  1526704555064340480  Twitter for Android   \n",
       "267  1526704533300293632   Twitter for iPhone   \n",
       "\n",
       "                                     referenced_tweets      conversation_id  \\\n",
       "0    [{'type': 'replied_to', 'id': '152670463296090...  1526375358383017985   \n",
       "1    [{'type': 'retweeted', 'id': '1526661121939329...  1526704868882370561   \n",
       "2    [{'type': 'retweeted', 'id': '1526396878828748...  1526704866542100480   \n",
       "3    [{'type': 'retweeted', 'id': '1526283394526679...  1526704835365462016   \n",
       "4    [{'type': 'retweeted', 'id': '1526704312860409...  1526704822941937664   \n",
       "..                                                 ...                  ...   \n",
       "263  [{'type': 'retweeted', 'id': '1526492333973286...  1526704563306532864   \n",
       "264  [{'type': 'retweeted', 'id': '1526600610165841...  1526704562303815680   \n",
       "265  [{'type': 'retweeted', 'id': '1526703477103149...  1526704556125585408   \n",
       "266  [{'type': 'retweeted', 'id': '1526704202902274...  1526704555064340480   \n",
       "267  [{'type': 'retweeted', 'id': '1526568188577816...  1526704533300293632   \n",
       "\n",
       "                   created_at  \\\n",
       "0    2022-05-17T23:23:01.000Z   \n",
       "1    2022-05-17T23:23:00.000Z   \n",
       "2    2022-05-17T23:22:59.000Z   \n",
       "3    2022-05-17T23:22:52.000Z   \n",
       "4    2022-05-17T23:22:49.000Z   \n",
       "..                        ...   \n",
       "263  2022-05-17T23:21:47.000Z   \n",
       "264  2022-05-17T23:21:47.000Z   \n",
       "265  2022-05-17T23:21:45.000Z   \n",
       "266  2022-05-17T23:21:45.000Z   \n",
       "267  2022-05-17T23:21:40.000Z   \n",
       "\n",
       "                                        public_metrics  \\\n",
       "0    {'retweet_count': 0, 'reply_count': 0, 'like_c...   \n",
       "1    {'retweet_count': 120, 'reply_count': 0, 'like...   \n",
       "2    {'retweet_count': 28, 'reply_count': 0, 'like_...   \n",
       "3    {'retweet_count': 10, 'reply_count': 0, 'like_...   \n",
       "4    {'retweet_count': 2, 'reply_count': 0, 'like_c...   \n",
       "..                                                 ...   \n",
       "263  {'retweet_count': 345, 'reply_count': 0, 'like...   \n",
       "264  {'retweet_count': 1761, 'reply_count': 0, 'lik...   \n",
       "265  {'retweet_count': 2, 'reply_count': 0, 'like_c...   \n",
       "266  {'retweet_count': 1, 'reply_count': 0, 'like_c...   \n",
       "267  {'retweet_count': 430, 'reply_count': 0, 'like...   \n",
       "\n",
       "                                              entities reply_settings lang  \\\n",
       "0    {'mentions': [{'start': 0, 'end': 16, 'usernam...       everyone   en   \n",
       "1    {'mentions': [{'start': 3, 'end': 13, 'usernam...       everyone   en   \n",
       "2    {'mentions': [{'start': 3, 'end': 14, 'usernam...       everyone   en   \n",
       "3    {'mentions': [{'start': 3, 'end': 14, 'usernam...       everyone   en   \n",
       "4    {'mentions': [{'start': 3, 'end': 13, 'usernam...       everyone   en   \n",
       "..                                                 ...            ...  ...   \n",
       "263  {'hashtags': [{'start': 42, 'end': 49, 'tag': ...       everyone   en   \n",
       "264  {'mentions': [{'start': 3, 'end': 15, 'usernam...       everyone   en   \n",
       "265  {'annotations': [{'start': 34, 'end': 89, 'pro...       everyone   en   \n",
       "266  {'mentions': [{'start': 3, 'end': 14, 'usernam...       everyone   en   \n",
       "267  {'mentions': [{'start': 3, 'end': 14, 'usernam...       everyone   en   \n",
       "\n",
       "     in_reply_to_user_id                                               text  \\\n",
       "0    1315775267831382018  @GreenJDandWords @TiemannAmelia For myself, an...   \n",
       "1                    NaN  RT @suzseddon: Why is Prince Charles saying if...   \n",
       "2                    NaN  RT @Greg_T_NSW: @murpharoo @msmarto The Coalit...   \n",
       "3                    NaN  RT @Blue22Dave: The sky is falling! Sky is blu...   \n",
       "4                    NaN  RT @MrDenmore: The public cares most about cli...   \n",
       "..                   ...                                                ...   \n",
       "263                  NaN  RT @vanbadham: Here’s a question for you, #aus...   \n",
       "264                  NaN  RT @GavinNewsom: What a “pro-life” agenda ACTU...   \n",
       "265                  NaN  RT @shanthropology: Today’s read: The Rise of ...   \n",
       "266                  NaN  RT @PerkasaJoB: Lack of organic content turns ...   \n",
       "267                  NaN  RT @ClareSaxon: Because if they told the truth...   \n",
       "\n",
       "                 user_id referenced_tweets_ids  retweet_count  \n",
       "0    1315775267831382018   1526704632960909312              0  \n",
       "1    1436492649473708070   1526661121939329026            120  \n",
       "2               25661191   1526396878828748800             28  \n",
       "3             2849064914   1526283394526679040             10  \n",
       "4              442562435   1526704312860409856              2  \n",
       "..                   ...                   ...            ...  \n",
       "263  1482269324337647617   1526492333973286913            345  \n",
       "264  1302639795714351104   1526600610165841921           1761  \n",
       "265   950085594478202880   1526703477103149056              2  \n",
       "266            133347754   1526704202902274048              1  \n",
       "267            163045031   1526568188577816576            430  \n",
       "\n",
       "[268 rows x 14 columns]"
      ]
     },
     "execution_count": 61,
     "metadata": {},
     "output_type": "execute_result"
    }
   ],
   "source": [
    "climate_feed_df"
   ]
  },
  {
   "cell_type": "markdown",
   "metadata": {},
   "source": [
    "# Q3(1 points) List datatype using climate_feed_df. Describe which attributes doesn't have correct data types. What should be correct datatype?"
   ]
  },
  {
   "cell_type": "code",
   "execution_count": null,
   "metadata": {},
   "outputs": [],
   "source": [
    "# write code here datatype listing\n"
   ]
  },
  {
   "cell_type": "markdown",
   "metadata": {},
   "source": [
    "# Write columns with wrong datatype and mention correct data type too.\n",
    "\n",
    "*double click this cell to edit*\n"
   ]
  },
  {
   "cell_type": "markdown",
   "metadata": {},
   "source": [
    "# Q4 (1.5 point) Complete following tweet_user_generator. Generator should yield only *user* value from a tweet\n",
    "\n",
    "- As per the twitter API the user information is in the 'users' object within the 'includes' object of the response."
   ]
  },
  {
   "cell_type": "code",
   "execution_count": null,
   "metadata": {},
   "outputs": [],
   "source": [
    "def tweet_user_generator(tweets):\n",
    "# write code here  \n"
   ]
  },
  {
   "cell_type": "code",
   "execution_count": 66,
   "metadata": {},
   "outputs": [],
   "source": [
    "user_df = pd.DataFrame(tweet_user_generator(climate_tweets))"
   ]
  },
  {
   "cell_type": "code",
   "execution_count": 67,
   "metadata": {},
   "outputs": [
    {
     "data": {
      "text/html": [
       "<div>\n",
       "<style scoped>\n",
       "    .dataframe tbody tr th:only-of-type {\n",
       "        vertical-align: middle;\n",
       "    }\n",
       "\n",
       "    .dataframe tbody tr th {\n",
       "        vertical-align: top;\n",
       "    }\n",
       "\n",
       "    .dataframe thead th {\n",
       "        text-align: right;\n",
       "    }\n",
       "</style>\n",
       "<table border=\"1\" class=\"dataframe\">\n",
       "  <thead>\n",
       "    <tr style=\"text-align: right;\">\n",
       "      <th></th>\n",
       "      <th>0</th>\n",
       "    </tr>\n",
       "  </thead>\n",
       "  <tbody>\n",
       "    <tr>\n",
       "      <th>0</th>\n",
       "      <td>data</td>\n",
       "    </tr>\n",
       "    <tr>\n",
       "      <th>1</th>\n",
       "      <td>includes</td>\n",
       "    </tr>\n",
       "    <tr>\n",
       "      <th>2</th>\n",
       "      <td>meta</td>\n",
       "    </tr>\n",
       "  </tbody>\n",
       "</table>\n",
       "</div>"
      ],
      "text/plain": [
       "          0\n",
       "0      data\n",
       "1  includes\n",
       "2      meta"
      ]
     },
     "execution_count": 67,
     "metadata": {},
     "output_type": "execute_result"
    }
   ],
   "source": [
    "user_df"
   ]
  },
  {
   "cell_type": "markdown",
   "metadata": {},
   "source": [
    "# Q5(1 point) List datatypes of columns using user_df. Describe which attributes doesn't have correct data types. What should be correct datatype for each case?"
   ]
  },
  {
   "cell_type": "code",
   "execution_count": null,
   "metadata": {},
   "outputs": [],
   "source": [
    "# write code here for datatype listing\n",
    "\n"
   ]
  },
  {
   "cell_type": "markdown",
   "metadata": {},
   "source": [
    "# write columns with wrong datatype and mention correct data type too.\n",
    "\n",
    "*double click this cell to edit*"
   ]
  },
  {
   "cell_type": "markdown",
   "metadata": {},
   "source": [
    "# Q6 (1 point) Complete following retweeted_status_generator. Generator should yield dictionary of retweeted_status value from each tweet. If a tweet doesn't have this key return empty dictionary.\n",
    "\n",
    "- As per the twitter API the user information is in the 'users' object within the 'includes' object of the response."
   ]
  },
  {
   "cell_type": "code",
   "execution_count": 69,
   "metadata": {},
   "outputs": [],
   "source": [
    "retweeted_status_df = climate_feed_df[['id', 'retweet_count']]"
   ]
  },
  {
   "cell_type": "code",
   "execution_count": 70,
   "metadata": {},
   "outputs": [
    {
     "data": {
      "text/html": [
       "<div>\n",
       "<style scoped>\n",
       "    .dataframe tbody tr th:only-of-type {\n",
       "        vertical-align: middle;\n",
       "    }\n",
       "\n",
       "    .dataframe tbody tr th {\n",
       "        vertical-align: top;\n",
       "    }\n",
       "\n",
       "    .dataframe thead th {\n",
       "        text-align: right;\n",
       "    }\n",
       "</style>\n",
       "<table border=\"1\" class=\"dataframe\">\n",
       "  <thead>\n",
       "    <tr style=\"text-align: right;\">\n",
       "      <th></th>\n",
       "      <th>id</th>\n",
       "      <th>retweet_count</th>\n",
       "    </tr>\n",
       "  </thead>\n",
       "  <tbody>\n",
       "    <tr>\n",
       "      <th>0</th>\n",
       "      <td>1526704873995046912</td>\n",
       "      <td>0</td>\n",
       "    </tr>\n",
       "    <tr>\n",
       "      <th>1</th>\n",
       "      <td>1526704868882370561</td>\n",
       "      <td>120</td>\n",
       "    </tr>\n",
       "    <tr>\n",
       "      <th>2</th>\n",
       "      <td>1526704866542100480</td>\n",
       "      <td>28</td>\n",
       "    </tr>\n",
       "    <tr>\n",
       "      <th>3</th>\n",
       "      <td>1526704835365462016</td>\n",
       "      <td>10</td>\n",
       "    </tr>\n",
       "    <tr>\n",
       "      <th>4</th>\n",
       "      <td>1526704822941937664</td>\n",
       "      <td>2</td>\n",
       "    </tr>\n",
       "  </tbody>\n",
       "</table>\n",
       "</div>"
      ],
      "text/plain": [
       "                    id  retweet_count\n",
       "0  1526704873995046912              0\n",
       "1  1526704868882370561            120\n",
       "2  1526704866542100480             28\n",
       "3  1526704835365462016             10\n",
       "4  1526704822941937664              2"
      ]
     },
     "execution_count": 70,
     "metadata": {},
     "output_type": "execute_result"
    }
   ],
   "source": [
    "retweeted_status_df.head()"
   ]
  },
  {
   "cell_type": "markdown",
   "metadata": {},
   "source": [
    "# Q7 (1 point) Write code to find number of rows in retweeted_status_df that were not retweeted. print number of such rows."
   ]
  },
  {
   "cell_type": "code",
   "execution_count": null,
   "metadata": {},
   "outputs": [],
   "source": [
    "# Write code here\n"
   ]
  }
 ],
 "metadata": {
  "kernelspec": {
   "display_name": "Python 3 (ipykernel)",
   "language": "python",
   "name": "python3"
  },
  "language_info": {
   "codemirror_mode": {
    "name": "ipython",
    "version": 3
   },
   "file_extension": ".py",
   "mimetype": "text/x-python",
   "name": "python",
   "nbconvert_exporter": "python",
   "pygments_lexer": "ipython3",
   "version": "3.10.0"
  },
  "toc": {
   "base_numbering": 1,
   "nav_menu": {},
   "number_sections": false,
   "sideBar": true,
   "skip_h1_title": false,
   "title_cell": "Table of Contents",
   "title_sidebar": "Contents",
   "toc_cell": false,
   "toc_position": {},
   "toc_section_display": true,
   "toc_window_display": false
  },
  "varInspector": {
   "cols": {
    "lenName": 16,
    "lenType": 16,
    "lenVar": 40
   },
   "kernels_config": {
    "python": {
     "delete_cmd_postfix": "",
     "delete_cmd_prefix": "del ",
     "library": "var_list.py",
     "varRefreshCmd": "print(var_dic_list())"
    },
    "r": {
     "delete_cmd_postfix": ") ",
     "delete_cmd_prefix": "rm(",
     "library": "var_list.r",
     "varRefreshCmd": "cat(var_dic_list()) "
    }
   },
   "types_to_exclude": [
    "module",
    "function",
    "builtin_function_or_method",
    "instance",
    "_Feature"
   ],
   "window_display": false
  }
 },
 "nbformat": 4,
 "nbformat_minor": 2
}
